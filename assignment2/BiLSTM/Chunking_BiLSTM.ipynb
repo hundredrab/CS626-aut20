{
  "nbformat": 4,
  "nbformat_minor": 0,
  "metadata": {
    "colab": {
      "name": "Chunking::BiLSTM",
      "provenance": [],
      "collapsed_sections": [],
      "include_colab_link": true
    },
    "kernelspec": {
      "name": "python3",
      "display_name": "Python 3"
    }
  },
  "cells": [
    {
      "cell_type": "markdown",
      "metadata": {
        "id": "view-in-github",
        "colab_type": "text"
      },
      "source": [
        "<a href=\"https://colab.research.google.com/github/hundredrab/CS626-aut20/blob/master/assignment2/BiLSTM/Chunking_BiLSTM.ipynb\" target=\"_parent\"><img src=\"https://colab.research.google.com/assets/colab-badge.svg\" alt=\"Open In Colab\"/></a>"
      ]
    },
    {
      "cell_type": "markdown",
      "metadata": {
        "id": "IYD0NKkGWllW"
      },
      "source": [
        "Downloading data"
      ]
    },
    {
      "cell_type": "code",
      "metadata": {
        "id": "SFpf8Y6vSyeZ",
        "outputId": "0a63b765-1868-4c1b-d5df-6d1547c84f7f",
        "colab": {
          "base_uri": "https://localhost:8080/",
          "height": 52
        }
      },
      "source": [
        "!pip install nltk"
      ],
      "execution_count": null,
      "outputs": [
        {
          "output_type": "stream",
          "text": [
            "Requirement already satisfied: nltk in /usr/local/lib/python3.6/dist-packages (3.2.5)\n",
            "Requirement already satisfied: six in /usr/local/lib/python3.6/dist-packages (from nltk) (1.15.0)\n"
          ],
          "name": "stdout"
        }
      ]
    },
    {
      "cell_type": "code",
      "metadata": {
        "id": "b1cwa5pYljOG",
        "outputId": "9dca0790-fb3b-4cad-ded0-357b86e0967b",
        "colab": {
          "base_uri": "https://localhost:8080/",
          "height": 121
        }
      },
      "source": [
        "import numpy as np\n",
        "\n",
        "import torch\n",
        "import torch.nn as nn\n",
        "import torch.nn.functional as F\n",
        "\n",
        "from gensim.models import Word2Vec\n",
        "\n",
        "import nltk\n",
        "nltk.download('brown')\n",
        "nltk.download('universal_tagset')\n",
        "nltk.download('punkt')\n",
        "\n",
        "tagged_sentences = nltk.corpus.brown.tagged_sents(tagset='universal')"
      ],
      "execution_count": null,
      "outputs": [
        {
          "output_type": "stream",
          "text": [
            "[nltk_data] Downloading package brown to /root/nltk_data...\n",
            "[nltk_data]   Unzipping corpora/brown.zip.\n",
            "[nltk_data] Downloading package universal_tagset to /root/nltk_data...\n",
            "[nltk_data]   Unzipping taggers/universal_tagset.zip.\n",
            "[nltk_data] Downloading package punkt to /root/nltk_data...\n",
            "[nltk_data]   Unzipping tokenizers/punkt.zip.\n"
          ],
          "name": "stdout"
        }
      ]
    },
    {
      "cell_type": "code",
      "metadata": {
        "id": "2JbD-owbhqO9",
        "outputId": "5629ef52-286c-43e4-ba81-462567408bd9",
        "colab": {
          "base_uri": "https://localhost:8080/",
          "height": 208
        }
      },
      "source": [
        "# Glove dictionary 300 dimentions\n",
        "!wget https://www.cse.iitb.ac.in/~kartavya/glove_dict_tensor.pkl"
      ],
      "execution_count": null,
      "outputs": [
        {
          "output_type": "stream",
          "text": [
            "--2020-09-12 15:38:11--  https://www.cse.iitb.ac.in/~kartavya/glove_dict_tensor.pkl\n",
            "Resolving www.cse.iitb.ac.in (www.cse.iitb.ac.in)... 103.21.127.134\n",
            "Connecting to www.cse.iitb.ac.in (www.cse.iitb.ac.in)|103.21.127.134|:443... connected.\n",
            "HTTP request sent, awaiting response... 200 OK\n",
            "Length: 1091590444 (1.0G)\n",
            "Saving to: ‘glove_dict_tensor.pkl’\n",
            "\n",
            "glove_dict_tensor.p 100%[===================>]   1.02G  26.0MB/s    in 62s     \n",
            "\n",
            "2020-09-12 15:39:14 (16.7 MB/s) - ‘glove_dict_tensor.pkl’ saved [1091590444/1091590444]\n",
            "\n"
          ],
          "name": "stdout"
        }
      ]
    },
    {
      "cell_type": "markdown",
      "metadata": {
        "id": "rWEsaiPjUky2"
      },
      "source": [
        "Load the glove dictionary"
      ]
    },
    {
      "cell_type": "code",
      "metadata": {
        "id": "C8_4dyfsSgD-"
      },
      "source": [
        "import pickle\n",
        "pickle_in = open(\"glove_dict_tensor.pkl\",\"rb\")\n",
        "glove = pickle.load(pickle_in)"
      ],
      "execution_count": null,
      "outputs": []
    },
    {
      "cell_type": "code",
      "metadata": {
        "id": "by03TOSAqmmt",
        "outputId": "fb2ea9c1-cf73-46dc-8e93-4094bd896dea",
        "colab": {
          "base_uri": "https://localhost:8080/",
          "height": 35
        }
      },
      "source": [
        "if 'helloses' in glove:\n",
        "  print('true')\n",
        "else:\n",
        "  print('false')"
      ],
      "execution_count": null,
      "outputs": [
        {
          "output_type": "stream",
          "text": [
            "false\n"
          ],
          "name": "stdout"
        }
      ]
    },
    {
      "cell_type": "code",
      "metadata": {
        "id": "v5rOjj2Y-3uH"
      },
      "source": [
        "sentences = []\n",
        "sentences_tags = []\n",
        "for sentence in tagged_sentences:\n",
        "  s,t = zip(*sentence)\n",
        "  sentences.append(s)\n",
        "  sentences_tags.append(t)"
      ],
      "execution_count": null,
      "outputs": []
    },
    {
      "cell_type": "code",
      "metadata": {
        "id": "hV4CY_n7DzfV",
        "outputId": "e8a54fce-81e8-4492-d8a9-ed75dbaef9e0",
        "colab": {
          "base_uri": "https://localhost:8080/",
          "height": 35
        }
      },
      "source": [
        "sentence_lens = []\n",
        "for s in sentences:\n",
        "  sentence_lens.append(len(s))\n",
        "\n",
        "sentence_lens = np.array(sentence_lens)\n",
        "sentence_lens"
      ],
      "execution_count": null,
      "outputs": [
        {
          "output_type": "execute_result",
          "data": {
            "text/plain": [
              "array([25, 43, 35, ..., 36, 53, 24])"
            ]
          },
          "metadata": {
            "tags": []
          },
          "execution_count": 36
        }
      ]
    },
    {
      "cell_type": "code",
      "metadata": {
        "id": "hmtEYr2TqzL4"
      },
      "source": [
        "# for i in range(50):\n",
        "#   print(tokens[i],tags[i])\n",
        "cnt_dict = {}\n",
        "for tags in sentences_tags:\n",
        "  for w in tags:\n",
        "    if w not in cnt_dict:\n",
        "      cnt_dict[w] = 0\n",
        "    else:\n",
        "      cnt_dict[w]+=1\n",
        "# print(\" \".join(tokens[:1000]))\n",
        "# print(\" \".join(tags[:1000]))"
      ],
      "execution_count": null,
      "outputs": []
    },
    {
      "cell_type": "code",
      "metadata": {
        "id": "He4reVDqnNyc",
        "outputId": "0ea29827-9547-4c2f-e05a-8fe5f6b450a5",
        "colab": {
          "base_uri": "https://localhost:8080/",
          "height": 225
        }
      },
      "source": [
        "for i,pos in enumerate(cnt_dict):\n",
        "  cnt_dict[pos] = i\n",
        "cnt_dict"
      ],
      "execution_count": null,
      "outputs": [
        {
          "output_type": "execute_result",
          "data": {
            "text/plain": [
              "{'.': 5,\n",
              " 'ADJ': 2,\n",
              " 'ADP': 4,\n",
              " 'ADV': 6,\n",
              " 'CONJ': 7,\n",
              " 'DET': 0,\n",
              " 'NOUN': 1,\n",
              " 'NUM': 10,\n",
              " 'PRON': 9,\n",
              " 'PRT': 8,\n",
              " 'VERB': 3,\n",
              " 'X': 11}"
            ]
          },
          "metadata": {
            "tags": []
          },
          "execution_count": 18
        }
      ]
    },
    {
      "cell_type": "code",
      "metadata": {
        "id": "1ASGaTi3AyAz"
      },
      "source": [
        "all_labels = []\n",
        "\n",
        "for s in sentences_tags:\n",
        "  label = []\n",
        "  for t in s:\n",
        "    label.append(cnt_dict[t])\n",
        "  all_labels.append(label)"
      ],
      "execution_count": null,
      "outputs": []
    },
    {
      "cell_type": "code",
      "metadata": {
        "id": "p9x2g4JPA6gK",
        "outputId": "cac31b87-37f0-4842-8575-ae0b28341535",
        "colab": {
          "base_uri": "https://localhost:8080/",
          "height": 35
        }
      },
      "source": [
        "all_labels[0]"
      ],
      "execution_count": null,
      "outputs": [
        {
          "output_type": "execute_result",
          "data": {
            "text/plain": [
              "[0, 1, 1, 2, 1, 3, 1, 0, 1, 4, 1, 2, 1, 1, 3, 5, 0, 1, 5, 4, 0, 1, 3, 1, 5]"
            ]
          },
          "metadata": {
            "tags": []
          },
          "execution_count": 24
        }
      ]
    },
    {
      "cell_type": "code",
      "metadata": {
        "id": "s889uRSdqIlB"
      },
      "source": [
        "class Data:\n",
        "  def __init__(self, batchSize=batch_size):\n",
        "    self.batchSize=batchSize\n",
        "    self.max_len = 50\n",
        "\n",
        "    tagged_sentences = nltk.corpus.brown.tagged_sents(tagset='universal')\n",
        "    \n",
        "    tags_set = list(set([tag for (_, tag) in brown.tagged_words(tagset='universal')]))\n",
        "    tags_set.extend([\"<^>\",\"<$>\"])\n",
        "    print(tags_set)\n",
        "    tags_set.sort()\n",
        "    tags={}\n",
        "    for i,tag in enumerate(tags_set):\n",
        "      tags[tag]=i\n",
        "    tags_list = list(tags_set)\n",
        "\n",
        "    sentences = []\n",
        "    sentences_tags = []\n",
        "    for sentence in tagged_sentences:\n",
        "      s,t = zip(*sentence)\n",
        "      sentences.append(s)\n",
        "      sentences_tags.append(t)\n",
        "\n",
        "    cnt_dict = {}\n",
        "    for tags in sentences_tags:\n",
        "      for w in tags:\n",
        "        if w not in cnt_dict:\n",
        "          cnt_dict[w] = 0\n",
        "        else:\n",
        "          cnt_dict[w]+=1\n",
        "\n",
        "    for i,pos in enumerate(cnt_dict):\n",
        "      cnt_dict[pos] = i\n",
        "    \n",
        "    self.sentences = sentences\n",
        "    self.sentence_tags = sentences_tags\n",
        "    self.tag2id = cnt_dict\n",
        "\n",
        "  def loadData(self):\n",
        "    all_labels = []\n",
        "    for s in self.sentences_tags:\n",
        "      label = []\n",
        "      for t in s:\n",
        "        label.append(cnt_dict[t])\n",
        "      all_labels.append(label)\n",
        "    \n",
        "    all_sentences = []\n",
        "    for s in self.sentences:\n",
        "      sentence = []\n",
        "      for w in s:\n",
        "        try:\n",
        "          sentence.append(glove[w.lower()])\n",
        "        except:\n",
        "          sentence.append(torch.zeros((300,),dtype=torch.double))\n",
        "      all_sentences.append(sentence)\n",
        "    \n",
        "    input_ids = []\n",
        "    labels = []\n",
        "\n",
        "    max_length = self.max_length \n",
        "    \n",
        "    for q in self.queries:\n",
        "      q_embedding = []\n",
        "      q = q.strip()\n",
        "      for i,w in enumerate(q.split(' ')):\n",
        "        if i == max_length - 1:\n",
        "          break\n",
        "        try:\n",
        "          q_embedding.append(glove[w.lower()])\n",
        "        except:\n",
        "          q_embedding.append(torch.zeros((glove_vector_len,),dtype=torch.double))\n",
        "          # q_embedding.append(torch.from_numpy(np.random.normal(scale=0.6, size=(glove_vector_len, ))))\n",
        "        \n",
        "      q_embedding = torch.cat(q_embedding,dim=0).view(len(q_embedding),-1)\n",
        "      \n",
        "      if q_embedding.size(0) < max_length:\n",
        "        q_embedding = torch.cat((q_embedding,torch.zeros((max_length-len(q_embedding),glove_vector_len),dtype=torch.double)),dim=0)\n",
        "      \n",
        "      input_ids.append(q_embedding)\n",
        "\n",
        "    input_ids = torch.cat(input_ids, dim=0).view(len(input_ids),max_length,glove_vector_len)\n",
        "  \n",
        "    for t in self.t2_types:\n",
        "      labels.append(self.type2Id[t])\n",
        "    labels = torch.tensor(labels)\n",
        "\n",
        "    dataset = TensorDataset(input_ids, labels)\n",
        "\n",
        "    # return dataset\n",
        "    return self.tvt_split(dataset)\n",
        "  \n",
        "  def tvt_split(self, dataset):\n",
        "    tot = len(dataset)\n",
        "    trainSize = int(round(0.7*tot))\n",
        "    valSize = int(round(0.1*tot))\n",
        "    testSize = tot - trainSize - valSize\n",
        "\n",
        "    print(trainSize, valSize, testSize)\n",
        "    trainSet, valSet, testSet = random_split(dataset, [trainSize, valSize, testSize])\n",
        "    \n",
        "    print(\"tvt lengths\",len(trainSet), len(valSet), len(testSet))\n",
        "    print(\"Batch size\", self.batchSize)\n",
        "    \n",
        "    train_dataloader = DataLoader(\n",
        "        trainSet,  # The training samples.\n",
        "        sampler = RandomSampler(trainSet), # Select batches randomly #TODO RandomSampler\n",
        "        batch_size = self.batchSize, # Trains with this batch size.\n",
        "    )\n",
        "    val_dataloader = DataLoader(\n",
        "        valSet,\n",
        "        sampler = SequentialSampler(valSet), #Select batches sequentially\n",
        "        batch_size = self.batchSize\n",
        "    )\n",
        "    test_dataloader = DataLoader(\n",
        "        testSet,\n",
        "        sampler = SequentialSampler(testSet),\n",
        "        batch_size = self.batchSize\n",
        "    )\n",
        "    print(len(train_dataloader), len(val_dataloader), len(test_dataloader))\n",
        "    return train_dataloader, val_dataloader, test_dataloader"
      ],
      "execution_count": null,
      "outputs": []
    },
    {
      "cell_type": "markdown",
      "metadata": {
        "id": "0V4p4QZJfHxO"
      },
      "source": [
        "Importing stuff"
      ]
    },
    {
      "cell_type": "code",
      "metadata": {
        "id": "sJelIS-mdSH2"
      },
      "source": [
        "import numpy as np\n",
        "\n",
        "import torch\n",
        "import torch.nn as nn\n",
        "import torch.nn.functional as F\n",
        "\n",
        "from torch.utils.data import TensorDataset, random_split\n",
        "from torch.utils.data import DataLoader, RandomSampler, SequentialSampler\n",
        "\n",
        "from sklearn.metrics import classification_report, accuracy_score, f1_score\n",
        "\n",
        "import os\n",
        "import datetime\n",
        "import torchvision.transforms as transforms"
      ],
      "execution_count": null,
      "outputs": []
    },
    {
      "cell_type": "markdown",
      "metadata": {
        "id": "PGhqT9s0fUbP"
      },
      "source": [
        "Creating glove dictionary form scratch"
      ]
    },
    {
      "cell_type": "code",
      "metadata": {
        "id": "bzNfXTzAe2hd"
      },
      "source": [
        "# !wget http://nlp.stanford.edu/data/glove.6B.zip\n",
        "# !unzip glove.6B.zip\n",
        "# !pip install bcolz\n",
        "# import pickle\n",
        "# import numpy as np\n",
        "# words = []\n",
        "# idx = 0\n",
        "# word2idx = {}\n",
        "# vectors = []\n",
        "\n",
        "# with open(f'glove.6B.50d.txt', 'rb') as f:\n",
        "#     for l in f:\n",
        "#         line = l.decode().split()\n",
        "#         word = line[0]\n",
        "#         words.append(word)\n",
        "#         word2idx[word] = idx\n",
        "#         idx += 1\n",
        "#         vect = torch.from_numpy(np.array(line[1:]).astype(np.double))\n",
        "#         vectors.append(vect)\n",
        "    \n",
        "# glove = {w: vectors[word2idx[w]] for w in words}\n",
        "# f = open(\"glove_dict_tensor.pkl\",\"wb\")\n",
        "# pickle.dump(glove,f)\n",
        "# f.close()"
      ],
      "execution_count": null,
      "outputs": []
    },
    {
      "cell_type": "code",
      "metadata": {
        "id": "9vakDrYbXRJL"
      },
      "source": [
        "dataset_file = \"dataset_qanta.tsv\"\n",
        "type_2_Id_File = \"id2ClassMappingsXifengWikiWeb768.txt\"\n",
        "sentence_sequence_length = 25\n",
        "glove_vector_len = 50\n",
        "input_require_grad = False\n",
        "\n",
        "input_dim = 50\n",
        "hidden_dim = 50\n",
        "layer_dim = 1\n",
        "\n",
        "batch_size = 200\n",
        "num_epochs = 200\n",
        "learning_rate = 1e-4\n",
        "\n",
        "\n",
        "\n",
        "# dataset_file = \"dataset_qanta.tsv\"\n",
        "# type_2_Id_File = \"id2ClassMappingsXifengWikiWeb768.txt\"\n",
        "# sentence_sequence_length = 25\n",
        "# glove_vector_len = 50\n",
        "# input_require_grad = False\n",
        "\n",
        "# input_dim = 50\n",
        "# hidden_dim = 50\n",
        "# layer_dim = 1\n",
        "\n",
        "# batch_size = 200\n",
        "# num_epochs = 100\n",
        "# learning_rate = 1e-4\n",
        "\n",
        "# ********************\n",
        "# Complete iteration model\n",
        "# Test Accuracy: 0.32854545454545453\n",
        "# Test F1-score micro: 0.32854545454545453"
      ],
      "execution_count": null,
      "outputs": []
    },
    {
      "cell_type": "code",
      "metadata": {
        "id": "n86T43bpjKCV"
      },
      "source": [
        "class Data:\n",
        "  def __init__(self, datasetFile, type2IdFile, batchSize=batch_size):\n",
        "    self.dataset_types = []\n",
        "    self.queries = []\n",
        "    self.t2_types = []\n",
        "    self.type2Id = {}\n",
        "    self.batchSize = batchSize\n",
        "    self.datasetFile = datasetFile\n",
        "    self.max_length = sentence_sequence_length\n",
        "    self.batchSize=batchSize\n",
        "\n",
        "    tmp = []\n",
        "    with open(type2IdFile) as f:\n",
        "      tmp = f.readlines()\n",
        "    tmp = [x.strip() for x in tmp]\n",
        "    NUM_CLASSES = len(tmp)\n",
        "    for line in tmp:\n",
        "      line = line.split(\"\\t\")\n",
        "      self.type2Id[line[1]] = int(line[0])\n",
        "\n",
        "  def loadData(self):\n",
        "    content=[]\n",
        "    with open(self.datasetFile) as f:\n",
        "      content = f.readlines()\n",
        "    content= [x.strip() for x in content]\n",
        "   \n",
        "    for line in content:\n",
        "      line = line.split('\\t')\n",
        "      self.dataset_types.append(line[0])\n",
        "      self.queries.append(line[1])\n",
        "      self.t2_types.append(line[2])\n",
        "\n",
        "    return self.preProcessData()\n",
        "    \n",
        "  def preProcessData(self):\n",
        "    input_ids = []\n",
        "    labels = []\n",
        "\n",
        "    max_length = self.max_length \n",
        "    \n",
        "    for q in self.queries:\n",
        "      q_embedding = []\n",
        "      q = q.strip()\n",
        "      for i,w in enumerate(q.split(' ')):\n",
        "        if i == max_length - 1:\n",
        "          break\n",
        "        try:\n",
        "          q_embedding.append(glove[w.lower()])\n",
        "        except:\n",
        "          q_embedding.append(torch.zeros((glove_vector_len,),dtype=torch.double))\n",
        "          # q_embedding.append(torch.from_numpy(np.random.normal(scale=0.6, size=(glove_vector_len, ))))\n",
        "        \n",
        "      q_embedding = torch.cat(q_embedding,dim=0).view(len(q_embedding),-1)\n",
        "      \n",
        "      if q_embedding.size(0) < max_length:\n",
        "        q_embedding = torch.cat((q_embedding,torch.zeros((max_length-len(q_embedding),glove_vector_len),dtype=torch.double)),dim=0)\n",
        "      \n",
        "      input_ids.append(q_embedding)\n",
        "\n",
        "    input_ids = torch.cat(input_ids, dim=0).view(len(input_ids),max_length,glove_vector_len)\n",
        "  \n",
        "    for t in self.t2_types:\n",
        "      labels.append(self.type2Id[t])\n",
        "    labels = torch.tensor(labels)\n",
        "\n",
        "    dataset = TensorDataset(input_ids, labels)\n",
        "\n",
        "    # return dataset\n",
        "    return self.tvt_split(dataset)\n",
        "  \n",
        "  def tvt_split(self, dataset):\n",
        "    tot = len(dataset)\n",
        "    trainSize = int(round(0.7*tot))\n",
        "    valSize = int(round(0.1*tot))\n",
        "    testSize = tot - trainSize - valSize\n",
        "\n",
        "    print(trainSize, valSize, testSize)\n",
        "    trainSet, valSet, testSet = random_split(dataset, [trainSize, valSize, testSize])\n",
        "    \n",
        "    print(\"tvt lengths\",len(trainSet), len(valSet), len(testSet))\n",
        "    print(\"Batch size\", self.batchSize)\n",
        "    \n",
        "    train_dataloader = DataLoader(\n",
        "        trainSet,  # The training samples.\n",
        "        sampler = RandomSampler(trainSet), # Select batches randomly #TODO RandomSampler\n",
        "        batch_size = self.batchSize, # Trains with this batch size.\n",
        "    )\n",
        "    val_dataloader = DataLoader(\n",
        "        valSet,\n",
        "        sampler = SequentialSampler(valSet), #Select batches sequentially\n",
        "        batch_size = self.batchSize\n",
        "    )\n",
        "    test_dataloader = DataLoader(\n",
        "        testSet,\n",
        "        sampler = SequentialSampler(testSet),\n",
        "        batch_size = self.batchSize\n",
        "    )\n",
        "    print(len(train_dataloader), len(val_dataloader), len(test_dataloader))\n",
        "    return train_dataloader, val_dataloader, test_dataloader"
      ],
      "execution_count": null,
      "outputs": []
    },
    {
      "cell_type": "code",
      "metadata": {
        "id": "QyGdEseCANJd"
      },
      "source": [
        "class NET(nn.Module):\n",
        "  def __init__(self, input_dim, hidden_dim, layer_dim, batchSize=batch_size, seqLength=sentence_sequence_length, numClasses=661):\n",
        "    super(NET,self).__init__()\n",
        "    self.batchSize = batchSize\n",
        "    self.hidden_dim = hidden_dim\n",
        "    self.layer_dim = layer_dim\n",
        "\n",
        "    self.bilstm = nn.LSTM(input_dim, hidden_dim, layer_dim, batch_first=True, bidirectional = True)\n",
        "    self.fc = nn.Linear(seqLength*hidden_dim*2,numClasses)\n",
        "\n",
        "  def forward(self, input_ids):\n",
        "    # Initialize hidden state\n",
        "    h0 = torch.zeros((self.layer_dim*2, input_ids.size(0), self.hidden_dim),dtype=torch.double).requires_grad_()\n",
        "    # Initialize cell state\n",
        "    c0 = torch.zeros((self.layer_dim*2, input_ids.size(0), self.hidden_dim),dtype=torch.double).requires_grad_()\n",
        "    # BiLSTM\n",
        "    out , (hn,cn) = self.bilstm(input_ids, (h0,c0))\n",
        "\n",
        "    out = self.fc(out.reshape(out.size(0),-1))\n",
        "    out = F.softmax(out,dim=1)\n",
        "\n",
        "    return out"
      ],
      "execution_count": null,
      "outputs": []
    },
    {
      "cell_type": "code",
      "metadata": {
        "id": "T08njrEiiFaq",
        "outputId": "2f3c8841-1150-44fe-94e9-be078d6a9af7",
        "colab": {
          "base_uri": "https://localhost:8080/",
          "height": 87
        }
      },
      "source": [
        "import random\n",
        "\n",
        "model=NET(input_dim, hidden_dim, layer_dim)\n",
        "model.double()\n",
        "\n",
        "Set = Data(dataset_file, type_2_Id_File, batchSize=batch_size)\n",
        "trainSet, valSet, testSet = Set.loadData()\n",
        "optimizer=torch.optim.Adam(model.parameters(), lr=learning_rate)\n",
        "loss_criterion = nn.CrossEntropyLoss()\n",
        "seed_val = 42\n",
        "\n",
        "# random.seed(seed_val)\n",
        "np.random.seed(seed_val)\n",
        "torch.manual_seed(seed_val)\n",
        "\n",
        "scheduler = torch.optim.lr_scheduler.ReduceLROnPlateau(optimizer, patience=10)"
      ],
      "execution_count": null,
      "outputs": [
        {
          "output_type": "stream",
          "text": [
            "38955 5565 11130\n",
            "tvt lengths 38955 5565 11130\n",
            "Batch size 200\n",
            "195 28 56\n"
          ],
          "name": "stdout"
        }
      ]
    },
    {
      "cell_type": "code",
      "metadata": {
        "id": "gL4XT3MRjJMO",
        "outputId": "080baead-c183-4814-ecd2-6ef2146d316d",
        "colab": {
          "base_uri": "https://localhost:8080/",
          "height": 1000
        }
      },
      "source": [
        "from tqdm import tqdm\n",
        "import sys\n",
        "import time\n",
        "import os\n",
        "\n",
        "np.set_printoptions(threshold=sys.maxsize)\n",
        "p = []\n",
        "valLossList = []\n",
        "valAccList = []\n",
        "start_time = datetime.datetime.now().strftime(\"%H%M%S-%d%m%Y\")\n",
        "for epochs in tqdm(range(num_epochs)):\n",
        "  model.train()\n",
        "  total_epoch_loss=0\n",
        "  trainAcc = 0\n",
        "  \n",
        "  ############### Checking if the model weights are changing substantially or not\n",
        "  if epochs==0 :\n",
        "    for param in model.fc.parameters():\n",
        "      z = param.data.detach().cpu().numpy()\n",
        "      \n",
        "      p = z\n",
        "      break\n",
        "    p = np.array(p)\n",
        "  else:\n",
        "    y = np.array([])    \n",
        "    for param in model.fc.parameters():\n",
        "      z = param.data.detach().cpu().numpy()\n",
        "      y = z\n",
        "      break\n",
        "    y = np.array(y)\n",
        "    x = (p-y)\n",
        "    print(\"Change in weights norm:\",np.linalg.norm(x))\n",
        "    # if(np.linalg.norm(x)<5e-2):\n",
        "    #   break\n",
        "    p = y\n",
        "  #################\n",
        "\n",
        "  labels_flat = []\n",
        "  pred_flat =  []\n",
        "  loss=None\n",
        "  \n",
        "  for batch in trainSet:\n",
        "    if input_require_grad == True:\n",
        "      b_input_ids = batch[0].view(-1,sentence_sequence_length,glove_vector_len).requires_grad_()\n",
        "    else:\n",
        "      b_input_ids = batch[0].view(-1,sentence_sequence_length,glove_vector_len)\n",
        "\n",
        "    b_labels = batch[1]\n",
        "    if b_labels.shape[0]!=batch_size:\n",
        "      print(\"label mismatch\")\n",
        "      continue #Otherwise creates problem with the model architecture\n",
        "    \n",
        "    optimizer.zero_grad()\n",
        "    out = model(b_input_ids)\n",
        "    \n",
        "    loss=loss_criterion(out, b_labels)\n",
        "    total_epoch_loss += loss.item()\n",
        "    loss.backward()\n",
        "    optimizer.step()\n",
        "\n",
        "    preds = out.detach().numpy()\n",
        "    labels_flat.extend(b_labels.numpy())\n",
        "    pred_flat.extend(np.argmax(preds, axis=1).flatten())\n",
        "    \n",
        "  print(len(labels_flat), len(pred_flat))\n",
        "  print(\"Train Accuracy:\", accuracy_score(labels_flat, pred_flat))  \n",
        "  print(\"Train F1-micro score:\", f1_score(labels_flat, pred_flat, average='micro'))  \n",
        "  avg_train_loss = total_epoch_loss / len(trainSet)\n",
        "  print(\"Average Training loss:\",avg_train_loss, \"Total Training Loss: \", total_epoch_loss)\n",
        "\n",
        "  model.eval()  \n",
        "  labels_flat = []\n",
        "  pred_flat =  []\n",
        "  valLoss = 0\n",
        "  for batch in valSet:\n",
        "    b_input_ids = batch[0]\n",
        "    b_labels = batch[1]\n",
        "    #  = batch[2].to(device)\n",
        "    if b_labels.shape[0]!=batch_size:\n",
        "      continue #Otherwise creates problem with the model architecture\n",
        "\n",
        "    with torch.no_grad():\n",
        "      out = model(b_input_ids)\n",
        "    preds = out.detach().numpy()\n",
        "    pred_flat.extend(np.argmax(preds, axis=1).flatten())\n",
        "    labels_flat.extend(b_labels.numpy())\n",
        "    valLoss += loss_criterion(out, b_labels).item()\n",
        "\n",
        "  \n",
        "  print(\"Validation accuracy:\", accuracy_score(labels_flat, pred_flat))\n",
        "  print(\"Validation F1-micro score:\", f1_score(labels_flat, pred_flat, average='micro'))\n",
        "  print( \"Validation Loss:\", valLoss)\n",
        "\n",
        "  # scheduler.step(acc)\n",
        "  scheduler.step(valLoss)\n",
        "  valLossList.append(valLoss)\n",
        "  valAccList.append(accuracy_score(labels_flat, pred_flat))\n",
        "  #saving the model\n",
        "  if not os.path.exists('./checkpoints/'+start_time+\"/\"):\n",
        "    os.makedirs('./checkpoints/'+start_time+\"/\")\n",
        "  # torch.save({\n",
        "  #     'epoch': epochs,\n",
        "  #     'model_state_dict': model.state_dict(),\n",
        "  #     'optimizer_state_dict': optimizer.state_dict(),\n",
        "  #     'loss': loss,\n",
        "  # }, './checkpoints/'+start_time+\"/checkpt_\"+str(epochs)+\".pt\")\n",
        "  try:\n",
        "    if valLoss[-1] > valLoss[-2] and valLoss[-1] > valLoss[-3] and valLoss[-1] > valLoss[-4]:\n",
        "      print(\"Stopping training early...\")\n",
        "      break\n",
        "  except Exception as e:\n",
        "    pass\n",
        "\n",
        "print(\"Min val Loss at:\", np.argmin(np.array(valLossList),axis=0), \"Min Val loss:\", np.min(np.array(valLossList)))\n",
        "print(\"Max val accuracy at:\", np.argmax(np.array(valAccList),axis=0), \"Max Val accuracy:\", np.max(np.array(valAccList)))"
      ],
      "execution_count": null,
      "outputs": [
        {
          "output_type": "stream",
          "text": [
            "\r  0%|          | 0/200 [00:00<?, ?it/s]"
          ],
          "name": "stderr"
        },
        {
          "output_type": "stream",
          "text": [
            "label mismatch\n",
            "38800 38800\n",
            "Train Accuracy: 0.14755154639175258\n",
            "Train F1-micro score: 0.14755154639175258\n",
            "Average Training loss: 6.363952843676712 Total Training Loss:  1240.9708045169589\n"
          ],
          "name": "stdout"
        },
        {
          "output_type": "stream",
          "text": [
            "\r  0%|          | 1/200 [00:44<2:28:03, 44.64s/it]"
          ],
          "name": "stderr"
        },
        {
          "output_type": "stream",
          "text": [
            "Validation accuracy: 0.15462962962962962\n",
            "Validation F1-micro score: 0.15462962962962962\n",
            "Validation Loss: 171.233255951841\n",
            "Change in weights norm: 13.59858662394347\n",
            "label mismatch\n",
            "38800 38800\n",
            "Train Accuracy: 0.15149484536082475\n",
            "Train F1-micro score: 0.15149484536082475\n",
            "Average Training loss: 6.312399836048513 Total Training Loss:  1230.91796802946\n"
          ],
          "name": "stdout"
        },
        {
          "output_type": "stream",
          "text": [
            "\r  1%|          | 2/200 [01:28<2:26:27, 44.38s/it]"
          ],
          "name": "stderr"
        },
        {
          "output_type": "stream",
          "text": [
            "Validation accuracy: 0.15462962962962962\n",
            "Validation F1-micro score: 0.15462962962962962\n",
            "Validation Loss: 171.22797168374598\n",
            "Change in weights norm: 0.3297685200468492\n",
            "label mismatch\n",
            "38800 38800\n",
            "Train Accuracy: 0.15170103092783505\n",
            "Train F1-micro score: 0.15170103092783505\n",
            "Average Training loss: 6.312138451950124 Total Training Loss:  1230.8669981302742\n"
          ],
          "name": "stdout"
        },
        {
          "output_type": "stream",
          "text": [
            "\r  2%|▏         | 3/200 [02:12<2:25:09, 44.21s/it]"
          ],
          "name": "stderr"
        },
        {
          "output_type": "stream",
          "text": [
            "Validation accuracy: 0.15462962962962962\n",
            "Validation F1-micro score: 0.15462962962962962\n",
            "Validation Loss: 171.22690042936082\n",
            "Change in weights norm: 0.20066520318093664\n",
            "label mismatch\n",
            "38800 38800\n",
            "Train Accuracy: 0.15175257731958763\n",
            "Train F1-micro score: 0.15175257731958763\n",
            "Average Training loss: 6.312071541729545 Total Training Loss:  1230.8539506372613\n"
          ],
          "name": "stdout"
        },
        {
          "output_type": "stream",
          "text": [
            "\r  2%|▏         | 4/200 [02:58<2:26:22, 44.81s/it]"
          ],
          "name": "stderr"
        },
        {
          "output_type": "stream",
          "text": [
            "Validation accuracy: 0.15462962962962962\n",
            "Validation F1-micro score: 0.15462962962962962\n",
            "Validation Loss: 171.22651537053758\n",
            "Change in weights norm: 0.15087715760857612\n",
            "label mismatch\n",
            "38800 38800\n",
            "Train Accuracy: 0.15164948453608249\n",
            "Train F1-micro score: 0.15164948453608249\n",
            "Average Training loss: 6.312166014690305 Total Training Loss:  1230.8723728646096\n"
          ],
          "name": "stdout"
        },
        {
          "output_type": "stream",
          "text": [
            "\r  2%|▎         | 5/200 [03:42<2:24:36, 44.50s/it]"
          ],
          "name": "stderr"
        },
        {
          "output_type": "stream",
          "text": [
            "Validation accuracy: 0.15462962962962962\n",
            "Validation F1-micro score: 0.15462962962962962\n",
            "Validation Loss: 171.22623261453307\n",
            "Change in weights norm: 0.14728167068881204\n",
            "label mismatch\n",
            "38800 38800\n",
            "Train Accuracy: 0.15146907216494845\n",
            "Train F1-micro score: 0.15146907216494845\n",
            "Average Training loss: 6.312335128970279 Total Training Loss:  1230.9053501492044\n"
          ],
          "name": "stdout"
        },
        {
          "output_type": "stream",
          "text": [
            "\r  3%|▎         | 6/200 [04:26<2:23:45, 44.46s/it]"
          ],
          "name": "stderr"
        },
        {
          "output_type": "stream",
          "text": [
            "Validation accuracy: 0.15462962962962962\n",
            "Validation F1-micro score: 0.15462962962962962\n",
            "Validation Loss: 171.2256683297482\n",
            "Change in weights norm: 0.162693599950872\n",
            "label mismatch\n",
            "38800 38800\n",
            "Train Accuracy: 0.15149484536082475\n",
            "Train F1-micro score: 0.15149484536082475\n",
            "Average Training loss: 6.31214532066421 Total Training Loss:  1230.8683375295209\n"
          ],
          "name": "stdout"
        },
        {
          "output_type": "stream",
          "text": [
            "\r  4%|▎         | 7/200 [05:11<2:23:05, 44.48s/it]"
          ],
          "name": "stderr"
        },
        {
          "output_type": "stream",
          "text": [
            "Validation accuracy: 0.15462962962962962\n",
            "Validation F1-micro score: 0.15462962962962962\n",
            "Validation Loss: 171.12811759521216\n",
            "Change in weights norm: 0.3645176813182449\n",
            "label mismatch\n",
            "38800 38800\n",
            "Train Accuracy: 0.2020876288659794\n",
            "Train F1-micro score: 0.2020876288659794\n",
            "Average Training loss: 6.26516179391219 Total Training Loss:  1221.706549812877\n"
          ],
          "name": "stdout"
        },
        {
          "output_type": "stream",
          "text": [
            "\r  4%|▍         | 8/200 [05:55<2:22:13, 44.45s/it]"
          ],
          "name": "stderr"
        },
        {
          "output_type": "stream",
          "text": [
            "Validation accuracy: 0.22814814814814816\n",
            "Validation F1-micro score: 0.22814814814814813\n",
            "Validation Loss: 169.36303345226122\n",
            "Change in weights norm: 1.337109880527184\n",
            "label mismatch\n",
            "38800 38800\n",
            "Train Accuracy: 0.22291237113402063\n",
            "Train F1-micro score: 0.22291237113402063\n",
            "Average Training loss: 6.243409289458773 Total Training Loss:  1217.4648114444608\n"
          ],
          "name": "stdout"
        },
        {
          "output_type": "stream",
          "text": [
            "\r  4%|▍         | 9/200 [06:40<2:21:47, 44.54s/it]"
          ],
          "name": "stderr"
        },
        {
          "output_type": "stream",
          "text": [
            "Validation accuracy: 0.23407407407407407\n",
            "Validation F1-micro score: 0.23407407407407407\n",
            "Validation Loss: 169.12468317499028\n",
            "Change in weights norm: 0.4408542089418504\n",
            "label mismatch\n",
            "38800 38800\n",
            "Train Accuracy: 0.22479381443298968\n",
            "Train F1-micro score: 0.22479381443298968\n",
            "Average Training loss: 6.240354232791974 Total Training Loss:  1216.869075394435\n"
          ],
          "name": "stdout"
        },
        {
          "output_type": "stream",
          "text": [
            "\r  5%|▌         | 10/200 [07:24<2:21:01, 44.53s/it]"
          ],
          "name": "stderr"
        },
        {
          "output_type": "stream",
          "text": [
            "Validation accuracy: 0.23407407407407407\n",
            "Validation F1-micro score: 0.23407407407407407\n",
            "Validation Loss: 169.11113525897244\n",
            "Change in weights norm: 0.1715283344253164\n",
            "label mismatch\n",
            "38800 38800\n",
            "Train Accuracy: 0.22646907216494847\n",
            "Train F1-micro score: 0.22646907216494844\n",
            "Average Training loss: 6.238693711172215 Total Training Loss:  1216.545273678582\n"
          ],
          "name": "stdout"
        },
        {
          "output_type": "stream",
          "text": [
            "\r  6%|▌         | 11/200 [08:09<2:20:32, 44.61s/it]"
          ],
          "name": "stderr"
        },
        {
          "output_type": "stream",
          "text": [
            "Validation accuracy: 0.23462962962962963\n",
            "Validation F1-micro score: 0.23462962962962963\n",
            "Validation Loss: 169.1014224287803\n",
            "Change in weights norm: 0.13130170111856582\n",
            "label mismatch\n",
            "38800 38800\n",
            "Train Accuracy: 0.2277319587628866\n",
            "Train F1-micro score: 0.2277319587628866\n",
            "Average Training loss: 6.237481265646882 Total Training Loss:  1216.308846801142\n"
          ],
          "name": "stdout"
        },
        {
          "output_type": "stream",
          "text": [
            "\r  6%|▌         | 12/200 [08:54<2:19:41, 44.58s/it]"
          ],
          "name": "stderr"
        },
        {
          "output_type": "stream",
          "text": [
            "Validation accuracy: 0.2362962962962963\n",
            "Validation F1-micro score: 0.2362962962962963\n",
            "Validation Loss: 169.0506846940273\n",
            "Change in weights norm: 0.11430602119080047\n",
            "label mismatch\n",
            "38800 38800\n",
            "Train Accuracy: 0.22824742268041237\n",
            "Train F1-micro score: 0.22824742268041237\n",
            "Average Training loss: 6.236730455741056 Total Training Loss:  1216.1624388695059\n"
          ],
          "name": "stdout"
        },
        {
          "output_type": "stream",
          "text": [
            "\r  6%|▋         | 13/200 [09:39<2:19:26, 44.74s/it]"
          ],
          "name": "stderr"
        },
        {
          "output_type": "stream",
          "text": [
            "Validation accuracy: 0.23537037037037037\n",
            "Validation F1-micro score: 0.23537037037037037\n",
            "Validation Loss: 169.0611869331099\n",
            "Change in weights norm: 0.10587336378782017\n",
            "label mismatch\n",
            "38800 38800\n",
            "Train Accuracy: 0.2288659793814433\n",
            "Train F1-micro score: 0.2288659793814433\n",
            "Average Training loss: 6.236068603744238 Total Training Loss:  1216.0333777301264\n"
          ],
          "name": "stdout"
        },
        {
          "output_type": "stream",
          "text": [
            "\r  7%|▋         | 14/200 [10:23<2:18:44, 44.76s/it]"
          ],
          "name": "stderr"
        },
        {
          "output_type": "stream",
          "text": [
            "Validation accuracy: 0.23592592592592593\n",
            "Validation F1-micro score: 0.23592592592592593\n",
            "Validation Loss: 169.03989895569103\n",
            "Change in weights norm: 0.09554798953716057\n",
            "label mismatch\n",
            "38800 38800\n",
            "Train Accuracy: 0.2293298969072165\n",
            "Train F1-micro score: 0.2293298969072165\n",
            "Average Training loss: 6.235547672127606 Total Training Loss:  1215.9317960648832\n"
          ],
          "name": "stdout"
        },
        {
          "output_type": "stream",
          "text": [
            "\r  8%|▊         | 15/200 [11:08<2:18:14, 44.84s/it]"
          ],
          "name": "stderr"
        },
        {
          "output_type": "stream",
          "text": [
            "Validation accuracy: 0.23703703703703705\n",
            "Validation F1-micro score: 0.23703703703703705\n",
            "Validation Loss: 169.0253440316436\n",
            "Change in weights norm: 0.11209052745985833\n",
            "label mismatch\n",
            "38800 38800\n",
            "Train Accuracy: 0.2302061855670103\n",
            "Train F1-micro score: 0.2302061855670103\n",
            "Average Training loss: 6.234678668364628 Total Training Loss:  1215.7623403311025\n"
          ],
          "name": "stdout"
        },
        {
          "output_type": "stream",
          "text": [
            "\r  8%|▊         | 16/200 [11:54<2:17:46, 44.92s/it]"
          ],
          "name": "stderr"
        },
        {
          "output_type": "stream",
          "text": [
            "Validation accuracy: 0.23722222222222222\n",
            "Validation F1-micro score: 0.23722222222222222\n",
            "Validation Loss: 169.0036529782923\n",
            "Change in weights norm: 0.09959469243573611\n",
            "label mismatch\n",
            "38800 38800\n",
            "Train Accuracy: 0.23061855670103093\n",
            "Train F1-micro score: 0.23061855670103093\n",
            "Average Training loss: 6.234122026632894 Total Training Loss:  1215.6537951934145\n"
          ],
          "name": "stdout"
        },
        {
          "output_type": "stream",
          "text": [
            "\r  8%|▊         | 17/200 [12:39<2:17:05, 44.95s/it]"
          ],
          "name": "stderr"
        },
        {
          "output_type": "stream",
          "text": [
            "Validation accuracy: 0.23814814814814814\n",
            "Validation F1-micro score: 0.23814814814814814\n",
            "Validation Loss: 168.99140565224337\n",
            "Change in weights norm: 0.09404223128602424\n",
            "label mismatch\n",
            "38800 38800\n",
            "Train Accuracy: 0.23100515463917526\n",
            "Train F1-micro score: 0.23100515463917526\n",
            "Average Training loss: 6.233816205531345 Total Training Loss:  1215.5941600786123\n"
          ],
          "name": "stdout"
        },
        {
          "output_type": "stream",
          "text": [
            "\r  9%|▉         | 18/200 [13:27<2:19:49, 46.09s/it]"
          ],
          "name": "stderr"
        },
        {
          "output_type": "stream",
          "text": [
            "Validation accuracy: 0.2375925925925926\n",
            "Validation F1-micro score: 0.2375925925925926\n",
            "Validation Loss: 168.98606897082695\n",
            "Change in weights norm: 0.12102599709366535\n",
            "label mismatch\n",
            "38800 38800\n",
            "Train Accuracy: 0.23162371134020618\n",
            "Train F1-micro score: 0.23162371134020618\n",
            "Average Training loss: 6.233155661706915 Total Training Loss:  1215.4653540328484\n"
          ],
          "name": "stdout"
        },
        {
          "output_type": "stream",
          "text": [
            "\r 10%|▉         | 19/200 [14:12<2:17:42, 45.65s/it]"
          ],
          "name": "stderr"
        },
        {
          "output_type": "stream",
          "text": [
            "Validation accuracy: 0.23833333333333334\n",
            "Validation F1-micro score: 0.23833333333333334\n",
            "Validation Loss: 168.97963278248275\n",
            "Change in weights norm: 0.12209229047888297\n",
            "label mismatch\n",
            "38800 38800\n",
            "Train Accuracy: 0.23193298969072165\n",
            "Train F1-micro score: 0.23193298969072165\n",
            "Average Training loss: 6.232706765237536 Total Training Loss:  1215.3778192213194\n"
          ],
          "name": "stdout"
        },
        {
          "output_type": "stream",
          "text": [
            "\r 10%|█         | 20/200 [14:56<2:15:29, 45.17s/it]"
          ],
          "name": "stderr"
        },
        {
          "output_type": "stream",
          "text": [
            "Validation accuracy: 0.23851851851851852\n",
            "Validation F1-micro score: 0.23851851851851852\n",
            "Validation Loss: 168.98127799951175\n",
            "Change in weights norm: 0.12679530127502697\n",
            "label mismatch\n",
            "38800 38800\n",
            "Train Accuracy: 0.2320876288659794\n",
            "Train F1-micro score: 0.2320876288659794\n",
            "Average Training loss: 6.232666040175638 Total Training Loss:  1215.3698778342493\n"
          ],
          "name": "stdout"
        },
        {
          "output_type": "stream",
          "text": [
            "\r 10%|█         | 21/200 [15:40<2:13:58, 44.91s/it]"
          ],
          "name": "stderr"
        },
        {
          "output_type": "stream",
          "text": [
            "Validation accuracy: 0.23907407407407408\n",
            "Validation F1-micro score: 0.23907407407407408\n",
            "Validation Loss: 168.96791257993314\n",
            "Change in weights norm: 0.14064084971475405\n",
            "label mismatch\n",
            "38800 38800\n",
            "Train Accuracy: 0.23278350515463916\n",
            "Train F1-micro score: 0.23278350515463916\n",
            "Average Training loss: 6.231915886598659 Total Training Loss:  1215.2235978867386\n"
          ],
          "name": "stdout"
        },
        {
          "output_type": "stream",
          "text": [
            "\r 11%|█         | 22/200 [16:25<2:12:39, 44.71s/it]"
          ],
          "name": "stderr"
        },
        {
          "output_type": "stream",
          "text": [
            "Validation accuracy: 0.23833333333333334\n",
            "Validation F1-micro score: 0.23833333333333334\n",
            "Validation Loss: 168.9669064559167\n",
            "Change in weights norm: 0.20555557623857065\n",
            "label mismatch\n",
            "38800 38800\n",
            "Train Accuracy: 0.23288659793814434\n",
            "Train F1-micro score: 0.23288659793814434\n",
            "Average Training loss: 6.2316813474852175 Total Training Loss:  1215.1778627596175\n"
          ],
          "name": "stdout"
        },
        {
          "output_type": "stream",
          "text": [
            "\r 12%|█▏        | 23/200 [17:09<2:11:40, 44.63s/it]"
          ],
          "name": "stderr"
        },
        {
          "output_type": "stream",
          "text": [
            "Validation accuracy: 0.23851851851851852\n",
            "Validation F1-micro score: 0.23851851851851852\n",
            "Validation Loss: 168.9599795064009\n",
            "Change in weights norm: 0.19373896715425243\n",
            "label mismatch\n",
            "38800 38800\n",
            "Train Accuracy: 0.23345360824742267\n",
            "Train F1-micro score: 0.23345360824742267\n",
            "Average Training loss: 6.231243293437651 Total Training Loss:  1215.092442220342\n"
          ],
          "name": "stdout"
        },
        {
          "output_type": "stream",
          "text": [
            "\r 12%|█▏        | 24/200 [17:54<2:10:47, 44.59s/it]"
          ],
          "name": "stderr"
        },
        {
          "output_type": "stream",
          "text": [
            "Validation accuracy: 0.23851851851851852\n",
            "Validation F1-micro score: 0.23851851851851852\n",
            "Validation Loss: 168.9575949927804\n",
            "Change in weights norm: 0.1786725772560062\n",
            "label mismatch\n",
            "38800 38800\n",
            "Train Accuracy: 0.23345360824742267\n",
            "Train F1-micro score: 0.23345360824742267\n",
            "Average Training loss: 6.231213510187651 Total Training Loss:  1215.086634486592\n"
          ],
          "name": "stdout"
        },
        {
          "output_type": "stream",
          "text": [
            "\r 12%|█▎        | 25/200 [18:38<2:09:46, 44.49s/it]"
          ],
          "name": "stderr"
        },
        {
          "output_type": "stream",
          "text": [
            "Validation accuracy: 0.23925925925925925\n",
            "Validation F1-micro score: 0.23925925925925925\n",
            "Validation Loss: 168.94497609290738\n",
            "Change in weights norm: 0.26924190044938295\n",
            "label mismatch\n",
            "38800 38800\n",
            "Train Accuracy: 0.23337628865979382\n",
            "Train F1-micro score: 0.23337628865979382\n",
            "Average Training loss: 6.231225357043261 Total Training Loss:  1215.088944623436\n"
          ],
          "name": "stdout"
        },
        {
          "output_type": "stream",
          "text": [
            "\r 13%|█▎        | 26/200 [19:22<2:08:49, 44.42s/it]"
          ],
          "name": "stderr"
        },
        {
          "output_type": "stream",
          "text": [
            "Validation accuracy: 0.23907407407407408\n",
            "Validation F1-micro score: 0.23907407407407408\n",
            "Validation Loss: 168.94860772221566\n",
            "Change in weights norm: 0.25162864296932613\n",
            "label mismatch\n",
            "38800 38800\n",
            "Train Accuracy: 0.23329896907216494\n",
            "Train F1-micro score: 0.23329896907216494\n",
            "Average Training loss: 6.231263521195603 Total Training Loss:  1215.0963866331426\n"
          ],
          "name": "stdout"
        },
        {
          "output_type": "stream",
          "text": [
            "\r 14%|█▎        | 27/200 [20:06<2:08:02, 44.41s/it]"
          ],
          "name": "stderr"
        },
        {
          "output_type": "stream",
          "text": [
            "Validation accuracy: 0.24055555555555555\n",
            "Validation F1-micro score: 0.24055555555555555\n",
            "Validation Loss: 168.9262771073818\n",
            "Change in weights norm: 0.3320832860576067\n",
            "label mismatch\n",
            "38800 38800\n",
            "Train Accuracy: 0.2347938144329897\n",
            "Train F1-micro score: 0.2347938144329897\n",
            "Average Training loss: 6.230239393951861 Total Training Loss:  1214.896681820613\n"
          ],
          "name": "stdout"
        },
        {
          "output_type": "stream",
          "text": [
            "\r 14%|█▍        | 28/200 [20:51<2:07:02, 44.32s/it]"
          ],
          "name": "stderr"
        },
        {
          "output_type": "stream",
          "text": [
            "Validation accuracy: 0.2525925925925926\n",
            "Validation F1-micro score: 0.2525925925925926\n",
            "Validation Loss: 168.65677014080535\n",
            "Change in weights norm: 0.7668856618287914\n",
            "label mismatch\n",
            "38800 38800\n",
            "Train Accuracy: 0.2618556701030928\n",
            "Train F1-micro score: 0.2618556701030928\n",
            "Average Training loss: 6.206025661036068 Total Training Loss:  1210.1750039020333\n"
          ],
          "name": "stdout"
        },
        {
          "output_type": "stream",
          "text": [
            "\r 14%|█▍        | 29/200 [21:35<2:06:15, 44.30s/it]"
          ],
          "name": "stderr"
        },
        {
          "output_type": "stream",
          "text": [
            "Validation accuracy: 0.27185185185185184\n",
            "Validation F1-micro score: 0.27185185185185184\n",
            "Validation Loss: 168.11791375101242\n",
            "Change in weights norm: 0.7541878020865421\n",
            "label mismatch\n",
            "38800 38800\n",
            "Train Accuracy: 0.2712113402061856\n",
            "Train F1-micro score: 0.2712113402061856\n",
            "Average Training loss: 6.195634882617008 Total Training Loss:  1208.1488021103166\n"
          ],
          "name": "stdout"
        },
        {
          "output_type": "stream",
          "text": [
            "\r 15%|█▌        | 30/200 [22:19<2:05:46, 44.39s/it]"
          ],
          "name": "stderr"
        },
        {
          "output_type": "stream",
          "text": [
            "Validation accuracy: 0.2722222222222222\n",
            "Validation F1-micro score: 0.2722222222222222\n",
            "Validation Loss: 168.06649421011426\n",
            "Change in weights norm: 0.4729724380693007\n",
            "label mismatch\n",
            "38800 38800\n",
            "Train Accuracy: 0.27288659793814435\n",
            "Train F1-micro score: 0.27288659793814435\n",
            "Average Training loss: 6.1934229070971565 Total Training Loss:  1207.7174668839455\n"
          ],
          "name": "stdout"
        },
        {
          "output_type": "stream",
          "text": [
            "\r 16%|█▌        | 31/200 [23:05<2:06:02, 44.75s/it]"
          ],
          "name": "stderr"
        },
        {
          "output_type": "stream",
          "text": [
            "Validation accuracy: 0.2783333333333333\n",
            "Validation F1-micro score: 0.2783333333333333\n",
            "Validation Loss: 167.97143615055396\n",
            "Change in weights norm: 0.4551703605488399\n",
            "label mismatch\n",
            "38800 38800\n",
            "Train Accuracy: 0.27489690721649485\n",
            "Train F1-micro score: 0.27489690721649485\n",
            "Average Training loss: 6.19153054663302 Total Training Loss:  1207.3484565934389\n"
          ],
          "name": "stdout"
        },
        {
          "output_type": "stream",
          "text": [
            "\r 16%|█▌        | 32/200 [23:50<2:05:43, 44.90s/it]"
          ],
          "name": "stderr"
        },
        {
          "output_type": "stream",
          "text": [
            "Validation accuracy: 0.2759259259259259\n",
            "Validation F1-micro score: 0.2759259259259259\n",
            "Validation Loss: 167.96788595340487\n",
            "Change in weights norm: 0.3916243625613394\n",
            "label mismatch\n",
            "38800 38800\n",
            "Train Accuracy: 0.2764175257731959\n",
            "Train F1-micro score: 0.2764175257731959\n",
            "Average Training loss: 6.189953277748746 Total Training Loss:  1207.0408891610055\n"
          ],
          "name": "stdout"
        },
        {
          "output_type": "stream",
          "text": [
            "\r 16%|█▋        | 33/200 [24:34<2:04:24, 44.70s/it]"
          ],
          "name": "stderr"
        },
        {
          "output_type": "stream",
          "text": [
            "Validation accuracy: 0.27796296296296297\n",
            "Validation F1-micro score: 0.27796296296296297\n",
            "Validation Loss: 167.92222645301172\n",
            "Change in weights norm: 0.47087455661010347\n",
            "label mismatch\n",
            "38800 38800\n",
            "Train Accuracy: 0.27713917525773196\n",
            "Train F1-micro score: 0.27713917525773196\n",
            "Average Training loss: 6.188916231206346 Total Training Loss:  1206.8386650852376\n"
          ],
          "name": "stdout"
        },
        {
          "output_type": "stream",
          "text": [
            "\r 17%|█▋        | 34/200 [25:19<2:03:28, 44.63s/it]"
          ],
          "name": "stderr"
        },
        {
          "output_type": "stream",
          "text": [
            "Validation accuracy: 0.2790740740740741\n",
            "Validation F1-micro score: 0.2790740740740741\n",
            "Validation Loss: 167.88942501191931\n",
            "Change in weights norm: 0.361952095699394\n",
            "label mismatch\n",
            "38800 38800\n",
            "Train Accuracy: 0.277319587628866\n",
            "Train F1-micro score: 0.277319587628866\n",
            "Average Training loss: 6.18847337962183 Total Training Loss:  1206.7523090262569\n"
          ],
          "name": "stdout"
        },
        {
          "output_type": "stream",
          "text": [
            "\r 18%|█▊        | 35/200 [26:03<2:02:35, 44.58s/it]"
          ],
          "name": "stderr"
        },
        {
          "output_type": "stream",
          "text": [
            "Validation accuracy: 0.2803703703703704\n",
            "Validation F1-micro score: 0.2803703703703704\n",
            "Validation Loss: 167.8759046113228\n",
            "Change in weights norm: 0.44773604487857477\n",
            "label mismatch\n",
            "38800 38800\n",
            "Train Accuracy: 0.2777577319587629\n",
            "Train F1-micro score: 0.2777577319587629\n",
            "Average Training loss: 6.187925601360712 Total Training Loss:  1206.6454922653388\n"
          ],
          "name": "stdout"
        },
        {
          "output_type": "stream",
          "text": [
            "\r 18%|█▊        | 36/200 [26:48<2:01:31, 44.46s/it]"
          ],
          "name": "stderr"
        },
        {
          "output_type": "stream",
          "text": [
            "Validation accuracy: 0.2803703703703704\n",
            "Validation F1-micro score: 0.2803703703703704\n",
            "Validation Loss: 167.87293660398618\n",
            "Change in weights norm: 0.3094875141642921\n",
            "label mismatch\n",
            "38800 38800\n",
            "Train Accuracy: 0.27909793814432987\n",
            "Train F1-micro score: 0.27909793814432987\n",
            "Average Training loss: 6.1868248813599935 Total Training Loss:  1206.4308518651987\n"
          ],
          "name": "stdout"
        },
        {
          "output_type": "stream",
          "text": [
            "\r 18%|█▊        | 37/200 [27:32<2:00:38, 44.41s/it]"
          ],
          "name": "stderr"
        },
        {
          "output_type": "stream",
          "text": [
            "Validation accuracy: 0.28203703703703703\n",
            "Validation F1-micro score: 0.28203703703703703\n",
            "Validation Loss: 167.82811397067314\n",
            "Change in weights norm: 0.29896310552725663\n",
            "label mismatch\n",
            "38800 38800\n",
            "Train Accuracy: 0.2793298969072165\n",
            "Train F1-micro score: 0.2793298969072165\n",
            "Average Training loss: 6.186519607957133 Total Training Loss:  1206.371323551641\n"
          ],
          "name": "stdout"
        },
        {
          "output_type": "stream",
          "text": [
            "\r 19%|█▉        | 38/200 [28:16<1:59:41, 44.33s/it]"
          ],
          "name": "stderr"
        },
        {
          "output_type": "stream",
          "text": [
            "Validation accuracy: 0.2827777777777778\n",
            "Validation F1-micro score: 0.2827777777777778\n",
            "Validation Loss: 167.81816281160192\n",
            "Change in weights norm: 0.3018269537777071\n",
            "label mismatch\n",
            "38800 38800\n",
            "Train Accuracy: 0.2802577319587629\n",
            "Train F1-micro score: 0.2802577319587629\n",
            "Average Training loss: 6.185702347871547 Total Training Loss:  1206.2119578349516\n"
          ],
          "name": "stdout"
        },
        {
          "output_type": "stream",
          "text": [
            "\r 20%|█▉        | 39/200 [29:00<1:58:59, 44.35s/it]"
          ],
          "name": "stderr"
        },
        {
          "output_type": "stream",
          "text": [
            "Validation accuracy: 0.28185185185185185\n",
            "Validation F1-micro score: 0.28185185185185185\n",
            "Validation Loss: 167.81483809944797\n",
            "Change in weights norm: 0.2906228961333878\n",
            "label mismatch\n",
            "38800 38800\n",
            "Train Accuracy: 0.28036082474226803\n",
            "Train F1-micro score: 0.28036082474226803\n",
            "Average Training loss: 6.185387131153443 Total Training Loss:  1206.1504905749214\n"
          ],
          "name": "stdout"
        },
        {
          "output_type": "stream",
          "text": [
            "\r 20%|██        | 40/200 [29:45<1:58:12, 44.33s/it]"
          ],
          "name": "stderr"
        },
        {
          "output_type": "stream",
          "text": [
            "Validation accuracy: 0.2816666666666667\n",
            "Validation F1-micro score: 0.2816666666666667\n",
            "Validation Loss: 167.8167109938189\n",
            "Change in weights norm: 0.23737714926413736\n",
            "label mismatch\n",
            "38800 38800\n",
            "Train Accuracy: 0.28036082474226803\n",
            "Train F1-micro score: 0.28036082474226803\n",
            "Average Training loss: 6.18536474531621 Total Training Loss:  1206.146125336661\n"
          ],
          "name": "stdout"
        },
        {
          "output_type": "stream",
          "text": [
            "\r 20%|██        | 41/200 [30:29<1:57:33, 44.36s/it]"
          ],
          "name": "stderr"
        },
        {
          "output_type": "stream",
          "text": [
            "Validation accuracy: 0.2825925925925926\n",
            "Validation F1-micro score: 0.2825925925925926\n",
            "Validation Loss: 167.78803000954485\n",
            "Change in weights norm: 0.2747444416915478\n",
            "label mismatch\n",
            "38800 38800\n",
            "Train Accuracy: 0.28056701030927833\n",
            "Train F1-micro score: 0.28056701030927833\n",
            "Average Training loss: 6.1848694534492905 Total Training Loss:  1206.0495434226116\n"
          ],
          "name": "stdout"
        },
        {
          "output_type": "stream",
          "text": [
            "\r 21%|██        | 42/200 [31:13<1:56:43, 44.33s/it]"
          ],
          "name": "stderr"
        },
        {
          "output_type": "stream",
          "text": [
            "Validation accuracy: 0.2835185185185185\n",
            "Validation F1-micro score: 0.2835185185185185\n",
            "Validation Loss: 167.77695315340185\n",
            "Change in weights norm: 0.3244587308804055\n",
            "label mismatch\n",
            "38800 38800\n",
            "Train Accuracy: 0.28085051546391754\n",
            "Train F1-micro score: 0.28085051546391754\n",
            "Average Training loss: 6.1845396047976235 Total Training Loss:  1205.9852229355365\n"
          ],
          "name": "stdout"
        },
        {
          "output_type": "stream",
          "text": [
            "\r 22%|██▏       | 43/200 [31:57<1:55:44, 44.24s/it]"
          ],
          "name": "stderr"
        },
        {
          "output_type": "stream",
          "text": [
            "Validation accuracy: 0.28425925925925927\n",
            "Validation F1-micro score: 0.28425925925925927\n",
            "Validation Loss: 167.7564205983305\n",
            "Change in weights norm: 0.281731824319843\n",
            "label mismatch\n",
            "38800 38800\n",
            "Train Accuracy: 0.28144329896907216\n",
            "Train F1-micro score: 0.28144329896907216\n",
            "Average Training loss: 6.184057538826586 Total Training Loss:  1205.8912200711843\n"
          ],
          "name": "stdout"
        },
        {
          "output_type": "stream",
          "text": [
            "\r 22%|██▏       | 44/200 [32:42<1:55:15, 44.33s/it]"
          ],
          "name": "stderr"
        },
        {
          "output_type": "stream",
          "text": [
            "Validation accuracy: 0.2846296296296296\n",
            "Validation F1-micro score: 0.2846296296296296\n",
            "Validation Loss: 167.74349997052494\n",
            "Change in weights norm: 0.25319662010337673\n",
            "label mismatch\n",
            "38800 38800\n",
            "Train Accuracy: 0.2816752577319588\n",
            "Train F1-micro score: 0.2816752577319588\n",
            "Average Training loss: 6.183690729231556 Total Training Loss:  1205.8196922001534\n"
          ],
          "name": "stdout"
        },
        {
          "output_type": "stream",
          "text": [
            "\r 22%|██▎       | 45/200 [33:28<1:56:00, 44.91s/it]"
          ],
          "name": "stderr"
        },
        {
          "output_type": "stream",
          "text": [
            "Validation accuracy: 0.28444444444444444\n",
            "Validation F1-micro score: 0.28444444444444444\n",
            "Validation Loss: 167.7391422423961\n",
            "Change in weights norm: 0.3092579914464936\n",
            "label mismatch\n",
            "38800 38800\n",
            "Train Accuracy: 0.2824226804123711\n",
            "Train F1-micro score: 0.2824226804123711\n",
            "Average Training loss: 6.183006761267029 Total Training Loss:  1205.6863184470706\n"
          ],
          "name": "stdout"
        },
        {
          "output_type": "stream",
          "text": [
            "\r 23%|██▎       | 46/200 [34:13<1:54:55, 44.77s/it]"
          ],
          "name": "stderr"
        },
        {
          "output_type": "stream",
          "text": [
            "Validation accuracy: 0.285\n",
            "Validation F1-micro score: 0.285\n",
            "Validation Loss: 167.75611231429286\n",
            "Change in weights norm: 0.2782931966026084\n",
            "label mismatch\n",
            "38800 38800\n",
            "Train Accuracy: 0.2825773195876289\n",
            "Train F1-micro score: 0.2825773195876289\n",
            "Average Training loss: 6.182864466232612 Total Training Loss:  1205.6585709153594\n"
          ],
          "name": "stdout"
        },
        {
          "output_type": "stream",
          "text": [
            "\r 24%|██▎       | 47/200 [34:57<1:53:48, 44.63s/it]"
          ],
          "name": "stderr"
        },
        {
          "output_type": "stream",
          "text": [
            "Validation accuracy: 0.2848148148148148\n",
            "Validation F1-micro score: 0.2848148148148148\n",
            "Validation Loss: 167.72400546291942\n",
            "Change in weights norm: 0.2942436347727517\n",
            "label mismatch\n",
            "38800 38800\n",
            "Train Accuracy: 0.2826288659793814\n",
            "Train F1-micro score: 0.2826288659793814\n",
            "Average Training loss: 6.182619900970566 Total Training Loss:  1205.6108806892603\n"
          ],
          "name": "stdout"
        },
        {
          "output_type": "stream",
          "text": [
            "\r 24%|██▍       | 48/200 [35:41<1:52:50, 44.54s/it]"
          ],
          "name": "stderr"
        },
        {
          "output_type": "stream",
          "text": [
            "Validation accuracy: 0.2848148148148148\n",
            "Validation F1-micro score: 0.2848148148148148\n",
            "Validation Loss: 167.7305847580148\n",
            "Change in weights norm: 0.2834791641076679\n",
            "label mismatch\n",
            "38800 38800\n",
            "Train Accuracy: 0.28304123711340207\n",
            "Train F1-micro score: 0.28304123711340207\n",
            "Average Training loss: 6.182200078057061 Total Training Loss:  1205.5290152211269\n"
          ],
          "name": "stdout"
        },
        {
          "output_type": "stream",
          "text": [
            "\r 24%|██▍       | 49/200 [36:25<1:51:39, 44.37s/it]"
          ],
          "name": "stderr"
        },
        {
          "output_type": "stream",
          "text": [
            "Validation accuracy: 0.2833333333333333\n",
            "Validation F1-micro score: 0.2833333333333333\n",
            "Validation Loss: 167.77735992787902\n",
            "Change in weights norm: 0.25101911033027524\n",
            "label mismatch\n",
            "38800 38800\n",
            "Train Accuracy: 0.28288659793814436\n",
            "Train F1-micro score: 0.28288659793814436\n",
            "Average Training loss: 6.182539909985276 Total Training Loss:  1205.5952824471287\n"
          ],
          "name": "stdout"
        },
        {
          "output_type": "stream",
          "text": [
            "\r 25%|██▌       | 50/200 [37:09<1:50:44, 44.30s/it]"
          ],
          "name": "stderr"
        },
        {
          "output_type": "stream",
          "text": [
            "Validation accuracy: 0.2853703703703704\n",
            "Validation F1-micro score: 0.2853703703703704\n",
            "Validation Loss: 167.71032924864593\n",
            "Change in weights norm: 0.29077715176352453\n",
            "label mismatch\n",
            "38800 38800\n",
            "Train Accuracy: 0.28314432989690724\n",
            "Train F1-micro score: 0.28314432989690724\n",
            "Average Training loss: 6.18192000765152 Total Training Loss:  1205.4744014920464\n"
          ],
          "name": "stdout"
        },
        {
          "output_type": "stream",
          "text": [
            "\r 26%|██▌       | 51/200 [37:53<1:49:35, 44.13s/it]"
          ],
          "name": "stderr"
        },
        {
          "output_type": "stream",
          "text": [
            "Validation accuracy: 0.28555555555555556\n",
            "Validation F1-micro score: 0.28555555555555556\n",
            "Validation Loss: 167.71773455475522\n",
            "Change in weights norm: 0.3178054304149501\n",
            "label mismatch\n",
            "38800 38800\n",
            "Train Accuracy: 0.28353092783505157\n",
            "Train F1-micro score: 0.28353092783505157\n",
            "Average Training loss: 6.181712098493517 Total Training Loss:  1205.4338592062359\n"
          ],
          "name": "stdout"
        },
        {
          "output_type": "stream",
          "text": [
            "\r 26%|██▌       | 52/200 [38:37<1:48:32, 44.00s/it]"
          ],
          "name": "stderr"
        },
        {
          "output_type": "stream",
          "text": [
            "Validation accuracy: 0.2851851851851852\n",
            "Validation F1-micro score: 0.2851851851851852\n",
            "Validation Loss: 167.7162453441784\n",
            "Change in weights norm: 0.27824745025231734\n",
            "label mismatch\n",
            "38800 38800\n",
            "Train Accuracy: 0.28355670103092784\n",
            "Train F1-micro score: 0.28355670103092784\n",
            "Average Training loss: 6.181730476000298 Total Training Loss:  1205.437442820058\n"
          ],
          "name": "stdout"
        },
        {
          "output_type": "stream",
          "text": [
            "\r 26%|██▋       | 53/200 [39:21<1:47:33, 43.90s/it]"
          ],
          "name": "stderr"
        },
        {
          "output_type": "stream",
          "text": [
            "Validation accuracy: 0.2859259259259259\n",
            "Validation F1-micro score: 0.2859259259259259\n",
            "Validation Loss: 167.69803641416792\n",
            "Change in weights norm: 0.2753041125426738\n",
            "label mismatch\n",
            "38800 38800\n",
            "Train Accuracy: 0.2839175257731959\n",
            "Train F1-micro score: 0.2839175257731959\n",
            "Average Training loss: 6.181235239709935 Total Training Loss:  1205.3408717434372\n"
          ],
          "name": "stdout"
        },
        {
          "output_type": "stream",
          "text": [
            "\r 27%|██▋       | 54/200 [40:05<1:47:10, 44.04s/it]"
          ],
          "name": "stderr"
        },
        {
          "output_type": "stream",
          "text": [
            "Validation accuracy: 0.28574074074074074\n",
            "Validation F1-micro score: 0.28574074074074074\n",
            "Validation Loss: 167.69587776494205\n",
            "Change in weights norm: 0.2948680257278061\n",
            "label mismatch\n",
            "38800 38800\n",
            "Train Accuracy: 0.28430412371134023\n",
            "Train F1-micro score: 0.28430412371134023\n",
            "Average Training loss: 6.180835639768953 Total Training Loss:  1205.2629497549458\n"
          ],
          "name": "stdout"
        },
        {
          "output_type": "stream",
          "text": [
            "\r 28%|██▊       | 55/200 [40:49<1:46:20, 44.00s/it]"
          ],
          "name": "stderr"
        },
        {
          "output_type": "stream",
          "text": [
            "Validation accuracy: 0.28685185185185186\n",
            "Validation F1-micro score: 0.28685185185185186\n",
            "Validation Loss: 167.6793052002551\n",
            "Change in weights norm: 0.6750792211146543\n",
            "label mismatch\n",
            "38800 38800\n",
            "Train Accuracy: 0.29025773195876287\n",
            "Train F1-micro score: 0.29025773195876287\n",
            "Average Training loss: 6.175933860648219 Total Training Loss:  1204.3071028264028\n"
          ],
          "name": "stdout"
        },
        {
          "output_type": "stream",
          "text": [
            "\r 28%|██▊       | 56/200 [41:33<1:45:31, 43.97s/it]"
          ],
          "name": "stderr"
        },
        {
          "output_type": "stream",
          "text": [
            "Validation accuracy: 0.31203703703703706\n",
            "Validation F1-micro score: 0.31203703703703706\n",
            "Validation Loss: 167.05717987394982\n",
            "Change in weights norm: 0.9895845540118615\n",
            "label mismatch\n",
            "38800 38800\n",
            "Train Accuracy: 0.3140463917525773\n",
            "Train F1-micro score: 0.3140463917525773\n",
            "Average Training loss: 6.154140183107249 Total Training Loss:  1200.0573357059136\n"
          ],
          "name": "stdout"
        },
        {
          "output_type": "stream",
          "text": [
            "\r 28%|██▊       | 57/200 [42:17<1:44:44, 43.95s/it]"
          ],
          "name": "stderr"
        },
        {
          "output_type": "stream",
          "text": [
            "Validation accuracy: 0.32092592592592595\n",
            "Validation F1-micro score: 0.32092592592592595\n",
            "Validation Loss: 166.8411416448827\n",
            "Change in weights norm: 0.4812164003284496\n",
            "label mismatch\n",
            "38800 38800\n",
            "Train Accuracy: 0.3192525773195876\n",
            "Train F1-micro score: 0.3192525773195876\n",
            "Average Training loss: 6.148648788041847 Total Training Loss:  1198.9865136681601\n"
          ],
          "name": "stdout"
        },
        {
          "output_type": "stream",
          "text": [
            "\r 29%|██▉       | 58/200 [43:00<1:43:57, 43.92s/it]"
          ],
          "name": "stderr"
        },
        {
          "output_type": "stream",
          "text": [
            "Validation accuracy: 0.3287037037037037\n",
            "Validation F1-micro score: 0.3287037037037037\n",
            "Validation Loss: 166.65411745373163\n",
            "Change in weights norm: 0.4395101342242219\n",
            "label mismatch\n",
            "38800 38800\n",
            "Train Accuracy: 0.32510309278350513\n",
            "Train F1-micro score: 0.32510309278350513\n",
            "Average Training loss: 6.14433739429086 Total Training Loss:  1198.1457918867177\n"
          ],
          "name": "stdout"
        },
        {
          "output_type": "stream",
          "text": [
            "\r 30%|██▉       | 59/200 [43:46<1:44:40, 44.54s/it]"
          ],
          "name": "stderr"
        },
        {
          "output_type": "stream",
          "text": [
            "Validation accuracy: 0.3333333333333333\n",
            "Validation F1-micro score: 0.3333333333333333\n",
            "Validation Loss: 166.50961871112042\n",
            "Change in weights norm: 0.43892005519883925\n",
            "label mismatch\n",
            "38800 38800\n",
            "Train Accuracy: 0.33762886597938147\n",
            "Train F1-micro score: 0.33762886597938147\n",
            "Average Training loss: 6.1329434359835995 Total Training Loss:  1195.9239700168018\n"
          ],
          "name": "stdout"
        },
        {
          "output_type": "stream",
          "text": [
            "\r 30%|███       | 60/200 [44:31<1:43:57, 44.55s/it]"
          ],
          "name": "stderr"
        },
        {
          "output_type": "stream",
          "text": [
            "Validation accuracy: 0.3437037037037037\n",
            "Validation F1-micro score: 0.3437037037037037\n",
            "Validation Loss: 166.21624336622227\n",
            "Change in weights norm: 0.439847120680276\n",
            "label mismatch\n",
            "38800 38800\n",
            "Train Accuracy: 0.3472164948453608\n",
            "Train F1-micro score: 0.3472164948453608\n",
            "Average Training loss: 6.123095926170367 Total Training Loss:  1194.0037056032215\n"
          ],
          "name": "stdout"
        },
        {
          "output_type": "stream",
          "text": [
            "\r 30%|███       | 61/200 [45:15<1:43:08, 44.52s/it]"
          ],
          "name": "stderr"
        },
        {
          "output_type": "stream",
          "text": [
            "Validation accuracy: 0.35074074074074074\n",
            "Validation F1-micro score: 0.35074074074074074\n",
            "Validation Loss: 166.01978504018072\n",
            "Change in weights norm: 0.39869979879966655\n",
            "label mismatch\n",
            "38800 38800\n",
            "Train Accuracy: 0.3524742268041237\n",
            "Train F1-micro score: 0.3524742268041237\n",
            "Average Training loss: 6.117450110893763 Total Training Loss:  1192.9027716242838\n"
          ],
          "name": "stdout"
        },
        {
          "output_type": "stream",
          "text": [
            "\r 31%|███       | 62/200 [46:00<1:42:34, 44.60s/it]"
          ],
          "name": "stderr"
        },
        {
          "output_type": "stream",
          "text": [
            "Validation accuracy: 0.3542592592592593\n",
            "Validation F1-micro score: 0.3542592592592593\n",
            "Validation Loss: 165.94420289589277\n",
            "Change in weights norm: 0.33270766427979465\n",
            "label mismatch\n",
            "38800 38800\n",
            "Train Accuracy: 0.3572422680412371\n",
            "Train F1-micro score: 0.35724226804123704\n",
            "Average Training loss: 6.112894737674222 Total Training Loss:  1192.0144738464733\n"
          ],
          "name": "stdout"
        },
        {
          "output_type": "stream",
          "text": [
            "\r 32%|███▏      | 63/200 [46:45<1:41:43, 44.55s/it]"
          ],
          "name": "stderr"
        },
        {
          "output_type": "stream",
          "text": [
            "Validation accuracy: 0.3574074074074074\n",
            "Validation F1-micro score: 0.3574074074074074\n",
            "Validation Loss: 165.88125116153304\n",
            "Change in weights norm: 0.2966666209825547\n",
            "label mismatch\n",
            "38800 38800\n",
            "Train Accuracy: 0.3597680412371134\n",
            "Train F1-micro score: 0.3597680412371134\n",
            "Average Training loss: 6.109862934249378 Total Training Loss:  1191.4232721786286\n"
          ],
          "name": "stdout"
        },
        {
          "output_type": "stream",
          "text": [
            "\r 32%|███▏      | 64/200 [47:29<1:40:45, 44.45s/it]"
          ],
          "name": "stderr"
        },
        {
          "output_type": "stream",
          "text": [
            "Validation accuracy: 0.35685185185185186\n",
            "Validation F1-micro score: 0.3568518518518519\n",
            "Validation Loss: 165.8182839546164\n",
            "Change in weights norm: 0.263462363153217\n",
            "label mismatch\n",
            "38800 38800\n",
            "Train Accuracy: 0.36257731958762884\n",
            "Train F1-micro score: 0.36257731958762884\n",
            "Average Training loss: 6.107666003961212 Total Training Loss:  1190.9948707724363\n"
          ],
          "name": "stdout"
        },
        {
          "output_type": "stream",
          "text": [
            "\r 32%|███▎      | 65/200 [48:13<1:40:03, 44.47s/it]"
          ],
          "name": "stderr"
        },
        {
          "output_type": "stream",
          "text": [
            "Validation accuracy: 0.36092592592592593\n",
            "Validation F1-micro score: 0.36092592592592593\n",
            "Validation Loss: 165.76978925771076\n",
            "Change in weights norm: 0.252885265427622\n",
            "label mismatch\n",
            "38800 38800\n",
            "Train Accuracy: 0.3646907216494845\n",
            "Train F1-micro score: 0.3646907216494845\n",
            "Average Training loss: 6.10536228803905 Total Training Loss:  1190.5456461676147\n"
          ],
          "name": "stdout"
        },
        {
          "output_type": "stream",
          "text": [
            "\r 33%|███▎      | 66/200 [48:58<1:39:03, 44.36s/it]"
          ],
          "name": "stderr"
        },
        {
          "output_type": "stream",
          "text": [
            "Validation accuracy: 0.3622222222222222\n",
            "Validation F1-micro score: 0.36222222222222217\n",
            "Validation Loss: 165.7334261023563\n",
            "Change in weights norm: 0.2335359460874676\n",
            "label mismatch\n",
            "38800 38800\n",
            "Train Accuracy: 0.366340206185567\n",
            "Train F1-micro score: 0.366340206185567\n",
            "Average Training loss: 6.103281875739488 Total Training Loss:  1190.1399657692002\n"
          ],
          "name": "stdout"
        },
        {
          "output_type": "stream",
          "text": [
            "\r 34%|███▎      | 67/200 [49:42<1:38:18, 44.35s/it]"
          ],
          "name": "stderr"
        },
        {
          "output_type": "stream",
          "text": [
            "Validation accuracy: 0.3598148148148148\n",
            "Validation F1-micro score: 0.3598148148148148\n",
            "Validation Loss: 165.78514199513785\n",
            "Change in weights norm: 0.1995758748326907\n",
            "label mismatch\n",
            "38800 38800\n",
            "Train Accuracy: 0.36662371134020616\n",
            "Train F1-micro score: 0.3666237113402062\n",
            "Average Training loss: 6.102678226985252 Total Training Loss:  1190.022254262124\n"
          ],
          "name": "stdout"
        },
        {
          "output_type": "stream",
          "text": [
            "\r 34%|███▍      | 68/200 [50:26<1:37:31, 44.33s/it]"
          ],
          "name": "stderr"
        },
        {
          "output_type": "stream",
          "text": [
            "Validation accuracy: 0.36574074074074076\n",
            "Validation F1-micro score: 0.3657407407407408\n",
            "Validation Loss: 165.62173196000052\n",
            "Change in weights norm: 0.1942712945513682\n",
            "label mismatch\n",
            "38800 38800\n",
            "Train Accuracy: 0.36943298969072164\n",
            "Train F1-micro score: 0.3694329896907216\n",
            "Average Training loss: 6.100066459262138 Total Training Loss:  1189.5129595561168\n"
          ],
          "name": "stdout"
        },
        {
          "output_type": "stream",
          "text": [
            "\r 34%|███▍      | 69/200 [51:11<1:37:13, 44.53s/it]"
          ],
          "name": "stderr"
        },
        {
          "output_type": "stream",
          "text": [
            "Validation accuracy: 0.3661111111111111\n",
            "Validation F1-micro score: 0.3661111111111111\n",
            "Validation Loss: 165.60428832084298\n",
            "Change in weights norm: 0.20032427108676892\n",
            "label mismatch\n",
            "38800 38800\n",
            "Train Accuracy: 0.3713659793814433\n",
            "Train F1-micro score: 0.3713659793814433\n",
            "Average Training loss: 6.098105181252647 Total Training Loss:  1189.1305103442662\n"
          ],
          "name": "stdout"
        },
        {
          "output_type": "stream",
          "text": [
            "\r 35%|███▌      | 70/200 [51:56<1:36:26, 44.51s/it]"
          ],
          "name": "stderr"
        },
        {
          "output_type": "stream",
          "text": [
            "Validation accuracy: 0.3675925925925926\n",
            "Validation F1-micro score: 0.3675925925925925\n",
            "Validation Loss: 165.5657535297906\n",
            "Change in weights norm: 0.19519754758700958\n",
            "label mismatch\n",
            "38800 38800\n",
            "Train Accuracy: 0.3721907216494845\n",
            "Train F1-micro score: 0.3721907216494846\n",
            "Average Training loss: 6.096713262215159 Total Training Loss:  1188.859086131956\n"
          ],
          "name": "stdout"
        },
        {
          "output_type": "stream",
          "text": [
            "\r 36%|███▌      | 71/200 [52:40<1:35:46, 44.54s/it]"
          ],
          "name": "stderr"
        },
        {
          "output_type": "stream",
          "text": [
            "Validation accuracy: 0.3688888888888889\n",
            "Validation F1-micro score: 0.3688888888888889\n",
            "Validation Loss: 165.51613028293573\n",
            "Change in weights norm: 0.1749378103747614\n",
            "label mismatch\n",
            "38800 38800\n",
            "Train Accuracy: 0.3740463917525773\n",
            "Train F1-micro score: 0.3740463917525773\n",
            "Average Training loss: 6.094815211878714 Total Training Loss:  1188.4889663163492\n"
          ],
          "name": "stdout"
        },
        {
          "output_type": "stream",
          "text": [
            "\r 36%|███▌      | 72/200 [53:25<1:35:02, 44.55s/it]"
          ],
          "name": "stderr"
        },
        {
          "output_type": "stream",
          "text": [
            "Validation accuracy: 0.3698148148148148\n",
            "Validation F1-micro score: 0.3698148148148148\n",
            "Validation Loss: 165.47262044155352\n",
            "Change in weights norm: 0.1916150881545894\n",
            "label mismatch\n",
            "38800 38800\n",
            "Train Accuracy: 0.37487113402061856\n",
            "Train F1-micro score: 0.37487113402061856\n",
            "Average Training loss: 6.093766672997124 Total Training Loss:  1188.2845012344392\n"
          ],
          "name": "stdout"
        },
        {
          "output_type": "stream",
          "text": [
            "\r 36%|███▋      | 73/200 [54:13<1:36:50, 45.75s/it]"
          ],
          "name": "stderr"
        },
        {
          "output_type": "stream",
          "text": [
            "Validation accuracy: 0.3725925925925926\n",
            "Validation F1-micro score: 0.3725925925925926\n",
            "Validation Loss: 165.43408649768105\n",
            "Change in weights norm: 0.15928081566768934\n",
            "label mismatch\n",
            "38800 38800\n",
            "Train Accuracy: 0.37618556701030925\n",
            "Train F1-micro score: 0.37618556701030925\n",
            "Average Training loss: 6.092587697292052 Total Training Loss:  1188.05460097195\n"
          ],
          "name": "stdout"
        },
        {
          "output_type": "stream",
          "text": [
            "\r 37%|███▋      | 74/200 [54:58<1:35:09, 45.31s/it]"
          ],
          "name": "stderr"
        },
        {
          "output_type": "stream",
          "text": [
            "Validation accuracy: 0.3718518518518519\n",
            "Validation F1-micro score: 0.3718518518518519\n",
            "Validation Loss: 165.42513885323228\n",
            "Change in weights norm: 0.16359259818590965\n",
            "label mismatch\n",
            "38800 38800\n",
            "Train Accuracy: 0.37757731958762886\n",
            "Train F1-micro score: 0.37757731958762886\n",
            "Average Training loss: 6.091319804022778 Total Training Loss:  1187.8073617844416\n"
          ],
          "name": "stdout"
        },
        {
          "output_type": "stream",
          "text": [
            "\r 38%|███▊      | 75/200 [55:42<1:33:45, 45.00s/it]"
          ],
          "name": "stderr"
        },
        {
          "output_type": "stream",
          "text": [
            "Validation accuracy: 0.3737037037037037\n",
            "Validation F1-micro score: 0.37370370370370365\n",
            "Validation Loss: 165.3905923769838\n",
            "Change in weights norm: 0.17397833519601796\n",
            "label mismatch\n",
            "38800 38800\n",
            "Train Accuracy: 0.3785051546391753\n",
            "Train F1-micro score: 0.3785051546391753\n",
            "Average Training loss: 6.0901281224152255 Total Training Loss:  1187.574983870969\n"
          ],
          "name": "stdout"
        },
        {
          "output_type": "stream",
          "text": [
            "\r 38%|███▊      | 76/200 [56:26<1:32:33, 44.79s/it]"
          ],
          "name": "stderr"
        },
        {
          "output_type": "stream",
          "text": [
            "Validation accuracy: 0.37296296296296294\n",
            "Validation F1-micro score: 0.37296296296296294\n",
            "Validation Loss: 165.38349134071223\n",
            "Change in weights norm: 0.15281710585516453\n",
            "label mismatch\n",
            "38800 38800\n",
            "Train Accuracy: 0.3793556701030928\n",
            "Train F1-micro score: 0.3793556701030928\n",
            "Average Training loss: 6.089194505783207 Total Training Loss:  1187.3929286277255\n"
          ],
          "name": "stdout"
        },
        {
          "output_type": "stream",
          "text": [
            "\r 38%|███▊      | 77/200 [57:10<1:31:29, 44.63s/it]"
          ],
          "name": "stderr"
        },
        {
          "output_type": "stream",
          "text": [
            "Validation accuracy: 0.3748148148148148\n",
            "Validation F1-micro score: 0.3748148148148148\n",
            "Validation Loss: 165.3595983829142\n",
            "Change in weights norm: 0.15204128104860443\n",
            "label mismatch\n",
            "38800 38800\n",
            "Train Accuracy: 0.3802577319587629\n",
            "Train F1-micro score: 0.3802577319587629\n",
            "Average Training loss: 6.087988278172386 Total Training Loss:  1187.1577142436151\n"
          ],
          "name": "stdout"
        },
        {
          "output_type": "stream",
          "text": [
            "\r 39%|███▉      | 78/200 [57:55<1:30:31, 44.52s/it]"
          ],
          "name": "stderr"
        },
        {
          "output_type": "stream",
          "text": [
            "Validation accuracy: 0.375\n",
            "Validation F1-micro score: 0.375\n",
            "Validation Loss: 165.34703901898058\n",
            "Change in weights norm: 0.15848159347891766\n",
            "label mismatch\n",
            "38800 38800\n",
            "Train Accuracy: 0.3802061855670103\n",
            "Train F1-micro score: 0.3802061855670103\n",
            "Average Training loss: 6.087988344140877 Total Training Loss:  1187.157727107471\n"
          ],
          "name": "stdout"
        },
        {
          "output_type": "stream",
          "text": [
            "\r 40%|███▉      | 79/200 [58:40<1:30:07, 44.69s/it]"
          ],
          "name": "stderr"
        },
        {
          "output_type": "stream",
          "text": [
            "Validation accuracy: 0.3738888888888889\n",
            "Validation F1-micro score: 0.3738888888888889\n",
            "Validation Loss: 165.36334920072994\n",
            "Change in weights norm: 0.15527981663967752\n",
            "label mismatch\n",
            "38800 38800\n",
            "Train Accuracy: 0.38061855670103095\n",
            "Train F1-micro score: 0.38061855670103095\n",
            "Average Training loss: 6.087435738623705 Total Training Loss:  1187.0499690316224\n"
          ],
          "name": "stdout"
        },
        {
          "output_type": "stream",
          "text": [
            "\r 40%|████      | 80/200 [59:24<1:29:00, 44.50s/it]"
          ],
          "name": "stderr"
        },
        {
          "output_type": "stream",
          "text": [
            "Validation accuracy: 0.3762962962962963\n",
            "Validation F1-micro score: 0.37629629629629624\n",
            "Validation Loss: 165.29705908427493\n",
            "Change in weights norm: 0.1576242717006824\n",
            "label mismatch\n",
            "38800 38800\n",
            "Train Accuracy: 0.38237113402061856\n",
            "Train F1-micro score: 0.3823711340206186\n",
            "Average Training loss: 6.085827984967216 Total Training Loss:  1186.7364570686073\n"
          ],
          "name": "stdout"
        },
        {
          "output_type": "stream",
          "text": [
            "\r 40%|████      | 81/200 [1:00:08<1:27:57, 44.35s/it]"
          ],
          "name": "stderr"
        },
        {
          "output_type": "stream",
          "text": [
            "Validation accuracy: 0.3774074074074074\n",
            "Validation F1-micro score: 0.3774074074074074\n",
            "Validation Loss: 165.27537149976175\n",
            "Change in weights norm: 0.149691140334991\n",
            "label mismatch\n",
            "38800 38800\n",
            "Train Accuracy: 0.38273195876288657\n",
            "Train F1-micro score: 0.38273195876288657\n",
            "Average Training loss: 6.085141280915152 Total Training Loss:  1186.6025497784547\n"
          ],
          "name": "stdout"
        },
        {
          "output_type": "stream",
          "text": [
            "\r 41%|████      | 82/200 [1:00:52<1:26:54, 44.19s/it]"
          ],
          "name": "stderr"
        },
        {
          "output_type": "stream",
          "text": [
            "Validation accuracy: 0.3774074074074074\n",
            "Validation F1-micro score: 0.3774074074074074\n",
            "Validation Loss: 165.2771527739207\n",
            "Change in weights norm: 0.146546744663942\n",
            "label mismatch\n",
            "38800 38800\n",
            "Train Accuracy: 0.3834536082474227\n",
            "Train F1-micro score: 0.3834536082474227\n",
            "Average Training loss: 6.084681680845951 Total Training Loss:  1186.5129277649605\n"
          ],
          "name": "stdout"
        },
        {
          "output_type": "stream",
          "text": [
            "\r 42%|████▏     | 83/200 [1:01:35<1:25:53, 44.04s/it]"
          ],
          "name": "stderr"
        },
        {
          "output_type": "stream",
          "text": [
            "Validation accuracy: 0.37962962962962965\n",
            "Validation F1-micro score: 0.37962962962962965\n",
            "Validation Loss: 165.23970586211485\n",
            "Change in weights norm: 0.15737736663116228\n",
            "label mismatch\n",
            "38800 38800\n",
            "Train Accuracy: 0.38463917525773195\n",
            "Train F1-micro score: 0.384639175257732\n",
            "Average Training loss: 6.083416236159526 Total Training Loss:  1186.2661660511076\n"
          ],
          "name": "stdout"
        },
        {
          "output_type": "stream",
          "text": [
            "\r 42%|████▏     | 84/200 [1:02:19<1:25:04, 44.01s/it]"
          ],
          "name": "stderr"
        },
        {
          "output_type": "stream",
          "text": [
            "Validation accuracy: 0.3788888888888889\n",
            "Validation F1-micro score: 0.3788888888888889\n",
            "Validation Loss: 165.23601528466102\n",
            "Change in weights norm: 0.15601523145196677\n",
            "label mismatch\n",
            "38800 38800\n",
            "Train Accuracy: 0.3847680412371134\n",
            "Train F1-micro score: 0.38476804123711333\n",
            "Average Training loss: 6.083183442574892 Total Training Loss:  1186.220771302104\n"
          ],
          "name": "stdout"
        },
        {
          "output_type": "stream",
          "text": [
            "\r 42%|████▎     | 85/200 [1:03:03<1:24:18, 43.99s/it]"
          ],
          "name": "stderr"
        },
        {
          "output_type": "stream",
          "text": [
            "Validation accuracy: 0.37907407407407406\n",
            "Validation F1-micro score: 0.37907407407407406\n",
            "Validation Loss: 165.24659470178287\n",
            "Change in weights norm: 0.15961544826503932\n",
            "label mismatch\n",
            "38800 38800\n",
            "Train Accuracy: 0.38507731958762886\n",
            "Train F1-micro score: 0.38507731958762886\n",
            "Average Training loss: 6.082780154739655 Total Training Loss:  1186.1421301742328\n"
          ],
          "name": "stdout"
        },
        {
          "output_type": "stream",
          "text": [
            "\r 43%|████▎     | 86/200 [1:03:51<1:25:52, 45.20s/it]"
          ],
          "name": "stderr"
        },
        {
          "output_type": "stream",
          "text": [
            "Validation accuracy: 0.37777777777777777\n",
            "Validation F1-micro score: 0.37777777777777777\n",
            "Validation Loss: 165.2569211093984\n",
            "Change in weights norm: 0.17016107040823586\n",
            "label mismatch\n",
            "38800 38800\n",
            "Train Accuracy: 0.3857216494845361\n",
            "Train F1-micro score: 0.3857216494845361\n",
            "Average Training loss: 6.082134410784302 Total Training Loss:  1186.0162101029389\n"
          ],
          "name": "stdout"
        },
        {
          "output_type": "stream",
          "text": [
            "\r 44%|████▎     | 87/200 [1:04:37<1:25:17, 45.29s/it]"
          ],
          "name": "stderr"
        },
        {
          "output_type": "stream",
          "text": [
            "Validation accuracy: 0.38074074074074077\n",
            "Validation F1-micro score: 0.38074074074074077\n",
            "Validation Loss: 165.1947417276509\n",
            "Change in weights norm: 0.17202141644515562\n",
            "label mismatch\n",
            "38800 38800\n",
            "Train Accuracy: 0.3859278350515464\n",
            "Train F1-micro score: 0.38592783505154643\n",
            "Average Training loss: 6.081667928805026 Total Training Loss:  1185.9252461169801\n"
          ],
          "name": "stdout"
        },
        {
          "output_type": "stream",
          "text": [
            "\r 44%|████▍     | 88/200 [1:05:21<1:23:51, 44.92s/it]"
          ],
          "name": "stderr"
        },
        {
          "output_type": "stream",
          "text": [
            "Validation accuracy: 0.37962962962962965\n",
            "Validation F1-micro score: 0.37962962962962965\n",
            "Validation Loss: 165.20261549236733\n",
            "Change in weights norm: 0.18250624335253576\n",
            "label mismatch\n",
            "38800 38800\n",
            "Train Accuracy: 0.38670103092783503\n",
            "Train F1-micro score: 0.38670103092783503\n",
            "Average Training loss: 6.0807237328033255 Total Training Loss:  1185.7411278966485\n"
          ],
          "name": "stdout"
        },
        {
          "output_type": "stream",
          "text": [
            "\r 44%|████▍     | 89/200 [1:06:05<1:22:44, 44.73s/it]"
          ],
          "name": "stderr"
        },
        {
          "output_type": "stream",
          "text": [
            "Validation accuracy: 0.3775925925925926\n",
            "Validation F1-micro score: 0.3775925925925926\n",
            "Validation Loss: 165.24728647800939\n",
            "Change in weights norm: 0.18843302578720947\n",
            "label mismatch\n",
            "38800 38800\n",
            "Train Accuracy: 0.3865979381443299\n",
            "Train F1-micro score: 0.3865979381443299\n",
            "Average Training loss: 6.080783643428756 Total Training Loss:  1185.7528104686073\n"
          ],
          "name": "stdout"
        },
        {
          "output_type": "stream",
          "text": [
            "\r 45%|████▌     | 90/200 [1:06:49<1:21:43, 44.58s/it]"
          ],
          "name": "stderr"
        },
        {
          "output_type": "stream",
          "text": [
            "Validation accuracy: 0.3811111111111111\n",
            "Validation F1-micro score: 0.3811111111111111\n",
            "Validation Loss: 165.17320028356335\n",
            "Change in weights norm: 0.1974995892246231\n",
            "label mismatch\n",
            "38800 38800\n",
            "Train Accuracy: 0.38713917525773195\n",
            "Train F1-micro score: 0.38713917525773195\n",
            "Average Training loss: 6.080343759381046 Total Training Loss:  1185.667033079304\n"
          ],
          "name": "stdout"
        },
        {
          "output_type": "stream",
          "text": [
            "\r 46%|████▌     | 91/200 [1:07:34<1:20:56, 44.56s/it]"
          ],
          "name": "stderr"
        },
        {
          "output_type": "stream",
          "text": [
            "Validation accuracy: 0.3811111111111111\n",
            "Validation F1-micro score: 0.3811111111111111\n",
            "Validation Loss: 165.1679062016541\n",
            "Change in weights norm: 0.20219106135807471\n",
            "label mismatch\n",
            "38800 38800\n",
            "Train Accuracy: 0.38788659793814434\n",
            "Train F1-micro score: 0.38788659793814434\n",
            "Average Training loss: 6.079353873820376 Total Training Loss:  1185.4740053949733\n"
          ],
          "name": "stdout"
        },
        {
          "output_type": "stream",
          "text": [
            "\r 46%|████▌     | 92/200 [1:08:18<1:20:02, 44.47s/it]"
          ],
          "name": "stderr"
        },
        {
          "output_type": "stream",
          "text": [
            "Validation accuracy: 0.38185185185185183\n",
            "Validation F1-micro score: 0.38185185185185183\n",
            "Validation Loss: 165.15771401821326\n",
            "Change in weights norm: 0.2180839463222127\n",
            "label mismatch\n",
            "38800 38800\n",
            "Train Accuracy: 0.38757731958762887\n",
            "Train F1-micro score: 0.38757731958762887\n",
            "Average Training loss: 6.079760767547188 Total Training Loss:  1185.5533496717017\n"
          ],
          "name": "stdout"
        },
        {
          "output_type": "stream",
          "text": [
            "\r 46%|████▋     | 93/200 [1:09:02<1:19:11, 44.41s/it]"
          ],
          "name": "stderr"
        },
        {
          "output_type": "stream",
          "text": [
            "Validation accuracy: 0.38092592592592595\n",
            "Validation F1-micro score: 0.380925925925926\n",
            "Validation Loss: 165.1589729917654\n",
            "Change in weights norm: 0.2303613222091543\n",
            "label mismatch\n",
            "38800 38800\n",
            "Train Accuracy: 0.39288659793814434\n",
            "Train F1-micro score: 0.3928865979381443\n",
            "Average Training loss: 6.075159792591976 Total Training Loss:  1184.6561595554354\n"
          ],
          "name": "stdout"
        },
        {
          "output_type": "stream",
          "text": [
            "\r 47%|████▋     | 94/200 [1:09:46<1:18:15, 44.30s/it]"
          ],
          "name": "stderr"
        },
        {
          "output_type": "stream",
          "text": [
            "Validation accuracy: 0.39425925925925925\n",
            "Validation F1-micro score: 0.39425925925925925\n",
            "Validation Loss: 164.88188878821154\n",
            "Change in weights norm: 0.8751658298278543\n",
            "label mismatch\n",
            "38800 38800\n",
            "Train Accuracy: 0.4027835051546392\n",
            "Train F1-micro score: 0.4027835051546392\n",
            "Average Training loss: 6.066985305639726 Total Training Loss:  1183.0621345997465\n"
          ],
          "name": "stdout"
        },
        {
          "output_type": "stream",
          "text": [
            "\r 48%|████▊     | 95/200 [1:10:30<1:17:22, 44.22s/it]"
          ],
          "name": "stderr"
        },
        {
          "output_type": "stream",
          "text": [
            "Validation accuracy: 0.3985185185185185\n",
            "Validation F1-micro score: 0.3985185185185185\n",
            "Validation Loss: 164.73946840568004\n",
            "Change in weights norm: 0.3705529409925582\n",
            "label mismatch\n",
            "38800 38800\n",
            "Train Accuracy: 0.40621134020618554\n",
            "Train F1-micro score: 0.40621134020618554\n",
            "Average Training loss: 6.06356045850799 Total Training Loss:  1182.394289409058\n"
          ],
          "name": "stdout"
        },
        {
          "output_type": "stream",
          "text": [
            "\r 48%|████▊     | 96/200 [1:11:14<1:16:28, 44.12s/it]"
          ],
          "name": "stderr"
        },
        {
          "output_type": "stream",
          "text": [
            "Validation accuracy: 0.40166666666666667\n",
            "Validation F1-micro score: 0.40166666666666667\n",
            "Validation Loss: 164.67801450492584\n",
            "Change in weights norm: 0.26153087625629584\n",
            "label mismatch\n",
            "38800 38800\n",
            "Train Accuracy: 0.40894329896907217\n",
            "Train F1-micro score: 0.40894329896907217\n",
            "Average Training loss: 6.060697298212318 Total Training Loss:  1181.835973151402\n"
          ],
          "name": "stdout"
        },
        {
          "output_type": "stream",
          "text": [
            "\r 48%|████▊     | 97/200 [1:11:59<1:15:59, 44.26s/it]"
          ],
          "name": "stderr"
        },
        {
          "output_type": "stream",
          "text": [
            "Validation accuracy: 0.40444444444444444\n",
            "Validation F1-micro score: 0.40444444444444444\n",
            "Validation Loss: 164.5904220703516\n",
            "Change in weights norm: 0.2062491863193204\n",
            "label mismatch\n",
            "38800 38800\n",
            "Train Accuracy: 0.4100257731958763\n",
            "Train F1-micro score: 0.4100257731958763\n",
            "Average Training loss: 6.0589172498105395 Total Training Loss:  1181.4888637130553\n"
          ],
          "name": "stdout"
        },
        {
          "output_type": "stream",
          "text": [
            "\r 49%|████▉     | 98/200 [1:12:43<1:15:04, 44.16s/it]"
          ],
          "name": "stderr"
        },
        {
          "output_type": "stream",
          "text": [
            "Validation accuracy: 0.4046296296296296\n",
            "Validation F1-micro score: 0.4046296296296297\n",
            "Validation Loss: 164.58768867678953\n",
            "Change in weights norm: 0.18120850976786412\n",
            "label mismatch\n",
            "38800 38800\n",
            "Train Accuracy: 0.4117783505154639\n",
            "Train F1-micro score: 0.4117783505154639\n",
            "Average Training loss: 6.057343420846957 Total Training Loss:  1181.1819670651566\n"
          ],
          "name": "stdout"
        },
        {
          "output_type": "stream",
          "text": [
            "\r 50%|████▉     | 99/200 [1:13:27<1:14:07, 44.04s/it]"
          ],
          "name": "stderr"
        },
        {
          "output_type": "stream",
          "text": [
            "Validation accuracy: 0.405\n",
            "Validation F1-micro score: 0.405\n",
            "Validation Loss: 164.5412439553506\n",
            "Change in weights norm: 0.17751167063071324\n",
            "label mismatch\n",
            "38800 38800\n",
            "Train Accuracy: 0.41190721649484535\n",
            "Train F1-micro score: 0.41190721649484535\n",
            "Average Training loss: 6.056754183726332 Total Training Loss:  1181.0670658266347\n"
          ],
          "name": "stdout"
        },
        {
          "output_type": "stream",
          "text": [
            "\r 50%|█████     | 100/200 [1:14:14<1:14:53, 44.94s/it]"
          ],
          "name": "stderr"
        },
        {
          "output_type": "stream",
          "text": [
            "Validation accuracy: 0.4048148148148148\n",
            "Validation F1-micro score: 0.4048148148148148\n",
            "Validation Loss: 164.52443244319784\n",
            "Change in weights norm: 0.16874585611611426\n",
            "label mismatch\n",
            "38800 38800\n",
            "Train Accuracy: 0.4138659793814433\n",
            "Train F1-micro score: 0.4138659793814433\n",
            "Average Training loss: 6.055083814569788 Total Training Loss:  1180.7413438411088\n"
          ],
          "name": "stdout"
        },
        {
          "output_type": "stream",
          "text": [
            "\r 50%|█████     | 101/200 [1:14:57<1:13:34, 44.60s/it]"
          ],
          "name": "stderr"
        },
        {
          "output_type": "stream",
          "text": [
            "Validation accuracy: 0.40685185185185185\n",
            "Validation F1-micro score: 0.40685185185185185\n",
            "Validation Loss: 164.4956545795705\n",
            "Change in weights norm: 0.17525177579806314\n",
            "label mismatch\n",
            "38800 38800\n",
            "Train Accuracy: 0.4145360824742268\n",
            "Train F1-micro score: 0.4145360824742268\n",
            "Average Training loss: 6.054096648422931 Total Training Loss:  1180.5488464424716\n"
          ],
          "name": "stdout"
        },
        {
          "output_type": "stream",
          "text": [
            "\r 51%|█████     | 102/200 [1:15:41<1:12:22, 44.31s/it]"
          ],
          "name": "stderr"
        },
        {
          "output_type": "stream",
          "text": [
            "Validation accuracy: 0.4088888888888889\n",
            "Validation F1-micro score: 0.40888888888888886\n",
            "Validation Loss: 164.46140840468723\n",
            "Change in weights norm: 0.160161699120289\n",
            "label mismatch\n",
            "38800 38800\n",
            "Train Accuracy: 0.41505154639175257\n",
            "Train F1-micro score: 0.41505154639175257\n",
            "Average Training loss: 6.053657373712098 Total Training Loss:  1180.4631878738592\n"
          ],
          "name": "stdout"
        },
        {
          "output_type": "stream",
          "text": [
            "\r 52%|█████▏    | 103/200 [1:16:25<1:11:29, 44.22s/it]"
          ],
          "name": "stderr"
        },
        {
          "output_type": "stream",
          "text": [
            "Validation accuracy: 0.4075925925925926\n",
            "Validation F1-micro score: 0.4075925925925926\n",
            "Validation Loss: 164.46613906009839\n",
            "Change in weights norm: 0.18756464006772763\n",
            "label mismatch\n",
            "38800 38800\n",
            "Train Accuracy: 0.4161855670103093\n",
            "Train F1-micro score: 0.4161855670103093\n",
            "Average Training loss: 6.052391590610092 Total Training Loss:  1180.2163601689679\n"
          ],
          "name": "stdout"
        },
        {
          "output_type": "stream",
          "text": [
            "\r 52%|█████▏    | 104/200 [1:17:09<1:10:34, 44.11s/it]"
          ],
          "name": "stderr"
        },
        {
          "output_type": "stream",
          "text": [
            "Validation accuracy: 0.4098148148148148\n",
            "Validation F1-micro score: 0.4098148148148148\n",
            "Validation Loss: 164.4392903814886\n",
            "Change in weights norm: 0.21735539460066025\n",
            "label mismatch\n",
            "38800 38800\n",
            "Train Accuracy: 0.41667525773195874\n",
            "Train F1-micro score: 0.41667525773195874\n",
            "Average Training loss: 6.051778038334508 Total Training Loss:  1180.096717475229\n"
          ],
          "name": "stdout"
        },
        {
          "output_type": "stream",
          "text": [
            "\r 52%|█████▎    | 105/200 [1:17:53<1:09:43, 44.03s/it]"
          ],
          "name": "stderr"
        },
        {
          "output_type": "stream",
          "text": [
            "Validation accuracy: 0.40814814814814815\n",
            "Validation F1-micro score: 0.40814814814814815\n",
            "Validation Loss: 164.43809416357962\n",
            "Change in weights norm: 0.32203412303883444\n",
            "label mismatch\n",
            "38800 38800\n",
            "Train Accuracy: 0.41786082474226804\n",
            "Train F1-micro score: 0.41786082474226804\n",
            "Average Training loss: 6.050584588865968 Total Training Loss:  1179.8639948288637\n"
          ],
          "name": "stdout"
        },
        {
          "output_type": "stream",
          "text": [
            "\r 53%|█████▎    | 106/200 [1:18:37<1:09:06, 44.11s/it]"
          ],
          "name": "stderr"
        },
        {
          "output_type": "stream",
          "text": [
            "Validation accuracy: 0.4087037037037037\n",
            "Validation F1-micro score: 0.4087037037037037\n",
            "Validation Loss: 164.41382209669774\n",
            "Change in weights norm: 0.33553042154603\n"
          ],
          "name": "stdout"
        },
        {
          "output_type": "stream",
          "text": [
            "\r 54%|█████▎    | 107/200 [1:19:21<1:08:12, 44.00s/it]"
          ],
          "name": "stderr"
        },
        {
          "output_type": "stream",
          "text": [
            "Validation accuracy: 0.4096296296296296\n",
            "Validation F1-micro score: 0.4096296296296296\n",
            "Validation Loss: 164.41407543383266\n",
            "Change in weights norm: 0.44612513264920156\n",
            "label mismatch\n",
            "38800 38800\n",
            "Train Accuracy: 0.4196907216494845\n",
            "Train F1-micro score: 0.4196907216494845\n",
            "Average Training loss: 6.048781699365697 Total Training Loss:  1179.5124313763108\n"
          ],
          "name": "stdout"
        },
        {
          "output_type": "stream",
          "text": [
            "\r 54%|█████▍    | 108/200 [1:20:05<1:07:24, 43.96s/it]"
          ],
          "name": "stderr"
        },
        {
          "output_type": "stream",
          "text": [
            "Validation accuracy: 0.41203703703703703\n",
            "Validation F1-micro score: 0.41203703703703703\n",
            "Validation Loss: 164.3818157368305\n",
            "Change in weights norm: 0.4010904021151131\n",
            "label mismatch\n",
            "38800 38800\n",
            "Train Accuracy: 0.4206443298969072\n",
            "Train F1-micro score: 0.4206443298969072\n",
            "Average Training loss: 6.048190645132567 Total Training Loss:  1179.3971758008506\n"
          ],
          "name": "stdout"
        },
        {
          "output_type": "stream",
          "text": [
            "\r 55%|█████▍    | 109/200 [1:20:49<1:06:36, 43.92s/it]"
          ],
          "name": "stderr"
        },
        {
          "output_type": "stream",
          "text": [
            "Validation accuracy: 0.4111111111111111\n",
            "Validation F1-micro score: 0.4111111111111111\n",
            "Validation Loss: 164.3819649758455\n",
            "Change in weights norm: 0.2479453114282777\n",
            "label mismatch\n",
            "38800 38800\n",
            "Train Accuracy: 0.4215979381443299\n",
            "Train F1-micro score: 0.4215979381443299\n",
            "Average Training loss: 6.047145798770364 Total Training Loss:  1179.193430760221\n"
          ],
          "name": "stdout"
        },
        {
          "output_type": "stream",
          "text": [
            "\r 55%|█████▌    | 110/200 [1:21:32<1:05:46, 43.85s/it]"
          ],
          "name": "stderr"
        },
        {
          "output_type": "stream",
          "text": [
            "Validation accuracy: 0.4122222222222222\n",
            "Validation F1-micro score: 0.41222222222222216\n",
            "Validation Loss: 164.33557379353266\n",
            "Change in weights norm: 0.20240049568778584\n",
            "label mismatch\n",
            "38800 38800\n",
            "Train Accuracy: 0.4223453608247423\n",
            "Train F1-micro score: 0.4223453608247423\n",
            "Average Training loss: 6.046095587511159 Total Training Loss:  1178.988639564676\n"
          ],
          "name": "stdout"
        },
        {
          "output_type": "stream",
          "text": [
            "\r 56%|█████▌    | 111/200 [1:22:16<1:05:09, 43.93s/it]"
          ],
          "name": "stderr"
        },
        {
          "output_type": "stream",
          "text": [
            "Validation accuracy: 0.4122222222222222\n",
            "Validation F1-micro score: 0.41222222222222216\n",
            "Validation Loss: 164.320068778473\n",
            "Change in weights norm: 0.21648814094881869\n",
            "label mismatch\n",
            "38800 38800\n",
            "Train Accuracy: 0.4233505154639175\n",
            "Train F1-micro score: 0.4233505154639175\n",
            "Average Training loss: 6.044946689191596 Total Training Loss:  1178.7646043923612\n"
          ],
          "name": "stdout"
        },
        {
          "output_type": "stream",
          "text": [
            "\r 56%|█████▌    | 112/200 [1:23:00<1:04:24, 43.91s/it]"
          ],
          "name": "stderr"
        },
        {
          "output_type": "stream",
          "text": [
            "Validation accuracy: 0.4151851851851852\n",
            "Validation F1-micro score: 0.4151851851851852\n",
            "Validation Loss: 164.274092546605\n",
            "Change in weights norm: 0.2025207626699899\n",
            "label mismatch\n",
            "38800 38800\n",
            "Train Accuracy: 0.42371134020618556\n",
            "Train F1-micro score: 0.42371134020618556\n",
            "Average Training loss: 6.044878503674261 Total Training Loss:  1178.751308216481\n"
          ],
          "name": "stdout"
        },
        {
          "output_type": "stream",
          "text": [
            "\r 56%|█████▋    | 113/200 [1:23:44<1:03:37, 43.88s/it]"
          ],
          "name": "stderr"
        },
        {
          "output_type": "stream",
          "text": [
            "Validation accuracy: 0.415\n",
            "Validation F1-micro score: 0.415\n",
            "Validation Loss: 164.26609391158064\n",
            "Change in weights norm: 0.19475745243817277\n",
            "label mismatch\n",
            "38800 38800\n",
            "Train Accuracy: 0.4245876288659794\n",
            "Train F1-micro score: 0.42458762886597945\n",
            "Average Training loss: 6.04391907553656 Total Training Loss:  1178.5642197296293\n"
          ],
          "name": "stdout"
        },
        {
          "output_type": "stream",
          "text": [
            "\r 57%|█████▋    | 114/200 [1:24:30<1:03:49, 44.52s/it]"
          ],
          "name": "stderr"
        },
        {
          "output_type": "stream",
          "text": [
            "Validation accuracy: 0.4164814814814815\n",
            "Validation F1-micro score: 0.4164814814814815\n",
            "Validation Loss: 164.27306248685102\n",
            "Change in weights norm: 0.19328569789499955\n",
            "label mismatch\n",
            "38800 38800\n",
            "Train Accuracy: 0.4257474226804124\n",
            "Train F1-micro score: 0.4257474226804124\n",
            "Average Training loss: 6.042892047324374 Total Training Loss:  1178.363949228253\n"
          ],
          "name": "stdout"
        },
        {
          "output_type": "stream",
          "text": [
            "\r 57%|█████▊    | 115/200 [1:25:14<1:02:51, 44.37s/it]"
          ],
          "name": "stderr"
        },
        {
          "output_type": "stream",
          "text": [
            "Validation accuracy: 0.4174074074074074\n",
            "Validation F1-micro score: 0.4174074074074074\n",
            "Validation Loss: 164.2378709845522\n",
            "Change in weights norm: 0.3398854304718542\n",
            "label mismatch\n",
            "38800 38800\n",
            "Train Accuracy: 0.42716494845360825\n",
            "Train F1-micro score: 0.42716494845360825\n",
            "Average Training loss: 6.041636684365317 Total Training Loss:  1178.1191534512368\n"
          ],
          "name": "stdout"
        },
        {
          "output_type": "stream",
          "text": [
            "\r 58%|█████▊    | 116/200 [1:25:58<1:01:55, 44.23s/it]"
          ],
          "name": "stderr"
        },
        {
          "output_type": "stream",
          "text": [
            "Validation accuracy: 0.4172222222222222\n",
            "Validation F1-micro score: 0.4172222222222222\n",
            "Validation Loss: 164.2142568424194\n",
            "Change in weights norm: 0.42612591058875854\n",
            "label mismatch\n",
            "38800 38800\n",
            "Train Accuracy: 0.428659793814433\n",
            "Train F1-micro score: 0.428659793814433\n",
            "Average Training loss: 6.040146491474407 Total Training Loss:  1177.8285658375094\n"
          ],
          "name": "stdout"
        },
        {
          "output_type": "stream",
          "text": [
            "\r 58%|█████▊    | 117/200 [1:26:42<1:00:55, 44.04s/it]"
          ],
          "name": "stderr"
        },
        {
          "output_type": "stream",
          "text": [
            "Validation accuracy: 0.41944444444444445\n",
            "Validation F1-micro score: 0.41944444444444445\n",
            "Validation Loss: 164.18601959571237\n",
            "Change in weights norm: 0.2665846238007817\n",
            "label mismatch\n",
            "38800 38800\n",
            "Train Accuracy: 0.4296907216494845\n",
            "Train F1-micro score: 0.4296907216494846\n",
            "Average Training loss: 6.038913527036256 Total Training Loss:  1177.58813777207\n"
          ],
          "name": "stdout"
        },
        {
          "output_type": "stream",
          "text": [
            "\r 59%|█████▉    | 118/200 [1:27:25<1:00:04, 43.96s/it]"
          ],
          "name": "stderr"
        },
        {
          "output_type": "stream",
          "text": [
            "Validation accuracy: 0.4198148148148148\n",
            "Validation F1-micro score: 0.4198148148148148\n",
            "Validation Loss: 164.16517883217506\n",
            "Change in weights norm: 0.2162791103094451\n",
            "label mismatch\n",
            "38800 38800\n",
            "Train Accuracy: 0.43100515463917527\n",
            "Train F1-micro score: 0.43100515463917527\n",
            "Average Training loss: 6.037794312906994 Total Training Loss:  1177.369891016864\n"
          ],
          "name": "stdout"
        },
        {
          "output_type": "stream",
          "text": [
            "\r 60%|█████▉    | 119/200 [1:28:09<59:24, 44.01s/it]  "
          ],
          "name": "stderr"
        },
        {
          "output_type": "stream",
          "text": [
            "Validation accuracy: 0.4198148148148148\n",
            "Validation F1-micro score: 0.4198148148148148\n",
            "Validation Loss: 164.17031172929077\n",
            "Change in weights norm: 0.18690565356687194\n",
            "label mismatch\n",
            "38800 38800\n",
            "Train Accuracy: 0.4319845360824742\n",
            "Train F1-micro score: 0.43198453608247417\n",
            "Average Training loss: 6.036884369200554 Total Training Loss:  1177.192451994108\n"
          ],
          "name": "stdout"
        },
        {
          "output_type": "stream",
          "text": [
            "\r 60%|██████    | 120/200 [1:28:53<58:34, 43.93s/it]"
          ],
          "name": "stderr"
        },
        {
          "output_type": "stream",
          "text": [
            "Validation accuracy: 0.42148148148148146\n",
            "Validation F1-micro score: 0.42148148148148146\n",
            "Validation Loss: 164.13624829289031\n",
            "Change in weights norm: 0.18116685008683703\n",
            "label mismatch\n",
            "38800 38800\n",
            "Train Accuracy: 0.43170103092783507\n",
            "Train F1-micro score: 0.43170103092783507\n",
            "Average Training loss: 6.036841081772049 Total Training Loss:  1177.1840109455495\n"
          ],
          "name": "stdout"
        },
        {
          "output_type": "stream",
          "text": [
            "\r 60%|██████    | 121/200 [1:29:38<58:01, 44.06s/it]"
          ],
          "name": "stderr"
        },
        {
          "output_type": "stream",
          "text": [
            "Validation accuracy: 0.4203703703703704\n",
            "Validation F1-micro score: 0.42037037037037045\n",
            "Validation Loss: 164.12827903470443\n",
            "Change in weights norm: 0.17422255657532104\n",
            "label mismatch\n",
            "38800 38800\n",
            "Train Accuracy: 0.43347938144329895\n",
            "Train F1-micro score: 0.43347938144329895\n",
            "Average Training loss: 6.03531321985216 Total Training Loss:  1176.8860778711712\n"
          ],
          "name": "stdout"
        },
        {
          "output_type": "stream",
          "text": [
            "\r 61%|██████    | 122/200 [1:30:22<57:16, 44.06s/it]"
          ],
          "name": "stderr"
        },
        {
          "output_type": "stream",
          "text": [
            "Validation accuracy: 0.4212962962962963\n",
            "Validation F1-micro score: 0.4212962962962963\n",
            "Validation Loss: 164.11939835280074\n",
            "Change in weights norm: 0.1545171579408287\n",
            "label mismatch\n",
            "38800 38800\n",
            "Train Accuracy: 0.4336340206185567\n",
            "Train F1-micro score: 0.4336340206185567\n",
            "Average Training loss: 6.034959830793072 Total Training Loss:  1176.817167004649\n"
          ],
          "name": "stdout"
        },
        {
          "output_type": "stream",
          "text": [
            "\r 62%|██████▏   | 123/200 [1:31:05<56:21, 43.92s/it]"
          ],
          "name": "stderr"
        },
        {
          "output_type": "stream",
          "text": [
            "Validation accuracy: 0.42\n",
            "Validation F1-micro score: 0.41999999999999993\n",
            "Validation Loss: 164.13759505858084\n",
            "Change in weights norm: 0.15689769513096502\n",
            "label mismatch\n",
            "38800 38800\n",
            "Train Accuracy: 0.4334536082474227\n",
            "Train F1-micro score: 0.4334536082474227\n",
            "Average Training loss: 6.035163599956728 Total Training Loss:  1176.856901991562\n"
          ],
          "name": "stdout"
        },
        {
          "output_type": "stream",
          "text": [
            "\r 62%|██████▏   | 124/200 [1:31:49<55:38, 43.93s/it]"
          ],
          "name": "stderr"
        },
        {
          "output_type": "stream",
          "text": [
            "Validation accuracy: 0.4203703703703704\n",
            "Validation F1-micro score: 0.42037037037037045\n",
            "Validation Loss: 164.16205276372503\n",
            "Change in weights norm: 0.15170658795754297\n",
            "label mismatch\n",
            "38800 38800\n",
            "Train Accuracy: 0.4352061855670103\n",
            "Train F1-micro score: 0.4352061855670103\n",
            "Average Training loss: 6.033626536569966 Total Training Loss:  1176.5571746311434\n"
          ],
          "name": "stdout"
        },
        {
          "output_type": "stream",
          "text": [
            "\r 62%|██████▎   | 125/200 [1:32:33<55:03, 44.05s/it]"
          ],
          "name": "stderr"
        },
        {
          "output_type": "stream",
          "text": [
            "Validation accuracy: 0.4222222222222222\n",
            "Validation F1-micro score: 0.4222222222222222\n",
            "Validation Loss: 164.09107978447048\n",
            "Change in weights norm: 0.15038430594701382\n",
            "label mismatch\n",
            "38800 38800\n",
            "Train Accuracy: 0.43652061855670105\n",
            "Train F1-micro score: 0.43652061855670105\n",
            "Average Training loss: 6.032160301441271 Total Training Loss:  1176.271258781048\n"
          ],
          "name": "stdout"
        },
        {
          "output_type": "stream",
          "text": [
            "\r 63%|██████▎   | 126/200 [1:33:17<54:06, 43.87s/it]"
          ],
          "name": "stderr"
        },
        {
          "output_type": "stream",
          "text": [
            "Validation accuracy: 0.42148148148148146\n",
            "Validation F1-micro score: 0.42148148148148146\n",
            "Validation Loss: 164.0877686883979\n",
            "Change in weights norm: 0.1454005222944048\n",
            "label mismatch\n",
            "38800 38800\n",
            "Train Accuracy: 0.4361340206185567\n",
            "Train F1-micro score: 0.4361340206185567\n",
            "Average Training loss: 6.032410682776125 Total Training Loss:  1176.3200831413444\n"
          ],
          "name": "stdout"
        },
        {
          "output_type": "stream",
          "text": [
            "\r 64%|██████▎   | 127/200 [1:34:01<53:20, 43.84s/it]"
          ],
          "name": "stderr"
        },
        {
          "output_type": "stream",
          "text": [
            "Validation accuracy: 0.42333333333333334\n",
            "Validation F1-micro score: 0.42333333333333334\n",
            "Validation Loss: 164.05928149777003\n",
            "Change in weights norm: 0.14044932011115271\n",
            "label mismatch\n",
            "38800 38800\n",
            "Train Accuracy: 0.43731958762886597\n",
            "Train F1-micro score: 0.43731958762886597\n",
            "Average Training loss: 6.0311862135508045 Total Training Loss:  1176.081311642407\n"
          ],
          "name": "stdout"
        },
        {
          "output_type": "stream",
          "text": [
            "\r 64%|██████▍   | 128/200 [1:34:47<53:24, 44.51s/it]"
          ],
          "name": "stderr"
        },
        {
          "output_type": "stream",
          "text": [
            "Validation accuracy: 0.42333333333333334\n",
            "Validation F1-micro score: 0.42333333333333334\n",
            "Validation Loss: 164.06939261714044\n",
            "Change in weights norm: 0.13677881680925505\n",
            "label mismatch\n",
            "38800 38800\n",
            "Train Accuracy: 0.4368298969072165\n",
            "Train F1-micro score: 0.4368298969072165\n",
            "Average Training loss: 6.031499689174952 Total Training Loss:  1176.1424393891157\n"
          ],
          "name": "stdout"
        },
        {
          "output_type": "stream",
          "text": [
            "\r 64%|██████▍   | 129/200 [1:35:31<52:23, 44.27s/it]"
          ],
          "name": "stderr"
        },
        {
          "output_type": "stream",
          "text": [
            "Validation accuracy: 0.4225925925925926\n",
            "Validation F1-micro score: 0.4225925925925926\n",
            "Validation Loss: 164.07571385312835\n",
            "Change in weights norm: 0.14904716951795072\n",
            "label mismatch\n",
            "38800 38800\n",
            "Train Accuracy: 0.4375515463917526\n",
            "Train F1-micro score: 0.4375515463917526\n",
            "Average Training loss: 6.030889084243658 Total Training Loss:  1176.0233714275134\n"
          ],
          "name": "stdout"
        },
        {
          "output_type": "stream",
          "text": [
            "\r 65%|██████▌   | 130/200 [1:36:14<51:30, 44.15s/it]"
          ],
          "name": "stderr"
        },
        {
          "output_type": "stream",
          "text": [
            "Validation accuracy: 0.42277777777777775\n",
            "Validation F1-micro score: 0.42277777777777775\n",
            "Validation Loss: 164.04927200288537\n",
            "Change in weights norm: 0.13907120295647363\n",
            "label mismatch\n",
            "38800 38800\n",
            "Train Accuracy: 0.4384020618556701\n",
            "Train F1-micro score: 0.4384020618556701\n",
            "Average Training loss: 6.029900050251081 Total Training Loss:  1175.8305097989607\n"
          ],
          "name": "stdout"
        },
        {
          "output_type": "stream",
          "text": [
            "\r 66%|██████▌   | 131/200 [1:36:58<50:39, 44.05s/it]"
          ],
          "name": "stderr"
        },
        {
          "output_type": "stream",
          "text": [
            "Validation accuracy: 0.42444444444444446\n",
            "Validation F1-micro score: 0.4244444444444445\n",
            "Validation Loss: 164.0161576400087\n",
            "Change in weights norm: 0.14360575761744018\n",
            "label mismatch\n",
            "38800 38800\n",
            "Train Accuracy: 0.4388917525773196\n",
            "Train F1-micro score: 0.4388917525773196\n",
            "Average Training loss: 6.029748816544359 Total Training Loss:  1175.80101922615\n"
          ],
          "name": "stdout"
        },
        {
          "output_type": "stream",
          "text": [
            "\r 66%|██████▌   | 132/200 [1:37:42<49:50, 43.98s/it]"
          ],
          "name": "stderr"
        },
        {
          "output_type": "stream",
          "text": [
            "Validation accuracy: 0.42444444444444446\n",
            "Validation F1-micro score: 0.4244444444444445\n",
            "Validation Loss: 164.02743989313933\n",
            "Change in weights norm: 0.13567132806675794\n",
            "label mismatch\n",
            "38800 38800\n",
            "Train Accuracy: 0.43917525773195876\n",
            "Train F1-micro score: 0.43917525773195876\n",
            "Average Training loss: 6.029218149439536 Total Training Loss:  1175.6975391407095\n"
          ],
          "name": "stdout"
        },
        {
          "output_type": "stream",
          "text": [
            "\r 66%|██████▋   | 133/200 [1:38:26<49:08, 44.00s/it]"
          ],
          "name": "stderr"
        },
        {
          "output_type": "stream",
          "text": [
            "Validation accuracy: 0.42592592592592593\n",
            "Validation F1-micro score: 0.42592592592592593\n",
            "Validation Loss: 163.97779000709386\n",
            "Change in weights norm: 0.12990855566096243\n",
            "label mismatch\n",
            "38800 38800\n",
            "Train Accuracy: 0.4396134020618557\n",
            "Train F1-micro score: 0.4396134020618557\n",
            "Average Training loss: 6.028432951776032 Total Training Loss:  1175.5444255963262\n"
          ],
          "name": "stdout"
        },
        {
          "output_type": "stream",
          "text": [
            "\r 67%|██████▋   | 134/200 [1:39:10<48:22, 43.97s/it]"
          ],
          "name": "stderr"
        },
        {
          "output_type": "stream",
          "text": [
            "Validation accuracy: 0.42518518518518517\n",
            "Validation F1-micro score: 0.42518518518518517\n",
            "Validation Loss: 163.97887473177843\n",
            "Change in weights norm: 0.12465479376575483\n",
            "label mismatch\n",
            "38800 38800\n",
            "Train Accuracy: 0.4403092783505155\n",
            "Train F1-micro score: 0.4403092783505155\n",
            "Average Training loss: 6.027592419032516 Total Training Loss:  1175.3805217113406\n"
          ],
          "name": "stdout"
        },
        {
          "output_type": "stream",
          "text": [
            "\r 68%|██████▊   | 135/200 [1:39:54<47:42, 44.04s/it]"
          ],
          "name": "stderr"
        },
        {
          "output_type": "stream",
          "text": [
            "Validation accuracy: 0.42462962962962963\n",
            "Validation F1-micro score: 0.4246296296296296\n",
            "Validation Loss: 163.98136055029013\n",
            "Change in weights norm: 0.12273484175882943\n",
            "label mismatch\n",
            "38800 38800\n",
            "Train Accuracy: 0.4406701030927835\n",
            "Train F1-micro score: 0.4406701030927835\n",
            "Average Training loss: 6.0273207314311374 Total Training Loss:  1175.3275426290718\n"
          ],
          "name": "stdout"
        },
        {
          "output_type": "stream",
          "text": [
            "\r 68%|██████▊   | 136/200 [1:40:38<47:01, 44.09s/it]"
          ],
          "name": "stderr"
        },
        {
          "output_type": "stream",
          "text": [
            "Validation accuracy: 0.42592592592592593\n",
            "Validation F1-micro score: 0.42592592592592593\n",
            "Validation Loss: 163.95974501645807\n",
            "Change in weights norm: 0.11885960103332006\n",
            "label mismatch\n",
            "38800 38800\n",
            "Train Accuracy: 0.44056701030927836\n",
            "Train F1-micro score: 0.44056701030927836\n",
            "Average Training loss: 6.0272813843273925 Total Training Loss:  1175.3198699438415\n"
          ],
          "name": "stdout"
        },
        {
          "output_type": "stream",
          "text": [
            "\r 68%|██████▊   | 137/200 [1:41:22<46:17, 44.09s/it]"
          ],
          "name": "stderr"
        },
        {
          "output_type": "stream",
          "text": [
            "Validation accuracy: 0.42462962962962963\n",
            "Validation F1-micro score: 0.4246296296296296\n",
            "Validation Loss: 163.99628063551376\n",
            "Change in weights norm: 0.12219596738277536\n",
            "label mismatch\n",
            "38800 38800\n",
            "Train Accuracy: 0.4409536082474227\n",
            "Train F1-micro score: 0.4409536082474227\n",
            "Average Training loss: 6.026958838595864 Total Training Loss:  1175.2569735261936\n"
          ],
          "name": "stdout"
        },
        {
          "output_type": "stream",
          "text": [
            "\r 69%|██████▉   | 138/200 [1:42:06<45:23, 43.92s/it]"
          ],
          "name": "stderr"
        },
        {
          "output_type": "stream",
          "text": [
            "Validation accuracy: 0.42537037037037034\n",
            "Validation F1-micro score: 0.42537037037037034\n",
            "Validation Loss: 163.9882807610574\n",
            "Change in weights norm: 0.12977165792355336\n",
            "label mismatch\n",
            "38800 38800\n",
            "Train Accuracy: 0.4404123711340206\n",
            "Train F1-micro score: 0.4404123711340206\n",
            "Average Training loss: 6.027227642566776 Total Training Loss:  1175.3093903005213\n"
          ],
          "name": "stdout"
        },
        {
          "output_type": "stream",
          "text": [
            "\r 70%|██████▉   | 139/200 [1:42:49<44:29, 43.77s/it]"
          ],
          "name": "stderr"
        },
        {
          "output_type": "stream",
          "text": [
            "Validation accuracy: 0.4261111111111111\n",
            "Validation F1-micro score: 0.4261111111111111\n",
            "Validation Loss: 163.95322636785093\n",
            "Change in weights norm: 0.12601449724895222\n",
            "label mismatch\n",
            "38800 38800\n",
            "Train Accuracy: 0.44152061855670105\n",
            "Train F1-micro score: 0.44152061855670105\n",
            "Average Training loss: 6.025993997077305 Total Training Loss:  1175.0688294300744\n"
          ],
          "name": "stdout"
        },
        {
          "output_type": "stream",
          "text": [
            "\r 70%|███████   | 140/200 [1:43:33<43:40, 43.67s/it]"
          ],
          "name": "stderr"
        },
        {
          "output_type": "stream",
          "text": [
            "Validation accuracy: 0.42444444444444446\n",
            "Validation F1-micro score: 0.4244444444444445\n",
            "Validation Loss: 163.9603218706659\n",
            "Change in weights norm: 0.12485113383170163\n",
            "label mismatch\n",
            "38800 38800\n",
            "Train Accuracy: 0.4420360824742268\n",
            "Train F1-micro score: 0.4420360824742268\n",
            "Average Training loss: 6.025566829491645 Total Training Loss:  1174.9855317508707\n"
          ],
          "name": "stdout"
        },
        {
          "output_type": "stream",
          "text": [
            "\r 70%|███████   | 141/200 [1:44:17<43:04, 43.80s/it]"
          ],
          "name": "stderr"
        },
        {
          "output_type": "stream",
          "text": [
            "Validation accuracy: 0.4248148148148148\n",
            "Validation F1-micro score: 0.4248148148148148\n",
            "Validation Loss: 163.970935557052\n",
            "Change in weights norm: 0.12055644654631868\n",
            "label mismatch\n",
            "38800 38800\n",
            "Train Accuracy: 0.4418041237113402\n",
            "Train F1-micro score: 0.4418041237113402\n",
            "Average Training loss: 6.025833857930159 Total Training Loss:  1175.037602296381\n"
          ],
          "name": "stdout"
        },
        {
          "output_type": "stream",
          "text": [
            "\r 71%|███████   | 142/200 [1:45:03<43:00, 44.48s/it]"
          ],
          "name": "stderr"
        },
        {
          "output_type": "stream",
          "text": [
            "Validation accuracy: 0.42574074074074075\n",
            "Validation F1-micro score: 0.42574074074074075\n",
            "Validation Loss: 163.93670994458253\n",
            "Change in weights norm: 0.12844168115413157\n",
            "label mismatch\n",
            "38800 38800\n",
            "Train Accuracy: 0.44216494845360826\n",
            "Train F1-micro score: 0.44216494845360826\n",
            "Average Training loss: 6.0254566221524 Total Training Loss:  1174.964041319718\n"
          ],
          "name": "stdout"
        },
        {
          "output_type": "stream",
          "text": [
            "\r 72%|███████▏  | 143/200 [1:45:47<42:14, 44.47s/it]"
          ],
          "name": "stderr"
        },
        {
          "output_type": "stream",
          "text": [
            "Validation accuracy: 0.4255555555555556\n",
            "Validation F1-micro score: 0.4255555555555556\n",
            "Validation Loss: 163.97062056987963\n",
            "Change in weights norm: 0.13278967907965714\n",
            "label mismatch\n",
            "38800 38800\n",
            "Train Accuracy: 0.44221649484536085\n",
            "Train F1-micro score: 0.44221649484536085\n",
            "Average Training loss: 6.025280287399494 Total Training Loss:  1174.9296560429013\n"
          ],
          "name": "stdout"
        },
        {
          "output_type": "stream",
          "text": [
            "\r 72%|███████▏  | 144/200 [1:46:31<41:16, 44.22s/it]"
          ],
          "name": "stderr"
        },
        {
          "output_type": "stream",
          "text": [
            "Validation accuracy: 0.42685185185185187\n",
            "Validation F1-micro score: 0.42685185185185187\n",
            "Validation Loss: 163.9231040245841\n",
            "Change in weights norm: 0.13959005174853778\n",
            "label mismatch\n",
            "38800 38800\n",
            "Train Accuracy: 0.44304123711340204\n",
            "Train F1-micro score: 0.44304123711340204\n",
            "Average Training loss: 6.024077946543152 Total Training Loss:  1174.6951995759148\n"
          ],
          "name": "stdout"
        },
        {
          "output_type": "stream",
          "text": [
            "\r 72%|███████▎  | 145/200 [1:47:15<40:24, 44.09s/it]"
          ],
          "name": "stderr"
        },
        {
          "output_type": "stream",
          "text": [
            "Validation accuracy: 0.425\n",
            "Validation F1-micro score: 0.425\n",
            "Validation Loss: 163.95437943501398\n",
            "Change in weights norm: 0.11623716963094834\n",
            "label mismatch\n",
            "38800 38800\n",
            "Train Accuracy: 0.4427577319587629\n",
            "Train F1-micro score: 0.4427577319587629\n",
            "Average Training loss: 6.024387723203837 Total Training Loss:  1174.7556060247482\n"
          ],
          "name": "stdout"
        },
        {
          "output_type": "stream",
          "text": [
            "\r 73%|███████▎  | 146/200 [1:47:59<39:35, 44.00s/it]"
          ],
          "name": "stderr"
        },
        {
          "output_type": "stream",
          "text": [
            "Validation accuracy: 0.42703703703703705\n",
            "Validation F1-micro score: 0.42703703703703705\n",
            "Validation Loss: 163.91557331574248\n",
            "Change in weights norm: 0.1236006599587885\n",
            "label mismatch\n",
            "38800 38800\n",
            "Train Accuracy: 0.4436082474226804\n",
            "Train F1-micro score: 0.4436082474226804\n",
            "Average Training loss: 6.023608499177306 Total Training Loss:  1174.6036573395747\n"
          ],
          "name": "stdout"
        },
        {
          "output_type": "stream",
          "text": [
            "\r 74%|███████▎  | 147/200 [1:48:43<38:51, 43.99s/it]"
          ],
          "name": "stderr"
        },
        {
          "output_type": "stream",
          "text": [
            "Validation accuracy: 0.4274074074074074\n",
            "Validation F1-micro score: 0.42740740740740746\n",
            "Validation Loss: 163.90576440840383\n",
            "Change in weights norm: 0.153492536821762\n",
            "label mismatch\n",
            "38800 38800\n",
            "Train Accuracy: 0.4436340206185567\n",
            "Train F1-micro score: 0.4436340206185567\n",
            "Average Training loss: 6.023573327738802 Total Training Loss:  1174.5967989090664\n"
          ],
          "name": "stdout"
        },
        {
          "output_type": "stream",
          "text": [
            "\r 74%|███████▍  | 148/200 [1:49:26<38:02, 43.89s/it]"
          ],
          "name": "stderr"
        },
        {
          "output_type": "stream",
          "text": [
            "Validation accuracy: 0.42777777777777776\n",
            "Validation F1-micro score: 0.42777777777777776\n",
            "Validation Loss: 163.90294402441543\n",
            "Change in weights norm: 0.13506104577518302\n",
            "label mismatch\n",
            "38800 38800\n",
            "Train Accuracy: 0.44396907216494846\n",
            "Train F1-micro score: 0.44396907216494846\n",
            "Average Training loss: 6.022986832435206 Total Training Loss:  1174.4824323248652\n"
          ],
          "name": "stdout"
        },
        {
          "output_type": "stream",
          "text": [
            "\r 74%|███████▍  | 149/200 [1:50:10<37:17, 43.88s/it]"
          ],
          "name": "stderr"
        },
        {
          "output_type": "stream",
          "text": [
            "Validation accuracy: 0.4274074074074074\n",
            "Validation F1-micro score: 0.42740740740740746\n",
            "Validation Loss: 163.90567140169068\n",
            "Change in weights norm: 0.11113478543263217\n",
            "label mismatch\n",
            "38800 38800\n",
            "Train Accuracy: 0.4427061855670103\n",
            "Train F1-micro score: 0.4427061855670103\n",
            "Average Training loss: 6.02474345657172 Total Training Loss:  1174.8249740314855\n"
          ],
          "name": "stdout"
        },
        {
          "output_type": "stream",
          "text": [
            "\r 75%|███████▌  | 150/200 [1:50:54<36:35, 43.91s/it]"
          ],
          "name": "stderr"
        },
        {
          "output_type": "stream",
          "text": [
            "Validation accuracy: 0.4275925925925926\n",
            "Validation F1-micro score: 0.4275925925925926\n",
            "Validation Loss: 163.90046252538707\n",
            "Change in weights norm: 0.13573485524430598\n",
            "label mismatch\n",
            "38800 38800\n",
            "Train Accuracy: 0.44422680412371135\n",
            "Train F1-micro score: 0.44422680412371135\n",
            "Average Training loss: 6.022789841884457 Total Training Loss:  1174.4440191674692\n"
          ],
          "name": "stdout"
        },
        {
          "output_type": "stream",
          "text": [
            "\r 76%|███████▌  | 151/200 [1:51:38<35:47, 43.83s/it]"
          ],
          "name": "stderr"
        },
        {
          "output_type": "stream",
          "text": [
            "Validation accuracy: 0.427962962962963\n",
            "Validation F1-micro score: 0.427962962962963\n",
            "Validation Loss: 163.8769571768439\n",
            "Change in weights norm: 0.11256043266405936\n",
            "label mismatch\n",
            "38800 38800\n",
            "Train Accuracy: 0.44443298969072165\n",
            "Train F1-micro score: 0.44443298969072165\n",
            "Average Training loss: 6.022507055243795 Total Training Loss:  1174.3888757725401\n"
          ],
          "name": "stdout"
        },
        {
          "output_type": "stream",
          "text": [
            "\r 76%|███████▌  | 152/200 [1:52:22<35:13, 44.03s/it]"
          ],
          "name": "stderr"
        },
        {
          "output_type": "stream",
          "text": [
            "Validation accuracy: 0.42907407407407405\n",
            "Validation F1-micro score: 0.42907407407407405\n",
            "Validation Loss: 163.8666506400439\n",
            "Change in weights norm: 0.10501321278252361\n",
            "label mismatch\n",
            "38800 38800\n",
            "Train Accuracy: 0.44443298969072165\n",
            "Train F1-micro score: 0.44443298969072165\n",
            "Average Training loss: 6.022376188616591 Total Training Loss:  1174.3633567802353\n"
          ],
          "name": "stdout"
        },
        {
          "output_type": "stream",
          "text": [
            "\r 76%|███████▋  | 153/200 [1:53:06<34:24, 43.93s/it]"
          ],
          "name": "stderr"
        },
        {
          "output_type": "stream",
          "text": [
            "Validation accuracy: 0.42814814814814817\n",
            "Validation F1-micro score: 0.42814814814814817\n",
            "Validation Loss: 163.88517073591544\n",
            "Change in weights norm: 0.10720540036744153\n",
            "label mismatch\n",
            "38800 38800\n",
            "Train Accuracy: 0.4434536082474227\n",
            "Train F1-micro score: 0.4434536082474227\n",
            "Average Training loss: 6.023764036605765 Total Training Loss:  1174.6339871381242\n"
          ],
          "name": "stdout"
        },
        {
          "output_type": "stream",
          "text": [
            "\r 77%|███████▋  | 154/200 [1:53:50<33:40, 43.93s/it]"
          ],
          "name": "stderr"
        },
        {
          "output_type": "stream",
          "text": [
            "Validation accuracy: 0.4285185185185185\n",
            "Validation F1-micro score: 0.4285185185185185\n",
            "Validation Loss: 163.90876422792041\n",
            "Change in weights norm: 0.14664179879955586\n",
            "label mismatch\n",
            "38800 38800\n",
            "Train Accuracy: 0.4438144329896907\n",
            "Train F1-micro score: 0.4438144329896907\n",
            "Average Training loss: 6.023117123521473 Total Training Loss:  1174.5078390866872\n"
          ],
          "name": "stdout"
        },
        {
          "output_type": "stream",
          "text": [
            "\r 78%|███████▊  | 155/200 [1:54:34<33:02, 44.06s/it]"
          ],
          "name": "stderr"
        },
        {
          "output_type": "stream",
          "text": [
            "Validation accuracy: 0.42703703703703705\n",
            "Validation F1-micro score: 0.42703703703703705\n",
            "Validation Loss: 163.8925182801407\n",
            "Change in weights norm: 0.13127339849340502\n",
            "label mismatch\n",
            "38800 38800\n",
            "Train Accuracy: 0.44417525773195876\n",
            "Train F1-micro score: 0.44417525773195876\n",
            "Average Training loss: 6.022639563879699 Total Training Loss:  1174.4147149565413\n"
          ],
          "name": "stdout"
        },
        {
          "output_type": "stream",
          "text": [
            "\r 78%|███████▊  | 156/200 [1:55:22<33:07, 45.17s/it]"
          ],
          "name": "stderr"
        },
        {
          "output_type": "stream",
          "text": [
            "Validation accuracy: 0.4275925925925926\n",
            "Validation F1-micro score: 0.4275925925925926\n",
            "Validation Loss: 163.91039018375227\n",
            "Change in weights norm: 0.11643501553787956\n",
            "label mismatch\n",
            "38800 38800\n",
            "Train Accuracy: 0.44432989690721647\n",
            "Train F1-micro score: 0.44432989690721647\n",
            "Average Training loss: 6.022501999354829 Total Training Loss:  1174.3878898741916\n"
          ],
          "name": "stdout"
        },
        {
          "output_type": "stream",
          "text": [
            "\r 78%|███████▊  | 157/200 [1:56:06<32:07, 44.83s/it]"
          ],
          "name": "stderr"
        },
        {
          "output_type": "stream",
          "text": [
            "Validation accuracy: 0.4288888888888889\n",
            "Validation F1-micro score: 0.42888888888888893\n",
            "Validation Loss: 163.87134645390572\n",
            "Change in weights norm: 0.1315984554082344\n",
            "label mismatch\n",
            "38800 38800\n",
            "Train Accuracy: 0.44487113402061856\n",
            "Train F1-micro score: 0.44487113402061856\n",
            "Average Training loss: 6.021626265165221 Total Training Loss:  1174.217121707218\n"
          ],
          "name": "stdout"
        },
        {
          "output_type": "stream",
          "text": [
            "\r 79%|███████▉  | 158/200 [1:56:50<31:06, 44.45s/it]"
          ],
          "name": "stderr"
        },
        {
          "output_type": "stream",
          "text": [
            "Validation accuracy: 0.42777777777777776\n",
            "Validation F1-micro score: 0.42777777777777776\n",
            "Validation Loss: 163.8697594889124\n",
            "Change in weights norm: 0.10878729967111965\n",
            "label mismatch\n",
            "38800 38800\n",
            "Train Accuracy: 0.444819587628866\n",
            "Train F1-micro score: 0.444819587628866\n",
            "Average Training loss: 6.021659854483109 Total Training Loss:  1174.2236716242062\n"
          ],
          "name": "stdout"
        },
        {
          "output_type": "stream",
          "text": [
            "\r 80%|███████▉  | 159/200 [1:57:33<30:10, 44.16s/it]"
          ],
          "name": "stderr"
        },
        {
          "output_type": "stream",
          "text": [
            "Validation accuracy: 0.42833333333333334\n",
            "Validation F1-micro score: 0.42833333333333334\n",
            "Validation Loss: 163.8636113903796\n",
            "Change in weights norm: 0.11179123512571576\n",
            "label mismatch\n",
            "38800 38800\n",
            "Train Accuracy: 0.44469072164948453\n",
            "Train F1-micro score: 0.44469072164948453\n",
            "Average Training loss: 6.022010902939889 Total Training Loss:  1174.2921260732783\n"
          ],
          "name": "stdout"
        },
        {
          "output_type": "stream",
          "text": [
            "\r 80%|████████  | 160/200 [1:58:17<29:21, 44.03s/it]"
          ],
          "name": "stderr"
        },
        {
          "output_type": "stream",
          "text": [
            "Validation accuracy: 0.42833333333333334\n",
            "Validation F1-micro score: 0.42833333333333334\n",
            "Validation Loss: 163.86527204521076\n",
            "Change in weights norm: 0.10756727314949664\n",
            "label mismatch\n",
            "38800 38800\n",
            "Train Accuracy: 0.4449742268041237\n",
            "Train F1-micro score: 0.44497422680412374\n",
            "Average Training loss: 6.021683243743198 Total Training Loss:  1174.2282325299236\n"
          ],
          "name": "stdout"
        },
        {
          "output_type": "stream",
          "text": [
            "\r 80%|████████  | 161/200 [1:59:00<28:31, 43.88s/it]"
          ],
          "name": "stderr"
        },
        {
          "output_type": "stream",
          "text": [
            "Validation accuracy: 0.42777777777777776\n",
            "Validation F1-micro score: 0.42777777777777776\n",
            "Validation Loss: 163.880633662545\n",
            "Change in weights norm: 0.13001384230489219\n",
            "label mismatch\n",
            "38800 38800\n",
            "Train Accuracy: 0.44443298969072165\n",
            "Train F1-micro score: 0.44443298969072165\n",
            "Average Training loss: 6.022354822513519 Total Training Loss:  1174.359190390136\n"
          ],
          "name": "stdout"
        },
        {
          "output_type": "stream",
          "text": [
            "\r 81%|████████  | 162/200 [1:59:44<27:49, 43.93s/it]"
          ],
          "name": "stderr"
        },
        {
          "output_type": "stream",
          "text": [
            "Validation accuracy: 0.42703703703703705\n",
            "Validation F1-micro score: 0.42703703703703705\n",
            "Validation Loss: 163.88253421547967\n",
            "Change in weights norm: 0.14111369678784555\n",
            "label mismatch\n",
            "38800 38800\n",
            "Train Accuracy: 0.4452577319587629\n",
            "Train F1-micro score: 0.4452577319587629\n",
            "Average Training loss: 6.020976234535306 Total Training Loss:  1174.0903657343847\n"
          ],
          "name": "stdout"
        },
        {
          "output_type": "stream",
          "text": [
            "\r 82%|████████▏ | 163/200 [2:00:28<27:01, 43.81s/it]"
          ],
          "name": "stderr"
        },
        {
          "output_type": "stream",
          "text": [
            "Validation accuracy: 0.42814814814814817\n",
            "Validation F1-micro score: 0.42814814814814817\n",
            "Validation Loss: 163.85400807633948\n",
            "Change in weights norm: 0.017883662343755678\n",
            "label mismatch\n",
            "38800 38800\n",
            "Train Accuracy: 0.4458505154639175\n",
            "Train F1-micro score: 0.4458505154639175\n",
            "Average Training loss: 6.020386392741341 Total Training Loss:  1173.9753465845615\n"
          ],
          "name": "stdout"
        },
        {
          "output_type": "stream",
          "text": [
            "\r 82%|████████▏ | 164/200 [2:01:11<26:10, 43.63s/it]"
          ],
          "name": "stderr"
        },
        {
          "output_type": "stream",
          "text": [
            "Validation accuracy: 0.42833333333333334\n",
            "Validation F1-micro score: 0.42833333333333334\n",
            "Validation Loss: 163.8538924225275\n",
            "Change in weights norm: 0.01185779850220799\n",
            "label mismatch\n",
            "38800 38800\n",
            "Train Accuracy: 0.4456443298969072\n",
            "Train F1-micro score: 0.4456443298969072\n",
            "Average Training loss: 6.020584836360256 Total Training Loss:  1174.01404309025\n"
          ],
          "name": "stdout"
        },
        {
          "output_type": "stream",
          "text": [
            "\r 82%|████████▎ | 165/200 [2:01:54<25:23, 43.53s/it]"
          ],
          "name": "stderr"
        },
        {
          "output_type": "stream",
          "text": [
            "Validation accuracy: 0.42833333333333334\n",
            "Validation F1-micro score: 0.42833333333333334\n",
            "Validation Loss: 163.8539169042698\n",
            "Change in weights norm: 0.011043942668592863\n",
            "label mismatch\n",
            "38800 38800\n",
            "Train Accuracy: 0.4454639175257732\n",
            "Train F1-micro score: 0.4454639175257732\n",
            "Average Training loss: 6.0207433802385335 Total Training Loss:  1174.044959146514\n"
          ],
          "name": "stdout"
        },
        {
          "output_type": "stream",
          "text": [
            "\r 83%|████████▎ | 166/200 [2:02:38<24:40, 43.54s/it]"
          ],
          "name": "stderr"
        },
        {
          "output_type": "stream",
          "text": [
            "Validation accuracy: 0.42814814814814817\n",
            "Validation F1-micro score: 0.42814814814814817\n",
            "Validation Loss: 163.8532042724191\n",
            "Change in weights norm: 0.01053177721075052\n",
            "label mismatch\n",
            "38800 38800\n",
            "Train Accuracy: 0.4451030927835051\n",
            "Train F1-micro score: 0.4451030927835051\n",
            "Average Training loss: 6.021124002373556 Total Training Loss:  1174.1191804628434\n"
          ],
          "name": "stdout"
        },
        {
          "output_type": "stream",
          "text": [
            "\r 84%|████████▎ | 167/200 [2:03:22<23:56, 43.54s/it]"
          ],
          "name": "stderr"
        },
        {
          "output_type": "stream",
          "text": [
            "Validation accuracy: 0.42833333333333334\n",
            "Validation F1-micro score: 0.42833333333333334\n",
            "Validation Loss: 163.85023958184325\n",
            "Change in weights norm: 0.010520918123661994\n",
            "label mismatch\n",
            "38800 38800\n",
            "Train Accuracy: 0.44528350515463916\n",
            "Train F1-micro score: 0.44528350515463916\n",
            "Average Training loss: 6.020929437921876 Total Training Loss:  1174.081240394766\n"
          ],
          "name": "stdout"
        },
        {
          "output_type": "stream",
          "text": [
            "\r 84%|████████▍ | 168/200 [2:04:05<23:15, 43.60s/it]"
          ],
          "name": "stderr"
        },
        {
          "output_type": "stream",
          "text": [
            "Validation accuracy: 0.4285185185185185\n",
            "Validation F1-micro score: 0.4285185185185185\n",
            "Validation Loss: 163.85021435410073\n",
            "Change in weights norm: 0.010092329509842951\n",
            "label mismatch\n",
            "38800 38800\n",
            "Train Accuracy: 0.44554123711340204\n",
            "Train F1-micro score: 0.44554123711340204\n",
            "Average Training loss: 6.020658962177054 Total Training Loss:  1174.0284976245255\n"
          ],
          "name": "stdout"
        },
        {
          "output_type": "stream",
          "text": [
            "\r 84%|████████▍ | 169/200 [2:04:51<22:55, 44.36s/it]"
          ],
          "name": "stderr"
        },
        {
          "output_type": "stream",
          "text": [
            "Validation accuracy: 0.4285185185185185\n",
            "Validation F1-micro score: 0.4285185185185185\n",
            "Validation Loss: 163.84883917354793\n",
            "Change in weights norm: 0.011167920800675095\n",
            "label mismatch\n",
            "38800 38800\n",
            "Train Accuracy: 0.4452577319587629\n",
            "Train F1-micro score: 0.4452577319587629\n",
            "Average Training loss: 6.020943290883917 Total Training Loss:  1174.0839417223638\n"
          ],
          "name": "stdout"
        },
        {
          "output_type": "stream",
          "text": [
            "\r 85%|████████▌ | 170/200 [2:05:35<22:05, 44.18s/it]"
          ],
          "name": "stderr"
        },
        {
          "output_type": "stream",
          "text": [
            "Validation accuracy: 0.4285185185185185\n",
            "Validation F1-micro score: 0.4285185185185185\n",
            "Validation Loss: 163.84490660900312\n",
            "Change in weights norm: 0.010882829390208237\n",
            "label mismatch\n",
            "38800 38800\n",
            "Train Accuracy: 0.44533505154639175\n",
            "Train F1-micro score: 0.4453350515463917\n",
            "Average Training loss: 6.020853861770971 Total Training Loss:  1174.0665030453392\n"
          ],
          "name": "stdout"
        },
        {
          "output_type": "stream",
          "text": [
            "\r 86%|████████▌ | 171/200 [2:06:19<21:19, 44.10s/it]"
          ],
          "name": "stderr"
        },
        {
          "output_type": "stream",
          "text": [
            "Validation accuracy: 0.4288888888888889\n",
            "Validation F1-micro score: 0.42888888888888893\n",
            "Validation Loss: 163.846461260871\n",
            "Change in weights norm: 0.010987909910778372\n",
            "label mismatch\n",
            "38800 38800\n",
            "Train Accuracy: 0.44528350515463916\n",
            "Train F1-micro score: 0.44528350515463916\n",
            "Average Training loss: 6.020909300882347 Total Training Loss:  1174.0773136720577\n"
          ],
          "name": "stdout"
        },
        {
          "output_type": "stream",
          "text": [
            "\r 86%|████████▌ | 172/200 [2:07:03<20:30, 43.96s/it]"
          ],
          "name": "stderr"
        },
        {
          "output_type": "stream",
          "text": [
            "Validation accuracy: 0.42833333333333334\n",
            "Validation F1-micro score: 0.42833333333333334\n",
            "Validation Loss: 163.8469113366088\n",
            "Change in weights norm: 0.014009913116909634\n",
            "label mismatch\n",
            "38800 38800\n",
            "Train Accuracy: 0.44523195876288657\n",
            "Train F1-micro score: 0.44523195876288657\n",
            "Average Training loss: 6.02088268390378 Total Training Loss:  1174.0721233612371\n"
          ],
          "name": "stdout"
        },
        {
          "output_type": "stream",
          "text": [
            "\r 86%|████████▋ | 173/200 [2:07:46<19:41, 43.77s/it]"
          ],
          "name": "stderr"
        },
        {
          "output_type": "stream",
          "text": [
            "Validation accuracy: 0.4287037037037037\n",
            "Validation F1-micro score: 0.4287037037037037\n",
            "Validation Loss: 163.8447201225652\n",
            "Change in weights norm: 0.011772225427663088\n",
            "label mismatch\n",
            "38800 38800\n",
            "Train Accuracy: 0.4453092783505155\n",
            "Train F1-micro score: 0.44530927835051554\n",
            "Average Training loss: 6.02081430971867 Total Training Loss:  1174.0587903951407\n"
          ],
          "name": "stdout"
        },
        {
          "output_type": "stream",
          "text": [
            "\r 87%|████████▋ | 174/200 [2:08:29<18:54, 43.62s/it]"
          ],
          "name": "stderr"
        },
        {
          "output_type": "stream",
          "text": [
            "Validation accuracy: 0.4287037037037037\n",
            "Validation F1-micro score: 0.4287037037037037\n",
            "Validation Loss: 163.84477390823122\n",
            "Change in weights norm: 0.011636145560476846\n",
            "label mismatch\n",
            "38800 38800\n",
            "Train Accuracy: 0.4453092783505155\n",
            "Train F1-micro score: 0.44530927835051554\n",
            "Average Training loss: 6.02079482600276 Total Training Loss:  1174.054991070538\n"
          ],
          "name": "stdout"
        },
        {
          "output_type": "stream",
          "text": [
            "\r 88%|████████▊ | 175/200 [2:09:13<18:09, 43.59s/it]"
          ],
          "name": "stderr"
        },
        {
          "output_type": "stream",
          "text": [
            "Validation accuracy: 0.4287037037037037\n",
            "Validation F1-micro score: 0.4287037037037037\n",
            "Validation Loss: 163.84417602879367\n",
            "Change in weights norm: 0.0013714727100981397\n",
            "label mismatch\n",
            "38800 38800\n",
            "Train Accuracy: 0.4454896907216495\n",
            "Train F1-micro score: 0.4454896907216495\n",
            "Average Training loss: 6.020619643147725 Total Training Loss:  1174.0208304138064\n"
          ],
          "name": "stdout"
        },
        {
          "output_type": "stream",
          "text": [
            "\r 88%|████████▊ | 176/200 [2:09:56<17:24, 43.50s/it]"
          ],
          "name": "stderr"
        },
        {
          "output_type": "stream",
          "text": [
            "Validation accuracy: 0.4287037037037037\n",
            "Validation F1-micro score: 0.4287037037037037\n",
            "Validation Loss: 163.84437188649295\n",
            "Change in weights norm: 0.0011878562463539782\n",
            "label mismatch\n",
            "38800 38800\n",
            "Train Accuracy: 0.4454381443298969\n",
            "Train F1-micro score: 0.4454381443298969\n",
            "Average Training loss: 6.020670967579822 Total Training Loss:  1174.0308386780653\n"
          ],
          "name": "stdout"
        },
        {
          "output_type": "stream",
          "text": [
            "\r 88%|████████▊ | 177/200 [2:10:40<16:40, 43.50s/it]"
          ],
          "name": "stderr"
        },
        {
          "output_type": "stream",
          "text": [
            "Validation accuracy: 0.4287037037037037\n",
            "Validation F1-micro score: 0.4287037037037037\n",
            "Validation Loss: 163.84408811374433\n",
            "Change in weights norm: 0.0012743845158337192\n",
            "label mismatch\n",
            "38800 38800\n",
            "Train Accuracy: 0.4455154639175258\n",
            "Train F1-micro score: 0.44551546391752583\n",
            "Average Training loss: 6.020586101787005 Total Training Loss:  1174.014289848466\n"
          ],
          "name": "stdout"
        },
        {
          "output_type": "stream",
          "text": [
            "\r 89%|████████▉ | 178/200 [2:11:23<15:55, 43.43s/it]"
          ],
          "name": "stderr"
        },
        {
          "output_type": "stream",
          "text": [
            "Validation accuracy: 0.4287037037037037\n",
            "Validation F1-micro score: 0.4287037037037037\n",
            "Validation Loss: 163.84371309870164\n",
            "Change in weights norm: 0.0013223046439733374\n",
            "label mismatch\n",
            "38800 38800\n",
            "Train Accuracy: 0.4454123711340206\n",
            "Train F1-micro score: 0.4454123711340206\n",
            "Average Training loss: 6.020689168757588 Total Training Loss:  1174.0343879077298\n"
          ],
          "name": "stdout"
        },
        {
          "output_type": "stream",
          "text": [
            "\r 90%|████████▉ | 179/200 [2:12:06<15:12, 43.47s/it]"
          ],
          "name": "stderr"
        },
        {
          "output_type": "stream",
          "text": [
            "Validation accuracy: 0.4287037037037037\n",
            "Validation F1-micro score: 0.4287037037037037\n",
            "Validation Loss: 163.84382041051455\n",
            "Change in weights norm: 0.0012838768285911727\n",
            "label mismatch\n",
            "38800 38800\n",
            "Train Accuracy: 0.44554123711340204\n",
            "Train F1-micro score: 0.44554123711340204\n",
            "Average Training loss: 6.020559303583568 Total Training Loss:  1174.0090641987956\n"
          ],
          "name": "stdout"
        },
        {
          "output_type": "stream",
          "text": [
            "\r 90%|█████████ | 180/200 [2:12:50<14:28, 43.43s/it]"
          ],
          "name": "stderr"
        },
        {
          "output_type": "stream",
          "text": [
            "Validation accuracy: 0.4287037037037037\n",
            "Validation F1-micro score: 0.4287037037037037\n",
            "Validation Loss: 163.84372896530573\n",
            "Change in weights norm: 0.0012536745221520041\n",
            "label mismatch\n",
            "38800 38800\n",
            "Train Accuracy: 0.44556701030927837\n",
            "Train F1-micro score: 0.44556701030927837\n",
            "Average Training loss: 6.020527130627944 Total Training Loss:  1174.002790472449\n"
          ],
          "name": "stdout"
        },
        {
          "output_type": "stream",
          "text": [
            "\r 90%|█████████ | 181/200 [2:13:34<13:48, 43.61s/it]"
          ],
          "name": "stderr"
        },
        {
          "output_type": "stream",
          "text": [
            "Validation accuracy: 0.4288888888888889\n",
            "Validation F1-micro score: 0.42888888888888893\n",
            "Validation Loss: 163.84376767233294\n",
            "Change in weights norm: 0.0012667509854266787\n",
            "label mismatch\n",
            "38800 38800\n",
            "Train Accuracy: 0.44554123711340204\n",
            "Train F1-micro score: 0.44554123711340204\n",
            "Average Training loss: 6.020554646995581 Total Training Loss:  1174.0081561641384\n"
          ],
          "name": "stdout"
        },
        {
          "output_type": "stream",
          "text": [
            "\r 91%|█████████ | 182/200 [2:14:17<13:05, 43.63s/it]"
          ],
          "name": "stderr"
        },
        {
          "output_type": "stream",
          "text": [
            "Validation accuracy: 0.4287037037037037\n",
            "Validation F1-micro score: 0.4287037037037037\n",
            "Validation Loss: 163.84366446707503\n",
            "Change in weights norm: 0.0013761517011961276\n",
            "label mismatch\n",
            "38800 38800\n",
            "Train Accuracy: 0.4454123711340206\n",
            "Train F1-micro score: 0.4454123711340206\n",
            "Average Training loss: 6.020680741547297 Total Training Loss:  1174.032744601723\n"
          ],
          "name": "stdout"
        },
        {
          "output_type": "stream",
          "text": [
            "\r 92%|█████████▏| 183/200 [2:15:06<12:46, 45.10s/it]"
          ],
          "name": "stderr"
        },
        {
          "output_type": "stream",
          "text": [
            "Validation accuracy: 0.4285185185185185\n",
            "Validation F1-micro score: 0.4285185185185185\n",
            "Validation Loss: 163.84410193371818\n",
            "Change in weights norm: 0.0013177889176380722\n",
            "label mismatch\n",
            "38800 38800\n",
            "Train Accuracy: 0.44556701030927837\n",
            "Train F1-micro score: 0.44556701030927837\n",
            "Average Training loss: 6.020548959552854 Total Training Loss:  1174.0070471128065\n"
          ],
          "name": "stdout"
        },
        {
          "output_type": "stream",
          "text": [
            "\r 92%|█████████▏| 184/200 [2:15:50<11:57, 44.82s/it]"
          ],
          "name": "stderr"
        },
        {
          "output_type": "stream",
          "text": [
            "Validation accuracy: 0.4287037037037037\n",
            "Validation F1-micro score: 0.4287037037037037\n",
            "Validation Loss: 163.84406101488017\n",
            "Change in weights norm: 0.0013527760919443044\n",
            "label mismatch\n",
            "38800 38800\n",
            "Train Accuracy: 0.4454896907216495\n",
            "Train F1-micro score: 0.4454896907216495\n",
            "Average Training loss: 6.020626700146303 Total Training Loss:  1174.022206528529\n"
          ],
          "name": "stdout"
        },
        {
          "output_type": "stream",
          "text": [
            "\r 92%|█████████▎| 185/200 [2:16:34<11:07, 44.47s/it]"
          ],
          "name": "stderr"
        },
        {
          "output_type": "stream",
          "text": [
            "Validation accuracy: 0.4287037037037037\n",
            "Validation F1-micro score: 0.4287037037037037\n",
            "Validation Loss: 163.84351999067704\n",
            "Change in weights norm: 0.0013901581025197484\n",
            "label mismatch\n",
            "38800 38800\n",
            "Train Accuracy: 0.4454896907216495\n",
            "Train F1-micro score: 0.4454896907216495\n",
            "Average Training loss: 6.0206185112055595 Total Training Loss:  1174.020609685084\n"
          ],
          "name": "stdout"
        },
        {
          "output_type": "stream",
          "text": [
            "\r 93%|█████████▎| 186/200 [2:17:17<10:17, 44.14s/it]"
          ],
          "name": "stderr"
        },
        {
          "output_type": "stream",
          "text": [
            "Validation accuracy: 0.4288888888888889\n",
            "Validation F1-micro score: 0.42888888888888893\n",
            "Validation Loss: 163.84345356098146\n",
            "Change in weights norm: 0.00013821681510623875\n",
            "label mismatch\n",
            "38800 38800\n",
            "Train Accuracy: 0.44579896907216493\n",
            "Train F1-micro score: 0.44579896907216493\n",
            "Average Training loss: 6.020309416338566 Total Training Loss:  1173.9603361860204\n"
          ],
          "name": "stdout"
        },
        {
          "output_type": "stream",
          "text": [
            "\r 94%|█████████▎| 187/200 [2:18:01<09:31, 43.93s/it]"
          ],
          "name": "stderr"
        },
        {
          "output_type": "stream",
          "text": [
            "Validation accuracy: 0.4288888888888889\n",
            "Validation F1-micro score: 0.42888888888888893\n",
            "Validation Loss: 163.8433759314681\n",
            "Change in weights norm: 0.00014739607754689514\n",
            "label mismatch\n",
            "38800 38800\n",
            "Train Accuracy: 0.4454896907216495\n",
            "Train F1-micro score: 0.4454896907216495\n",
            "Average Training loss: 6.020601362623293 Total Training Loss:  1174.0172657115422\n"
          ],
          "name": "stdout"
        },
        {
          "output_type": "stream",
          "text": [
            "\r 94%|█████████▍| 188/200 [2:18:44<08:46, 43.85s/it]"
          ],
          "name": "stderr"
        },
        {
          "output_type": "stream",
          "text": [
            "Validation accuracy: 0.4288888888888889\n",
            "Validation F1-micro score: 0.42888888888888893\n",
            "Validation Loss: 163.8432986524315\n",
            "Change in weights norm: 0.00013283635897597492\n",
            "label mismatch\n",
            "38800 38800\n",
            "Train Accuracy: 0.44561855670103095\n",
            "Train F1-micro score: 0.44561855670103095\n",
            "Average Training loss: 6.020488374662741 Total Training Loss:  1173.9952330592346\n"
          ],
          "name": "stdout"
        },
        {
          "output_type": "stream",
          "text": [
            "\r 94%|█████████▍| 189/200 [2:19:28<08:01, 43.78s/it]"
          ],
          "name": "stderr"
        },
        {
          "output_type": "stream",
          "text": [
            "Validation accuracy: 0.4288888888888889\n",
            "Validation F1-micro score: 0.42888888888888893\n",
            "Validation Loss: 163.8432678227991\n",
            "Change in weights norm: 0.0001437010832354093\n",
            "label mismatch\n",
            "38800 38800\n",
            "Train Accuracy: 0.4453092783505155\n",
            "Train F1-micro score: 0.44530927835051554\n",
            "Average Training loss: 6.0207929514728376 Total Training Loss:  1174.0546255372033\n"
          ],
          "name": "stdout"
        },
        {
          "output_type": "stream",
          "text": [
            "\r 95%|█████████▌| 190/200 [2:20:11<07:16, 43.67s/it]"
          ],
          "name": "stderr"
        },
        {
          "output_type": "stream",
          "text": [
            "Validation accuracy: 0.4288888888888889\n",
            "Validation F1-micro score: 0.42888888888888893\n",
            "Validation Loss: 163.84322327575234\n",
            "Change in weights norm: 0.00014002608110949232\n",
            "label mismatch\n",
            "38800 38800\n",
            "Train Accuracy: 0.4454896907216495\n",
            "Train F1-micro score: 0.4454896907216495\n",
            "Average Training loss: 6.020618124750661 Total Training Loss:  1174.020534326379\n"
          ],
          "name": "stdout"
        },
        {
          "output_type": "stream",
          "text": [
            "\r 96%|█████████▌| 191/200 [2:20:55<06:32, 43.61s/it]"
          ],
          "name": "stderr"
        },
        {
          "output_type": "stream",
          "text": [
            "Validation accuracy: 0.4288888888888889\n",
            "Validation F1-micro score: 0.42888888888888893\n",
            "Validation Loss: 163.84317402427448\n",
            "Change in weights norm: 0.00013450662839145105\n",
            "label mismatch\n",
            "38800 38800\n",
            "Train Accuracy: 0.44559278350515463\n",
            "Train F1-micro score: 0.44559278350515463\n",
            "Average Training loss: 6.020514096163595 Total Training Loss:  1174.000248751901\n"
          ],
          "name": "stdout"
        },
        {
          "output_type": "stream",
          "text": [
            "\r 96%|█████████▌| 192/200 [2:21:39<05:49, 43.68s/it]"
          ],
          "name": "stderr"
        },
        {
          "output_type": "stream",
          "text": [
            "Validation accuracy: 0.4288888888888889\n",
            "Validation F1-micro score: 0.42888888888888893\n",
            "Validation Loss: 163.84313769653906\n",
            "Change in weights norm: 0.0001462654876812395\n",
            "label mismatch\n",
            "38800 38800\n",
            "Train Accuracy: 0.44528350515463916\n",
            "Train F1-micro score: 0.44528350515463916\n",
            "Average Training loss: 6.020826424082178 Total Training Loss:  1174.0611526960247\n"
          ],
          "name": "stdout"
        },
        {
          "output_type": "stream",
          "text": [
            "\r 96%|█████████▋| 193/200 [2:22:22<05:05, 43.68s/it]"
          ],
          "name": "stderr"
        },
        {
          "output_type": "stream",
          "text": [
            "Validation accuracy: 0.4288888888888889\n",
            "Validation F1-micro score: 0.42888888888888893\n",
            "Validation Loss: 163.84318233837942\n",
            "Change in weights norm: 0.00014825908154023502\n",
            "label mismatch\n",
            "38800 38800\n",
            "Train Accuracy: 0.4456701030927835\n",
            "Train F1-micro score: 0.4456701030927835\n",
            "Average Training loss: 6.0204367975437565 Total Training Loss:  1173.9851755210325\n"
          ],
          "name": "stdout"
        },
        {
          "output_type": "stream",
          "text": [
            "\r 97%|█████████▋| 194/200 [2:23:06<04:21, 43.67s/it]"
          ],
          "name": "stderr"
        },
        {
          "output_type": "stream",
          "text": [
            "Validation accuracy: 0.4288888888888889\n",
            "Validation F1-micro score: 0.42888888888888893\n",
            "Validation Loss: 163.84308942426105\n",
            "Change in weights norm: 0.000155570844521664\n",
            "label mismatch\n",
            "38800 38800\n",
            "Train Accuracy: 0.4454381443298969\n",
            "Train F1-micro score: 0.4454381443298969\n",
            "Average Training loss: 6.020668343307491 Total Training Loss:  1174.0303269449607\n"
          ],
          "name": "stdout"
        },
        {
          "output_type": "stream",
          "text": [
            "\r 98%|█████████▊| 195/200 [2:23:50<03:38, 43.70s/it]"
          ],
          "name": "stderr"
        },
        {
          "output_type": "stream",
          "text": [
            "Validation accuracy: 0.4288888888888889\n",
            "Validation F1-micro score: 0.42888888888888893\n",
            "Validation Loss: 163.84312214409073\n",
            "Change in weights norm: 0.0001372569593268136\n",
            "label mismatch\n",
            "38800 38800\n",
            "Train Accuracy: 0.4455154639175258\n",
            "Train F1-micro score: 0.44551546391752583\n",
            "Average Training loss: 6.020590236852591 Total Training Loss:  1174.0150961862553\n"
          ],
          "name": "stdout"
        },
        {
          "output_type": "stream",
          "text": [
            "\r 98%|█████████▊| 196/200 [2:24:33<02:54, 43.70s/it]"
          ],
          "name": "stderr"
        },
        {
          "output_type": "stream",
          "text": [
            "Validation accuracy: 0.4288888888888889\n",
            "Validation F1-micro score: 0.42888888888888893\n",
            "Validation Loss: 163.84308619070757\n",
            "Change in weights norm: 0.0001380881039589611\n",
            "label mismatch\n",
            "38800 38800\n",
            "Train Accuracy: 0.44559278350515463\n",
            "Train F1-micro score: 0.44559278350515463\n",
            "Average Training loss: 6.020507427930416 Total Training Loss:  1173.998948446431\n"
          ],
          "name": "stdout"
        },
        {
          "output_type": "stream",
          "text": [
            "\r 98%|█████████▊| 197/200 [2:25:19<02:12, 44.23s/it]"
          ],
          "name": "stderr"
        },
        {
          "output_type": "stream",
          "text": [
            "Validation accuracy: 0.4288888888888889\n",
            "Validation F1-micro score: 0.42888888888888893\n",
            "Validation Loss: 163.84308618866055\n",
            "Change in weights norm: 1.4031064038133466e-05\n",
            "label mismatch\n",
            "38800 38800\n",
            "Train Accuracy: 0.4456701030927835\n",
            "Train F1-micro score: 0.4456701030927835\n",
            "Average Training loss: 6.020432930404867 Total Training Loss:  1173.9844214289492\n"
          ],
          "name": "stdout"
        },
        {
          "output_type": "stream",
          "text": [
            "\r 99%|█████████▉| 198/200 [2:26:03<01:28, 44.10s/it]"
          ],
          "name": "stderr"
        },
        {
          "output_type": "stream",
          "text": [
            "Validation accuracy: 0.4288888888888889\n",
            "Validation F1-micro score: 0.42888888888888893\n",
            "Validation Loss: 163.84308783370227\n",
            "Change in weights norm: 1.411559333162363e-05\n",
            "label mismatch\n",
            "38800 38800\n",
            "Train Accuracy: 0.44554123711340204\n",
            "Train F1-micro score: 0.44554123711340204\n",
            "Average Training loss: 6.020559778918071 Total Training Loss:  1174.0091568890239\n"
          ],
          "name": "stdout"
        },
        {
          "output_type": "stream",
          "text": [
            "\r100%|█████████▉| 199/200 [2:26:47<00:44, 44.10s/it]"
          ],
          "name": "stderr"
        },
        {
          "output_type": "stream",
          "text": [
            "Validation accuracy: 0.4288888888888889\n",
            "Validation F1-micro score: 0.42888888888888893\n",
            "Validation Loss: 163.84308820158196\n",
            "Change in weights norm: 1.3783954256242667e-05\n",
            "label mismatch\n",
            "38800 38800\n",
            "Train Accuracy: 0.4456701030927835\n",
            "Train F1-micro score: 0.4456701030927835\n",
            "Average Training loss: 6.020438423776444 Total Training Loss:  1173.9854926364064\n"
          ],
          "name": "stdout"
        },
        {
          "output_type": "stream",
          "text": [
            "100%|██████████| 200/200 [2:27:30<00:00, 44.25s/it]"
          ],
          "name": "stderr"
        },
        {
          "output_type": "stream",
          "text": [
            "Validation accuracy: 0.4288888888888889\n",
            "Validation F1-micro score: 0.42888888888888893\n",
            "Validation Loss: 163.84307909281134\n",
            "Min val Loss at: 199 Min Val loss: 163.84307909281134\n",
            "Max val accuracy at: 151 Max Val accuracy: 0.42907407407407405\n"
          ],
          "name": "stdout"
        },
        {
          "output_type": "stream",
          "text": [
            "\n"
          ],
          "name": "stderr"
        }
      ]
    },
    {
      "cell_type": "code",
      "metadata": {
        "id": "Otfs-CkMj98_",
        "outputId": "700328eb-7ef1-40cd-bd70-b5f0f249b4e9",
        "colab": {
          "base_uri": "https://localhost:8080/",
          "height": 87
        }
      },
      "source": [
        "def TestEvaluation(model, testSet):\n",
        "  model.eval()\n",
        "  pred_flat = []\n",
        "  labels_flat = [] \n",
        "  \n",
        "  for batch in testSet:\n",
        "    b_input_ids = batch[0]\n",
        "    # b_input_mask = batch[1].to(device)\n",
        "    b_labels = batch[1]\n",
        "    if b_labels.shape[0]!=batch_size:\n",
        "      continue\n",
        "\n",
        "    with torch.no_grad():\n",
        "      out = model(b_input_ids)\n",
        "    preds = out.detach().numpy()\n",
        "    pred_flat.extend(np.argmax(preds, axis=1).flatten().tolist())\n",
        "    labels_flat.extend(b_labels.cpu().numpy().flatten().tolist())\n",
        "\n",
        "  print(\"Test Accuracy:\", accuracy_score(labels_flat, pred_flat))\n",
        "  print(\"Test F1-score micro:\", f1_score(labels_flat, pred_flat, average='micro'))\n",
        "# print(classification_report(labels_flat, pred_flat))\n",
        "print('*'*20)\n",
        "print(\"Complete iteration model\")\n",
        "TestEvaluation(model, testSet)"
      ],
      "execution_count": null,
      "outputs": [
        {
          "output_type": "stream",
          "text": [
            "********************\n",
            "Complete iteration model\n",
            "Test Accuracy: 0.4167272727272727\n",
            "Test F1-score micro: 0.4167272727272727\n"
          ],
          "name": "stdout"
        }
      ]
    },
    {
      "cell_type": "code",
      "metadata": {
        "id": "aK4_Ut1rf8qh"
      },
      "source": [
        "# ********************\n",
        "# Complete iteration model\n",
        "# Test Accuracy: 0.7359375\n",
        "# Test F1-score micro: 0.7359375000000001\n",
        "\n",
        "# ********************\n",
        "# epoch 70\n",
        "# require_grad = False\n",
        "# Complete iteration model\n",
        "# Test Accuracy: 0.6453125\n",
        "# Test F1-score micro: 0.6453125\n",
        "\n",
        "# ********************\n",
        "# epoch 80\n",
        "# require_grad = False\n",
        "# Complete iteration model\n",
        "# Test Accuracy: 0.721875\n",
        "# Test F1-score micro: 0.7218749999999999"
      ],
      "execution_count": null,
      "outputs": []
    }
  ]
}