{
  "nbformat": 4,
  "nbformat_minor": 0,
  "metadata": {
    "colab": {
      "name": "Copy of Chunking::BiLSTM",
      "provenance": [],
      "collapsed_sections": []
    },
    "kernelspec": {
      "name": "python3",
      "display_name": "Python 3"
    }
  },
  "cells": [
    {
      "cell_type": "markdown",
      "metadata": {
        "id": "IYD0NKkGWllW"
      },
      "source": [
        "Downloading data"
      ]
    },
    {
      "cell_type": "code",
      "metadata": {
        "id": "SFpf8Y6vSyeZ",
        "outputId": "5fa798a0-d1bc-4eab-f5df-514aa307fb43",
        "colab": {
          "base_uri": "https://localhost:8080/"
        }
      },
      "source": [
        "!pip install nltk"
      ],
      "execution_count": null,
      "outputs": [
        {
          "output_type": "stream",
          "text": [
            "Requirement already satisfied: nltk in /usr/local/lib/python3.6/dist-packages (3.2.5)\n",
            "Requirement already satisfied: six in /usr/local/lib/python3.6/dist-packages (from nltk) (1.15.0)\n"
          ],
          "name": "stdout"
        }
      ]
    },
    {
      "cell_type": "code",
      "metadata": {
        "id": "b1cwa5pYljOG"
      },
      "source": [
        "import numpy as np\n",
        "\n",
        "import torch\n",
        "import torch.nn as nn\n",
        "import torch.nn.functional as F\n",
        "from torch.utils.data import Dataset\n",
        "\n",
        "from gensim.models import Word2Vec\n"
      ],
      "execution_count": null,
      "outputs": []
    },
    {
      "cell_type": "code",
      "metadata": {
        "id": "2JbD-owbhqO9",
        "outputId": "8e70bde6-880b-41f1-d239-d1cb3258edc8",
        "colab": {
          "base_uri": "https://localhost:8080/"
        }
      },
      "source": [
        "# Glove dictionary 300 dimentions\n",
        "!wget https://www.cse.iitb.ac.in/~kartavya/glove_dict_tensor.pkl"
      ],
      "execution_count": null,
      "outputs": [
        {
          "output_type": "stream",
          "text": [
            "--2020-10-29 09:42:30--  https://www.cse.iitb.ac.in/~kartavya/glove_dict_tensor.pkl\n",
            "Resolving www.cse.iitb.ac.in (www.cse.iitb.ac.in)... 103.21.127.134\n",
            "Connecting to www.cse.iitb.ac.in (www.cse.iitb.ac.in)|103.21.127.134|:443... connected.\n",
            "HTTP request sent, awaiting response... 200 OK\n",
            "Length: 770589404 (735M)\n",
            "Saving to: ‘glove_dict_tensor.pkl.3’\n",
            "\n",
            "glove_dict_tensor.p 100%[===================>] 734.89M  5.29MB/s    in 2m 28s  \n",
            "\n",
            "2020-10-29 09:45:00 (4.95 MB/s) - ‘glove_dict_tensor.pkl.3’ saved [770589404/770589404]\n",
            "\n"
          ],
          "name": "stdout"
        }
      ]
    },
    {
      "cell_type": "markdown",
      "metadata": {
        "id": "rWEsaiPjUky2"
      },
      "source": [
        "Load the glove dictionary"
      ]
    },
    {
      "cell_type": "code",
      "metadata": {
        "id": "C8_4dyfsSgD-"
      },
      "source": [
        "import pickle\n",
        "pickle_in = open(\"glove_dict_tensor.pkl\",\"rb\")\n",
        "glove = pickle.load(pickle_in)"
      ],
      "execution_count": null,
      "outputs": []
    },
    {
      "cell_type": "code",
      "metadata": {
        "id": "by03TOSAqmmt"
      },
      "source": [
        "!wget -q https://www.cse.iitb.ac.in/~sourabj/dataset2/train.txt\n",
        "!wget -q https://www.cse.iitb.ac.in/~sourabj/dataset2/test.txt\n",
        "\n",
        "def load_and_process(filepath):\n",
        "    df = np.loadtxt(filepath, dtype=str)\n",
        "    df[:, -1] = np.vectorize(lambda x: x.split('-')[0])(df[:,-1])\n",
        "    cutfrom = 0\n",
        "    sentences = []\n",
        "    for i in range(df.shape[0]):\n",
        "        # print(ts[i])\n",
        "        if df[i][0] == '.':\n",
        "            sentences.append(df[cutfrom:i+1].T)\n",
        "            cutfrom = i + 1\n",
        "    return sentences\n",
        "\n",
        "\n",
        "testset = load_and_process(\"test.txt\")\n",
        "trainset = load_and_process(\"train.txt\")"
      ],
      "execution_count": null,
      "outputs": []
    },
    {
      "cell_type": "code",
      "metadata": {
        "id": "aawQJOJ70b8P"
      },
      "source": [
        ""
      ],
      "execution_count": null,
      "outputs": []
    },
    {
      "cell_type": "code",
      "metadata": {
        "id": "C9rSdWXKvBRW"
      },
      "source": [
        "all_pos = set()\n",
        "for i in testset:\n",
        "    all_pos = all_pos.union(set(i[1]))\n",
        "for i in trainset:\n",
        "    all_pos = all_pos.union(set(i[1]))\n",
        "all_pos = list(all_pos)\n",
        "id2pos = dict(enumerate(all_pos))\n",
        "pos2id = id2tag = {v: k for k, v in id2pos.items()}"
      ],
      "execution_count": null,
      "outputs": []
    },
    {
      "cell_type": "code",
      "metadata": {
        "id": "qPdhctxt4sDU",
        "outputId": "9ca09090-2b7a-4d21-df6d-01aae39f7836",
        "colab": {
          "base_uri": "https://localhost:8080/"
        }
      },
      "source": [
        "tag2id = { \n",
        "    'B': 0,\n",
        "    'I': 1,\n",
        "    'O': 2,\n",
        "    'PAD': 3\n",
        "}\n",
        "id2tag = {v: k for k, v in tag2id.items()}\n",
        "id2tag"
      ],
      "execution_count": null,
      "outputs": [
        {
          "output_type": "execute_result",
          "data": {
            "text/plain": [
              "{0: 'B', 1: 'I', 2: 'O', 3: 'PAD'}"
            ]
          },
          "metadata": {
            "tags": []
          },
          "execution_count": 84
        }
      ]
    },
    {
      "cell_type": "code",
      "metadata": {
        "id": "eKYDDROuLPCl"
      },
      "source": [
        "def get_sent_and_tag(trainset):\n",
        "    sentences = []\n",
        "    tags = []\n",
        "    for i, data in enumerate(trainset):\n",
        "        # print(i, data[0])\n",
        "        sent = []\n",
        "        for j, word in enumerate(data[0]):\n",
        "            word_embed = glove.get(word.lower(), torch.zeros(200))\n",
        "            posid = 0 #pos2id[data[1][j]]\n",
        "            posid = torch.tensor([posid])\n",
        "            word_embed = (torch.cat((word_embed, posid), 0))\n",
        "            sent.append(word_embed)\n",
        "            # sent[-1].append(0)\n",
        "        # sent = ([glove.get(word.lower(), torch.zeros(200)) for word in data[0]])\n",
        "        sent = torch.cat(sent).view(len(sent),-1)\n",
        "        if len(sent) < 100:\n",
        "            sent = torch.cat((sent,torch.zeros((100-len(sent),201))))\n",
        "\n",
        "        sentences.append(sent[:100])\n",
        "        sent_tag = data[2][:100].tolist()\n",
        "        sent_tag.extend(['PAD']*(100-data.shape[1]))\n",
        "\n",
        "        sent_tag = ([tag2id[x] for x in sent_tag])\n",
        "        sent_tag = torch.tensor(sent_tag)\n",
        "        tags.append(sent_tag)\n",
        "    sentences = torch.stack(sentences)\n",
        "    tags = torch.stack(tags)\n",
        "    return sentences, tags\n",
        "Xtrain, Ytrain = get_sent_and_tag(trainset)\n",
        "Xtest, Ytest = get_sent_and_tag(testset)"
      ],
      "execution_count": null,
      "outputs": []
    },
    {
      "cell_type": "code",
      "metadata": {
        "id": "ZB_LynUcQipj",
        "outputId": "9e593544-7738-4199-9cb3-f3625bf5f5f3",
        "colab": {
          "base_uri": "https://localhost:8080/"
        }
      },
      "source": [
        "Xtrain.shape, Ytrain.shape, Xtest.shape, Ytest.shape"
      ],
      "execution_count": null,
      "outputs": [
        {
          "output_type": "execute_result",
          "data": {
            "text/plain": [
              "(torch.Size([8725, 100, 201]),\n",
              " torch.Size([8725, 100]),\n",
              " torch.Size([1952, 100, 201]),\n",
              " torch.Size([1952, 100]))"
            ]
          },
          "metadata": {
            "tags": []
          },
          "execution_count": 114
        }
      ]
    },
    {
      "cell_type": "code",
      "metadata": {
        "id": "XyUuCY_zquaD"
      },
      "source": [
        "# postags = list(np.unique(trainset[:,1]))\n",
        "# z = np.zeros([trainset.shape[0], len(postags)])\n",
        "# from sklearn.preprocessing import OneHotEncoder\n",
        "# testset[:,1] = OneHotEncoder().fit_transform(trainset[:,1].reshape((-1,1)))\n"
      ],
      "execution_count": null,
      "outputs": []
    },
    {
      "cell_type": "code",
      "metadata": {
        "id": "2SqM0HGaSQ6B"
      },
      "source": [
        "class NET(nn.Module):\n",
        "  def __init__(self, input_dim, hidden_dim, layer_dim, batchSize, seqLength, numClasses):\n",
        "    super(NET,self).__init__()\n",
        "    self.batchSize = batchSize\n",
        "    self.hidden_dim = hidden_dim\n",
        "    self.layer_dim = layer_dim\n",
        "\n",
        "    self.bilstm = nn.LSTM(input_dim, hidden_dim, layer_dim, batch_first=True, bidirectional = True)\n",
        "    self.fc = nn.Linear(hidden_dim*2,numClasses)\n",
        "\n",
        "  def forward(self, input_ids):\n",
        "    # Initialize hidden state\n",
        "    # h0 = torch.zeros((self.layer_dim*2, input_ids.size(0), self.hidden_dim)).requires_grad_()\n",
        "    # # Initialize cell state\n",
        "    # c0 = torch.zeros((self.layer_dim*2, input_ids.size(0), self.hidden_dim)).requires_grad_()\n",
        "    # BiLSTM\n",
        "    # print(input_ids.size())\n",
        "    out , (hn,cn) = self.bilstm(input_ids)\n",
        "    # print('^^^^^^^^^^^',out.size(0))\n",
        "    out = self.fc(out)\n",
        "    # out = F.softmax(out,dim=1)\n",
        "\n",
        "    return out\n",
        "\n",
        "def train(model,data,optimizer,loss_criterion, batch_size):\n",
        "  model.train()\n",
        "  \n",
        "  epoch_loss = 0\n",
        "  epoch_acc = 0\n",
        "  \n",
        "  for sentence_batch,tags_batch in data:\n",
        "    if tags_batch.shape[0]!=batch_size:\n",
        "      # print(\"label mismatch\")\n",
        "      continue\n",
        "\n",
        "    if torch.cuda.is_available():\n",
        "      sentence_batch = sentence_batch.cuda()\n",
        "      tags_batch = tags_batch.cuda()\n",
        "      # label = label.cuda()\n",
        "    \n",
        "    optimizer.zero_grad()\n",
        "\n",
        "    out = model(sentence_batch)\n",
        "    out = out.view(-1,out.shape[-1])\n",
        "    tags_batch = tags_batch.view(-1)\n",
        "\n",
        "    loss=loss_criterion(out, tags_batch)\n",
        "    acc = categorical_accuracy(out, tags_batch, tag2id['PAD'])\n",
        "\n",
        "    loss.backward()\n",
        "    optimizer.step()\n",
        "\n",
        "    epoch_loss += loss.item()\n",
        "    epoch_acc += acc.item()\n",
        "  \n",
        "  return epoch_loss / len(data), epoch_acc / len(data)\n",
        "\n",
        "def evaluate(model,data,loss_criterion,batch_size):\n",
        "  epoch_loss = 0\n",
        "  epoch_acc = 0\n",
        "\n",
        "  model.eval()\n",
        "\n",
        "  with torch.no_grad():\n",
        "    for sentencAnalysise_batch,tags_batch in data:\n",
        "      if tags_batch.shape[0]!=batch_size:\n",
        "        # print(\"label mismatch\")\n",
        "        continue \n",
        "\n",
        "      if torch.cuda.is_available():\n",
        "        sentence_batch = sentence_batch.cuda()\n",
        "        tags_batch = tags_batch.cuda()\n",
        "\n",
        "      out = model(sentence_batch)\n",
        "      out = out.view(-1,out.shape[-1])\n",
        "      tags_batch = tags_batch.view(-1)\n",
        "\n",
        "      loss=loss_criterion(out, tags_batch)\n",
        "      acc = categorical_accuracy(out, tags_batch, tag2id['PAD'])\n",
        "\n",
        "      # loss.backward()\n",
        "      # optimizer.step()\n",
        "\n",
        "      epoch_loss += loss.item()\n",
        "      epoch_acc += acc.item()\n",
        "  return epoch_loss / len(data), epoch_acc / len(data)\n",
        "class NET(nn.Module):\n",
        "  def __init__(self, input_dim, hidden_dim, layer_dim, batchSize, seqLength, numClasses):\n",
        "    super(NET,self).__init__()\n",
        "    self.batchSize = batchSize\n",
        "    self.hidden_dim = hidden_dim\n",
        "    self.layer_dim = layer_dim\n",
        "\n",
        "    self.bilstm = nn.LSTM(input_dim, hidden_dim, layer_dim, batch_first=True, bidirectional = True)\n",
        "    self.fc = nn.Linear(hidden_dim*2,numClasses)\n",
        "\n",
        "  def forward(self, input_ids):\n",
        "    # Initialize hidden state\n",
        "    # h0 = torch.zeros((self.layer_dim*2, input_ids.size(0), self.hidden_dim)).requires_grad_()\n",
        "    # # Initialize cell state\n",
        "    # c0 = torch.zeros((self.layer_dim*2, input_ids.size(0), self.hidden_dim)).requires_grad_()\n",
        "    # BiLSTM\n",
        "    # print(input_ids.size())\n",
        "    out , (hn,cn) = self.bilstm(input_ids)\n",
        "    # print('^^^^^^^^^^^',out.size(0))\n",
        "    out = self.fc(out)\n",
        "    # out = F.softmax(out,dim=1)\n",
        "\n",
        "    return out\n",
        "\n",
        "def train(model,data,optimizer,loss_criterion, batch_size):\n",
        "  model.train()\n",
        "  \n",
        "  epoch_loss = 0\n",
        "  epoch_acc = 0\n",
        "  \n",
        "  for sentence_batch,tags_batch in data:\n",
        "    if tags_batch.shape[0]!=batch_size:\n",
        "      # print(\"label mismatch\")\n",
        "      continue\n",
        "\n",
        "    if torch.cuda.is_available():\n",
        "      sentence_batch = sentence_batch.cuda()\n",
        "      tags_batch = tags_batch.cuda()\n",
        "      # label = label.cuda()\n",
        "    \n",
        "    optimizer.zero_grad()\n",
        "\n",
        "    out = model(sentence_batch)\n",
        "    out = out.view(-1,out.shape[-1])\n",
        "    tags_batch = tags_batch.view(-1)\n",
        "\n",
        "    loss=loss_criterion(out, tags_batch)\n",
        "    acc = categorical_accuracy(out, tags_batch, tag2id['PAD'])\n",
        "\n",
        "    loss.backward()\n",
        "    optimizer.step()\n",
        "\n",
        "    epoch_loss += loss.item()\n",
        "    epoch_acc += acc.item()\n",
        "  \n",
        "  return epoch_loss / len(data), epoch_acc / len(data)\n",
        "\n",
        "def evaluate(model,data,loss_criterion,batch_size):\n",
        "  epoch_loss = 0\n",
        "  epoch_acc = 0\n",
        "\n",
        "  model.eval()\n",
        "\n",
        "  with torch.no_grad():\n",
        "    for sentence_batch,tags_batch in data:\n",
        "      if tags_batch.shape[0]!=batch_size:\n",
        "        # print(\"label mismatch\")\n",
        "        continue \n",
        "\n",
        "      if torch.cuda.is_available():\n",
        "        sentence_batch = sentence_batch.cuda()\n",
        "        tags_batch = tags_batch.cuda()\n",
        "\n",
        "      out = model(sentence_batch)\n",
        "      out = out.view(-1,out.shape[-1])\n",
        "      tags_batch = tags_batch.view(-1)\n",
        "\n",
        "      loss=loss_criterion(out, tags_batch)\n",
        "      acc = categorical_accuracy(out, tags_batch, tag2id['PAD'])\n",
        "\n",
        "      # loss.backward()\n",
        "      # optimizer.step()\n",
        "\n",
        "      epoch_loss += loss.item()\n",
        "      epoch_acc += acc.item()\n",
        "  return epoch_loss / len(data), epoch_acc / len(data)\n",
        "\n",
        "def categorical_accuracy(preds, y, tag_pad_idx):\n",
        "    \"\"\"\n",
        "    Returns accuracy per batch, i.e. if you get 8/10 right, this returns 0.8, NOT 8\n",
        "    \"\"\"\n",
        "  \n",
        "    max_preds = preds.argmax(dim = 1, keepdim = True).squeeze(1) # get the index of the max probability\n",
        "    non_pad_elements = (y != tag_pad_idx).nonzero()\n",
        "    return accuracy_score(max_preds[non_pad_elements].cpu(),y[non_pad_elements].cpu())"
      ],
      "execution_count": null,
      "outputs": []
    },
    {
      "cell_type": "code",
      "metadata": {
        "id": "6kkFmW8DSqF3",
        "outputId": "6f24c1c8-ac9b-4519-ba85-1ef6a27cfe8e",
        "colab": {
          "base_uri": "https://localhost:8080/"
        }
      },
      "source": [
        "from tqdm import tqdm\n",
        "from torch.utils.data import TensorDataset, random_split\n",
        "from torch.utils.data import DataLoader, RandomSampler, SequentialSampler\n",
        "from sklearn.metrics import confusion_matrix,classification_report,accuracy_score\n",
        "\n",
        "\n",
        "input_dim = 201\n",
        "hidden_dim = 50\n",
        "layer_dim = 2\n",
        "\n",
        "batch_size = 32\n",
        "num_epochs = 10\n",
        "learning_rate = 1e-3\n",
        "\n",
        "# import random\n",
        "\n",
        "model=NET(input_dim, hidden_dim, layer_dim,32,40,13)\n",
        "model.double()\n",
        "if torch.cuda.is_available():\n",
        "  model.cuda()\n",
        "\n",
        "optimizer=torch.optim.Adam(model.parameters(), lr=learning_rate)\n",
        "loss_criterion = nn.CrossEntropyLoss(ignore_index=tag2id['PAD'])\n",
        "\n",
        "for i in tqdm(range(num_epochs)):\n",
        "  epoch_accuracy=[]\n",
        "  epoch_loss=[]\n",
        "\n",
        "  for i in range(1):\n",
        "    # X_train, X_test, y_train, y_test = sentences[train_index], sentences[test_index], sentence_tags[train_index], sentence_tags[test_index]\n",
        "    train_dataset = TensorDataset(Xtrain, Ytrain)\n",
        "    test_dataset = TensorDataset(Xtest, Ytest)\n",
        "    X_train, X_test, y_train, y_test = None,None,None,None\n",
        "    train_index, test_index = None,None\n",
        "    \n",
        "    train_dataloader = DataLoader(\n",
        "        train_dataset,  # The training samples.\n",
        "        # sampler = RandomSampler(train_dataset), # Select batches randomly #TODO RandomSampler\n",
        "        batch_size = batch_size, # Trains with this batch size.\n",
        "    )\n",
        "    train_dataset = None\n",
        "\n",
        "    test_dataloader = DataLoader(\n",
        "        test_dataset,\n",
        "        # sampler = SequentialSampler(test_dataset),\n",
        "        batch_size = batch_size\n",
        "    )\n",
        "    test_dataset = None\n",
        "\n",
        "    # if cuda.is_available():\n",
        "\n",
        "    train_loss, train_acc = train(model, train_dataloader, optimizer, loss_criterion, batch_size)\n",
        "    train_dataloader = None\n",
        "    test_loss, test_acc = evaluate(model, test_dataloader, loss_criterion, batch_size)\n",
        "    test_dataloader = None\n",
        "\n",
        "    epoch_accuracy.append(test_acc)\n",
        "    epoch_loss.append(test_loss)\n",
        "\n",
        "  print ('Accuracy: %f  loss: %f' % (np.mean(epoch_accuracy)*100,np.mean(epoch_loss)) )\n",
        "\n"
      ],
      "execution_count": null,
      "outputs": [
        {
          "output_type": "stream",
          "text": [
            " 10%|█         | 1/10 [01:17<11:36, 77.42s/it]"
          ],
          "name": "stderr"
        },
        {
          "output_type": "stream",
          "text": [
            "Accuracy: 88.255266  loss: 0.313616\n"
          ],
          "name": "stdout"
        },
        {
          "output_type": "stream",
          "text": [
            "\r 20%|██        | 2/10 [02:34<10:19, 77.47s/it]"
          ],
          "name": "stderr"
        },
        {
          "output_type": "stream",
          "text": [
            "Accuracy: 91.721040  loss: 0.229831\n"
          ],
          "name": "stdout"
        },
        {
          "output_type": "stream",
          "text": [
            "\r 30%|███       | 3/10 [03:52<09:02, 77.50s/it]"
          ],
          "name": "stderr"
        },
        {
          "output_type": "stream",
          "text": [
            "Accuracy: 92.801617  loss: 0.202078\n"
          ],
          "name": "stdout"
        },
        {
          "output_type": "stream",
          "text": [
            "\r 40%|████      | 4/10 [05:10<07:45, 77.56s/it]"
          ],
          "name": "stderr"
        },
        {
          "output_type": "stream",
          "text": [
            "Accuracy: 93.531929  loss: 0.183862\n"
          ],
          "name": "stdout"
        },
        {
          "output_type": "stream",
          "text": [
            "\r 50%|█████     | 5/10 [06:28<06:28, 77.78s/it]"
          ],
          "name": "stderr"
        },
        {
          "output_type": "stream",
          "text": [
            "Accuracy: 94.095743  loss: 0.170557\n"
          ],
          "name": "stdout"
        },
        {
          "output_type": "stream",
          "text": [
            "\r 60%|██████    | 6/10 [07:46<05:11, 77.96s/it]"
          ],
          "name": "stderr"
        },
        {
          "output_type": "stream",
          "text": [
            "Accuracy: 94.534543  loss: 0.161797\n"
          ],
          "name": "stdout"
        },
        {
          "output_type": "stream",
          "text": [
            "\r 70%|███████   | 7/10 [09:05<03:54, 78.03s/it]"
          ],
          "name": "stderr"
        },
        {
          "output_type": "stream",
          "text": [
            "Accuracy: 94.674581  loss: 0.156936\n"
          ],
          "name": "stdout"
        },
        {
          "output_type": "stream",
          "text": [
            "\r 80%|████████  | 8/10 [10:23<02:36, 78.18s/it]"
          ],
          "name": "stderr"
        },
        {
          "output_type": "stream",
          "text": [
            "Accuracy: 94.806968  loss: 0.155073\n"
          ],
          "name": "stdout"
        },
        {
          "output_type": "stream",
          "text": [
            "\r 90%|█████████ | 9/10 [11:43<01:18, 78.75s/it]"
          ],
          "name": "stderr"
        },
        {
          "output_type": "stream",
          "text": [
            "Accuracy: 94.884084  loss: 0.155561\n"
          ],
          "name": "stdout"
        },
        {
          "output_type": "stream",
          "text": [
            "100%|██████████| 10/10 [13:02<00:00, 78.30s/it]"
          ],
          "name": "stderr"
        },
        {
          "output_type": "stream",
          "text": [
            "Accuracy: 94.882098  loss: 0.157165\n"
          ],
          "name": "stdout"
        },
        {
          "output_type": "stream",
          "text": [
            "\n"
          ],
          "name": "stderr"
        }
      ]
    },
    {
      "cell_type": "code",
      "metadata": {
        "id": "q7amj_nLGYtP",
        "outputId": "33ec5c2f-9827-4e1f-c15c-a2523f2bd1b5",
        "colab": {
          "base_uri": "https://localhost:8080/"
        }
      },
      "source": [
        "from sklearn.metrics import classification_report, accuracy_score, f1_score\n",
        "\n",
        "def TestEvaluation(model, testSet):\n",
        "  model.eval()\n",
        "  pred_flat = []\n",
        "  labels_flat = [] \n",
        "  \n",
        "  for batch in testSet:\n",
        "    # print(batch)\n",
        "    # b_input_ids = batch[0]\n",
        "    # # b_input_mask = batch[1].to(device)\n",
        "    # b_labels = batch[1]\n",
        "    # if b_labels.shape[0]!=batch_size:\n",
        "    #   continue\n",
        "    labels = batch[2]\n",
        "\n",
        "    with torch.no_grad():\n",
        "    #   out = model(b_input_ids)\n",
        "      pred = predict(batch, model)\n",
        "    # preds = out.detach().numpy()\n",
        "    # pred_flat.extend(np.argmax(preds, axis=1).flatten().tolist())\n",
        "    # labels_flat.extend(b_labels.cpu().numpy().flatten().tolist())\n",
        "    labels_flat.extend(batch[2].tolist())\n",
        "    pred_flat.extend(pred)\n",
        "\n",
        "  print(\"Test Accuracy:\", accuracy_score(labels_flat, pred_flat))\n",
        "  print(classification_report(labels_flat, pred_flat, digits=3))\n",
        "  return labels_flat, pred_flat\n",
        "l, p = TestEvaluation(model, testset)"
      ],
      "execution_count": null,
      "outputs": [
        {
          "output_type": "stream",
          "text": [
            "/usr/local/lib/python3.6/dist-packages/ipykernel_launcher.py:21: UserWarning: Implicit dimension choice for softmax has been deprecated. Change the call to include dim=X as an argument.\n"
          ],
          "name": "stderr"
        },
        {
          "output_type": "stream",
          "text": [
            "Test Accuracy: 0.9482962462525862\n",
            "              precision    recall  f1-score   support\n",
            "\n",
            "           B      0.959     0.956     0.958     23846\n",
            "           I      0.929     0.943     0.936     17340\n",
            "           O      0.962     0.931     0.946      6180\n",
            "\n",
            "    accuracy                          0.948     47366\n",
            "   macro avg      0.950     0.944     0.947     47366\n",
            "weighted avg      0.948     0.948     0.948     47366\n",
            "\n"
          ],
          "name": "stdout"
        }
      ]
    },
    {
      "cell_type": "code",
      "metadata": {
        "id": "s-I0QR8fFVAl",
        "outputId": "5116c91b-6869-40c7-d346-0273784fe494",
        "colab": {
          "base_uri": "https://localhost:8080/",
          "height": 483
        }
      },
      "source": [
        "import matplotlib.pyplot as plt\n",
        "import seaborn as sns\n",
        "\n",
        "confusion=np.zeros((3,3),)\n",
        "for i,j in zip(l, p):\n",
        "    confusion[tag2id[i]][tag2id[j]] += 1\n",
        "conf = (confusion.T/(confusion.sum(axis=1))).T\n",
        "conf = np.nan_to_num(conf)\n",
        "plt.figure(figsize=(10,8))\n",
        "ax = sns.heatmap(conf, annot=True, fmt=\".2f\",\n",
        "                 cmap=\"Reds\",\n",
        "                 xticklabels=['B','I','O'],\n",
        "                 yticklabels=['B','I','O'])"
      ],
      "execution_count": null,
      "outputs": [
        {
          "output_type": "display_data",
          "data": {
            "image/png": "[encoded data removed]",
            "text/plain": [
              "<Figure size 720x576 with 2 Axes>"
            ]
          },
          "metadata": {
            "tags": [],
            "needs_background": "light"
          }
        }
      ]
    },
    {
      "cell_type": "code",
      "metadata": {
        "id": "hmtEYr2TqzL4"
      },
      "source": [
        "def predict(batch,model):\n",
        "  sentence = []\n",
        "  tags = []\n",
        "  for word, tag in zip(batch[0], batch[1]):\n",
        "    word_embed = glove.get(word.lower(), torch.zeros(200))\n",
        "    posid = 0#pos2id[tag]\n",
        "    posid = torch.tensor([posid])\n",
        "    word_embed = (torch.cat((word_embed, posid), 0))\n",
        "    sentence.append(word_embed)\n",
        "  sentence = torch.cat(sentence).view(len(sentence),-1)\n",
        "  sentence = torch.stack([sentence])\n",
        "  ds = TensorDataset(sentence)\n",
        "  dl = DataLoader(ds,1)\n",
        "\n",
        "  for i in dl:\n",
        "    # print(i[0])\n",
        "    out = model(i[0])\n",
        "\n",
        "  # print(F.softmax(out[0]).argmax())\n",
        "\n",
        "  return list(map(lambda x: id2tag[x],F.softmax(out[0]).argmax(dim=1).numpy()))"
      ],
      "execution_count": null,
      "outputs": []
    },
    {
      "cell_type": "markdown",
      "metadata": {
        "id": "DZ1R6UP89twa"
      },
      "source": [
        "# Error Analysis"
      ]
    },
    {
      "cell_type": "code",
      "metadata": {
        "id": "r4c85DlTia3-",
        "outputId": "59b39485-d203-4677-cd9e-a4b360c360e9",
        "colab": {
          "base_uri": "https://localhost:8080/",
          "height": 695
        }
      },
      "source": [
        "i=0\n",
        "incorrect, total = 0,0\n",
        "for t in testset:\n",
        "    pg = (list(zip(predict(t[0], model), t[2])))\n",
        "    if sum([x!=y for x, y in pg]) > len(pg)//3:\n",
        "        # print(t, pg)\n",
        "        printable = ((list(zip(t[0], t[2], predict(t[0], model)))))\n",
        "        for p in printable:\n",
        "            print(f\"<{p[0]}, {p[1]}, {p[2]}>,\", end=\" \")\n",
        "        print()\n",
        "        # print(\"\\t\".join(t[0]))\n",
        "        # print(\"\\t\".join(t[2]))\n",
        "        # print(\"\\t\".join(predict(t[0], model)))\n",
        "    if incorrect > 1000:\n",
        "        break"
      ],
      "execution_count": null,
      "outputs": [
        {
          "output_type": "stream",
          "text": [
            "/usr/local/lib/python3.6/dist-packages/ipykernel_launcher.py:17: UserWarning: Implicit dimension choice for softmax has been deprecated. Change the call to include dim=X as an argument.\n"
          ],
          "name": "stderr"
        },
        {
          "output_type": "stream",
          "text": [
            "<SHEARSON, B, O>, <LEHMAN, I, O>, <HUTTON, I, B>, <Inc, I, I>, <., O, O>, \n",
            "<Advanced, B, O>, <Cardiovascular, I, O>, <Systems, I, O>, <Inc., I, O>, <and, O, O>, <Cardiac, B, I>, <Pacemakers, I, O>, <Inc., I, I>, <units, I, B>, <led, B, B>, <growth, B, B>, <in, B, B>, <the, B, B>, <medical-instrument, I, I>, <systems, I, I>, <division, I, I>, <., O, O>, \n",
            "<'', O, O>, <Rival, B, O>, <Boston, I, O>, <Herald, I, O>, <columnist, I, I>, <Howie, I, O>, <Carr, I, B>, <,, O, O>, <who, B, B>, <usually, B, B>, <rails, B, I>, <at, B, B>, <Statehouse, B, B>, <``, I, O>, <hacks, I, B>, <'', I, O>, <and, I, O>, <nepotism, I, B>, <,, O, O>, <argued, B, B>, <that, B, B>, <the, B, B>, <new, I, I>, <drawings, I, I>, <were, B, B>, <designed, I, I>, <to, B, B>, <hide, I, I>, <Mr., B, B>, <Madden, I, O>, <'s, B, B>, <``, O, O>, <rapidly, B, I>, <growing, I, I>, <forehead, B, B>, <'', O, O>, <and, O, O>, <the, B, B>, <facial, I, I>, <defects, I, I>, <of, B, B>, <``, B, O>, <chinless, I, B>, <'', I, O>, <Dan, I, O>, <Shaughnessy, I, O>, <,, O, O>, <a, B, B>, <Globe, I, I>, <sports, I, I>, <columnist, I, I>, <., O, O>, \n",
            "<Jocelyn, B, O>, <Tomkin, I, O>, <Astronomy, B, O>, <Department, I, O>, <University, B, O>, <of, B, B>, <The, B, B>, <Internal, I, O>, <Revenue, I, O>, <Service, I, O>, <plans, B, B>, <to, I, I>, <restructure, I, I>, <itself, B, B>, <more, B, B>, <like, B, B>, <a, B, B>, <private, I, I>, <corporation, I, I>, <., O, O>, \n",
            "<Mr., B, O>, <Windsor, I, O>, <notified, B, B>, <Everett, B, O>, <E., I, O>, <Briggs, I, O>, <,, O, O>, <the, B, B>, <U.S., I, I>, <ambassador, I, B>, <to, B, B>, <Panama, B, B>, <,, O, O>, <of, B, B>, <the, B, B>, <invitation, I, I>, <., O, O>, \n",
            "<White, B, O>, <Males, I, O>, <White, B, O>, <Females, I, O>, <Black, B, O>, <Males, I, O>, <Black, B, O>, <Females, I, O>, <Directors, B, O>, <elected, B, I>, <R., B, O>, <Marvin, I, B>, <Womack, I, O>, <,, O, O>, <currently, B, B>, <vice, B, B>, <president\\/product, I, I>, <supply, I, I>, <,, I, O>, <purchasing, I, B>, <,, O, O>, <to, B, B>, <head, I, I>, <the, B, B>, <company, I, I>, <'s, B, B>, <Washington, I, I>, <,, I, I>, <D.C., I, I>, <,, I, I>, <office, I, I>, <., O, O>, \n",
            "<Harry, B, O>, <Lee, I, O>, <Smith, I, B>, <Alpharetta, B, B>, <,, O, O>, <Ga, B, B>, <., O, O>, \n",
            "<This, B, O>, <is, B, B>, <written, I, I>, <to, B, B>, <correct, I, I>, <a, B, B>, <misquotation, I, I>, <in, B, B>, <your, B, B>, <Oct., I, I>, <3, I, I>, <article, I, I>, <``, O, O>, <Deaths, B, O>, <From, B, O>, <Advanced, B, O>, <Colon, I, O>, <Cancer, I, O>, <Can, B, O>, <Be, I, O>, <Reduced, I, O>, <by, B, B>, <Using, B, B>, <Two, B, I>, <Drugs, I, I>, <., O, O>, \n",
            "<Charles, B, O>, <G., I, O>, <Moertel, I, B>, <M.D, I, I>, <., O, O>, \n",
            "<'', O, O>, <Senate, B, O>, <Banking, I, O>, <Committee, I, O>, <Chairman, I, O>, <Donald, I, O>, <Riegle, I, O>, <-LRB-, O, O>, <D., B, B>, <,, O, O>, <Mich, B, B>, <., O, O>, \n",
            "<IRS, B, O>, <Notice, I, O>, <89-136, I, O>, <describes, B, B>, <this, B, B>, <and, O, O>, <other, B, B>, <deadline, I, B>, <relief, I, B>, <for, B, B>, <Hugo, B, B>, <'s, B, B>, <victims, I, I>, <., O, O>, \n",
            "<IRS, B, O>, <Revenue, I, O>, <Procedure, I, O>, <89-52, I, O>, <describes, B, B>, <the, B, B>, <reporting, I, I>, <requirements, I, I>, <., O, O>, \n",
            "<Mr., B, B>, <Langton, I, O>, <'s, B, B>, <group, I, I>, <,, O, O>, <Concerned, B, B>, <Off-Road, I, O>, <Bicyclists, I, O>, <Association, I, O>, <,, O, O>, <mounted, B, B>, <petition, B, I>, <drives, I, B>, <to, B, B>, <help, I, I>, <keep, I, I>, <open, B, B>, <certain, B, B>, <Santa, I, I>, <Monica, I, O>, <Mountain, I, O>, <trails, I, B>, <designated, B, B>, <for, B, B>, <closing, B, B>, <., O, O>, \n",
            "<buy-out, I, B>, <., O, O>, \n",
            "<Spaced, B, O>, <Out, I, O>, <Those, B, I>, <supermarket, I, I>, <tabloids, I, I>, <Make, B, B>, <me, B, B>, <feel, B, B>, <slow, B, I>, <Because, B, I>, <I, B, B>, <still, B, B>, <have, B, B>, <n't, I, I>, <seen, I, I>, <--, B, O>, <Bruce, I, B>, <Kafaroff, I, I>, <., O, O>, \n",
            "<--, B, O>, <Daisy, I, B>, <Brown, I, I>, <., O, O>, \n",
            "<The, B, B>, <two, I, B>, <Remics, I, I>, <priced, B, B>, <were, B, B>, <a, B, I>, <$, I, I>, <500, I, I>, <million, I, I>, <Federal, I, O>, <Home, I, O>, <Loan, I, O>, <Mortgage, I, O>, <Corp., I, O>, <issue, I, I>, <underwritten, B, B>, <by, B, B>, <Salomon, B, B>, <Brothers, I, O>, <Inc., I, O>, <and, O, O>, <a, B, B>, <$, I, I>, <350, I, I>, <million, I, I>, <Federal, I, O>, <National, I, O>, <Mortgage, I, O>, <Association, I, O>, <deal, I, B>, <underwritten, B, B>, <by, B, B>, <Greenwich, B, B>, <Capital, I, I>, <Markets, I, I>, <., O, O>, \n",
            "<A, B, O>, <Chemical, I, O>, <Securities, I, I>, <group, I, I>, <won, B, B>, <a, O, B>, <$, O, I>, <100, O, I>, <million, O, I>, <Oregon, O, O>, <general, O, I>, <obligation, O, I>, <veterans, B, I>, <', B, B>, <tax, I, I>, <note, I, I>, <issue, I, B>, <due, B, B>, <Nov., B, B>, <1, I, I>, <,, I, I>, <1990, I, I>, <., O, O>, \n",
            "<-RRB-, O, B>, <., O, O>, \n",
            "<The, B, O>, <House, I, O>, <Energy, I, O>, <Committee, I, O>, <will, B, B>, <debate, I, I>, <the, B, B>, <issue, I, I>, <later, B, B>, <this, I, B>, <month, I, I>, <., O, O>, \n",
            "<Rep., B, O>, <Bill, I, O>, <McCollum, I, O>, <-LRB-, O, O>, <R., B, O>, <,, O, O>, <Fla., B, B>, <-RRB-, O, I>, <reports, B, B>, <that, B, B>, <these, B, B>, <included, B, I>, <20,000, B, B>, <to, I, B>, <30,000, I, B>, <Soviet, I, I>, <Central, I, O>, <Asian, I, O>, <KGB, I, O>, <Border, I, O>, <Guards, I, B>, <,, O, O>, <ethnically, B, B>, <indistinguishable, I, B>, <from, B, B>, <Afghans, B, B>, <and, O, O>, <wearing, B, B>, <unmarked, B, B>, <uniforms, I, B>, <., O, O>, \n",
            "<All, B, O>, <this, I, B>, <causes, B, I>, <Rep., B, B>, <Hyde, I, O>, <to, B, B>, <muse, I, B>, <about, B, B>, <an, B, B>, <alternate, I, I>, <way, I, B>, <to, B, B>, <drum, I, I>, <up, B, B>, <more, B, B>, <enthusiasm, I, I>, <., O, O>, \n",
            "<Judge, B, O>, <Masaaki, I, O>, <Yoneyama, I, O>, <told, B, B>, <the, B, B>, <Osaka, I, I>, <District, I, O>, <Court, I, O>, <Daikin, B, O>, <'s, B, B>, <``, I, I>, <responsibility, I, I>, <is, B, B>, <heavy, B, I>, <because, B, I>, <illegal, B, B>, <exports, I, I>, <lowered, B, B>, <international, B, B>, <trust, I, I>, <in, B, B>, <Japan, B, B>, <., O, O>, \n",
            "<New, B, O>, <York, I, O>, <Stock, I, O>, <Exchange, I, O>, <volume, I, I>, <was, B, B>, <a, B, B>, <heavy, I, I>, <224,070,000, I, I>, <shares, I, I>, <., O, O>, \n",
            "<UAL, B, O>, <was, B, B>, <watched, I, I>, <closely, B, B>, <and, O, I>, <traded, B, I>, <heavily, B, B>, <., O, O>, \n",
            "<Both, B, B>, <Citicorp, B, I>, <and, O, I>, <Manufacturers, B, I>, <Hanover, I, I>, <reported, B, B>, <earnings, B, B>, <yesterday, B, I>, <., O, O>, \n",
            "<The, B, O>, <Dow, I, O>, <Jones, I, O>, <Transportation, I, O>, <Average, I, B>, <fell, B, B>, <49.96, B, B>, <to, B, B>, <close, I, I>, <at, B, B>, <1254.27, B, B>, <., O, O>, \n",
            "<The, B, O>, <Amex, I, O>, <Market, I, O>, <Value, I, O>, <Index, I, O>, <fell, B, B>, <1.25, B, B>, <to, B, B>, <375.16, B, B>, <., O, O>, \n",
            "<Carnival, B, O>, <Cruise, I, O>, <Lines, I, O>, <Class, I, O>, <A, I, O>, <dropped, B, B>, <1, B, B>, <to, B, B>, <21, B, B>, <1\\/8, I, I>, <on, B, B>, <331,400, B, B>, <shares, I, I>, <., O, O>, \n",
            "<The, B, O>, <G-7, I, O>, <comprises, B, B>, <West, B, B>, <Germany, I, I>, <,, O, O>, <the, B, B>, <U.S., I, I>, <,, O, I>, <France, B, I>, <,, O, O>, <the, B, B>, <U.K., I, I>, <,, O, I>, <Italy, B, I>, <,, O, I>, <Canada, B, I>, <and, O, I>, <Japan, B, I>, <., O, O>, \n",
            "<P&G, B, B>, <already, B, B>, <sells, B, B>, <its, B, B>, <Folgers, I, I>, <ground, I, I>, <roast, I, I>, <coffee, I, B>, <to, B, B>, <food, B, I>, <service, I, B>, <concerns, I, I>, <,, B, O>, <but, I, B>, <not, I, I>, <to, B, I>, <as, B, I>, <many, I, B>, <markets, I, I>, <as, B, B>, <Maryland, B, B>, <Club, I, I>, <., O, O>, \n",
            "<Rep., B, O>, <Lee, I, O>, <Hamilton, I, O>, <-LRB-, O, B>, <D., B, B>, <,, O, O>, <Ind, B, B>, <., O, O>, \n",
            "<Both, B, B>, <Shearson, B, O>, <'s, B, B>, <Mr, I, I>, <., I, O>, \n"
          ],
          "name": "stdout"
        }
      ]
    },
    {
      "cell_type": "code",
      "metadata": {
        "id": "L01ScbH69CYa",
        "outputId": "eaef8ce1-37a1-491a-e682-cd64051f34e3",
        "colab": {
          "base_uri": "https://localhost:8080/",
          "height": 114
        }
      },
      "source": [
        "testset[0][0]"
      ],
      "execution_count": null,
      "outputs": [
        {
          "output_type": "execute_result",
          "data": {
            "text/plain": [
              "array(['Rockwell', 'International', 'Corp.', \"'s\", 'Tulsa', 'unit',\n",
              "       'said', 'it', 'signed', 'a', 'tentative', 'agreement', 'extending',\n",
              "       'its', 'contract', 'with', 'Boeing', 'Co.', 'to', 'provide',\n",
              "       'structural', 'parts', 'for', 'Boeing', \"'s\", '747', 'jetliners',\n",
              "       '.'], dtype='<U54')"
            ]
          },
          "metadata": {
            "tags": []
          },
          "execution_count": 124
        }
      ]
    }
  ]
}